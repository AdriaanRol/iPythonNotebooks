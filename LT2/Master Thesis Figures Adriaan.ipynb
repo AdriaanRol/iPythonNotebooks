{
 "metadata": {
  "name": ""
 },
 "nbformat": 3,
 "nbformat_minor": 0,
 "worksheets": [
  {
   "cells": [
    {
     "cell_type": "code",
     "collapsed": false,
     "input": [
      "import sys\n",
      "import os \n",
      "if os.name == 'posix':\n",
      "    meassdir = r'/Users/'+os.getlogin()+r'/Documents/teamdiamond/'\n",
      "else:\n",
      "    meassdir = r'd:/measuring/'\n",
      "\n",
      "sys.path.append(meassdir)\n",
      "sys.path.append(meassdir+'analysis')\n",
      "sys.path.append(meassdir+'analysis/scripts/QEC_data_analysis/fingerprints/')\n",
      "sys.path.append(meassdir+'analysis/scripts/QEC/MScThesisAdriaan/')\n",
      "\n",
      "sys.path\n",
      "%pylab inline"
     ],
     "language": "python",
     "metadata": {},
     "outputs": [
      {
       "output_type": "stream",
       "stream": "stdout",
       "text": [
        "Populating the interactive namespace from numpy and matplotlib\n"
       ]
      }
     ],
     "prompt_number": 1
    },
    {
     "cell_type": "code",
     "collapsed": false,
     "input": [
      "import dark_esr_analysis as desr\n",
      "from analysis.lib.tools import toolbox\n",
      "reload(desr)\n",
      "ax1 =desr.analyze_dark_esr(title ='',print_info = False)\n",
      "\n",
      "\n"
     ],
     "language": "python",
     "metadata": {},
     "outputs": [
      {
       "output_type": "stream",
       "stream": "stdout",
       "text": [
        "/Users/Adriaan/Documents/teamdiamond/data/20140730/182604_AdwinSSRO_SSROCalibration_Hans_sil1\n",
        "0.85"
       ]
      },
      {
       "output_type": "stream",
       "stream": "stdout",
       "text": [
        "\n",
        "1.02876001886\n",
        "k48\n",
        "121\n",
        "guess_ctr= 3.729849\n",
        "fitting with 1 splittings\n",
        "Converged with chi squared  0.0886128760184\n",
        "degrees of freedom, dof  116\n",
        "RMS of residuals (i.e. sqrt(chisq/dof))  0.0276388151629\n",
        "Reduced chisq (i.e. variance of residuals)  0.000763904103607\n",
        "\n",
        "fitted parameters at minimum, with 68% C.I.:\n",
        " 0 a              1.001887 +/-   0.002678\n",
        " 1 A              0.304657 +/-   0.015328\n",
        " 2 sigma          0.000259 +/-   0.000015\n",
        " 3 x0             3.730065 +/-   0.000011\n",
        " 4 s0             0.002176 +/-   0.000013\n",
        "\n",
        "correlation matrix:\n",
        "               a         A         sigma     x0        s0        \n",
        "         a  1.000000\n",
        "         A  0.128606  1.000000\n",
        "     sigma  0.206120 -0.523246  1.000000\n",
        "        x0  0.000398 -0.001191  0.002087  1.000000\n",
        "        s0  0.002085 -0.007154  0.011724 -0.000544  1.000000\n",
        "\n",
        "############################\n",
        "Population left  0.766670502647\n",
        "Population middle  0.000198094804859\n",
        "Population right  0.233131402548\n",
        "#############################\n"
       ]
      },
      {
       "metadata": {},
       "output_type": "display_data",
       "png": "[encoded data removed]",
       "text": [
        "<matplotlib.figure.Figure at 0x1087d92d0>"
       ]
      }
     ],
     "prompt_number": 72
    },
    {
     "cell_type": "code",
     "collapsed": false,
     "input": [
      "import dark_esr_analysis_2 as desr2\n",
      "reload (desr2)\n",
      "fit_res =desr2.analyze_2_desr(timestamps = ['20140730104012','20140730111621'],MBI= [False,True],title ='',print_info = False,            \n",
      "            figsize= (2.5,2),\n",
      "            fontsize = 8,\n",
      "            linewidth = .75,markersize =2,center_guess = False)\n"
     ],
     "language": "python",
     "metadata": {},
     "outputs": [
      {
       "output_type": "stream",
       "stream": "stdout",
       "text": [
        "0.85\n",
        "0.722525034859\n",
        "k18\n",
        "81\n",
        "guess_ctr= 3.729774\n",
        "fitting with 1 splittings\n",
        "Converged with chi squared  0.0435739530767\n",
        "degrees of freedom, dof  76\n",
        "RMS of residuals (i.e. sqrt(chisq/dof))  0.0239445502746\n",
        "Reduced chisq (i.e. variance of residuals)  0.000573341487852\n",
        "\n",
        "fitted parameters at minimum, with 68% C.I.:\n",
        " 0 a              0.977218 +/-   0.003165\n",
        " 1 A              0.304583 +/-   0.010660\n",
        " 2 sigma          0.000237 +/-   0.000010\n",
        " 3 x0             3.730067 +/-   0.000007\n",
        " 4 s0             0.002197 +/-   0.000008\n",
        "\n",
        "correlation matrix:\n",
        "               a         A         sigma     x0        s0        \n",
        "         a  1.000000\n",
        "         A  0.209915  1.000000\n",
        "     sigma  0.348549 -0.455922  1.000000\n",
        "        x0 -0.000000  0.000187 -0.000156  1.000000\n",
        "        s0  0.000000  0.000000 -0.000000 -0.000000  1.000000\n",
        "\n",
        "printing folder\n",
        "/Users/Adriaan/Documents/teamdiamond/data/20140730/111621_PulsarMBIElectronRabi_MBI_DESR_Hans_sil1_msm1\n",
        "0.85"
       ]
      },
      {
       "output_type": "stream",
       "stream": "stdout",
       "text": [
        "\n",
        "0.958296362023\n",
        "k46\n",
        "101\n",
        "guess_ctr= 3.731969\n",
        "Converged with chi squared  0.0854793297163\n",
        "degrees of freedom, dof  95\n",
        "RMS of residuals (i.e. sqrt(chisq/dof))  0.0299963734152\n",
        "Reduced chisq (i.e. variance of residuals)  0.000899782418066\n",
        "\n",
        "fitted parameters at minimum, with 68% C.I.:\n",
        " 0 A_min1         0.002964 +/-   0.017679\n",
        " 1 A_plus1        0.005963 +/-   0.017676\n",
        " 2 A_0            0.803591 +/-   0.020986\n",
        " 3 sigma          0.000173 +/-   0.000005\n",
        " 4 o              0.982158 +/-   0.003370\n",
        " 5 x0             3.730070 +/-   0.000004\n",
        "\n",
        "correlation matrix:\n",
        "               A_min1    A_plus1   A_0       sigma     o         x0        \n",
        "    A_min1  1.000000\n",
        "   A_plus1  0.072312  1.000000\n",
        "       A_0  0.031668  0.033068  1.000000\n",
        "     sigma  0.050353  0.047776 -0.540485  1.000000\n",
        "         o  0.269121  0.268648  0.112316  0.196255  1.000000\n",
        "        x0  0.000001  0.000002  0.000260 -0.000222  0.000000  1.000000\n",
        "\n",
        "test\n",
        "folder again"
       ]
      },
      {
       "output_type": "stream",
       "stream": "stdout",
       "text": [
        "\n",
        "/Users/Adriaan/Documents/teamdiamond/data/20140730/104012_PulsarDarkESR_Hans_sil1\n",
        "DarkESR_2.pdf\n",
        "Saved file in /Users/Adriaan/Documents/teamdiamond/data/20140730/111621_PulsarMBIElectronRabi_MBI_DESR_Hans_sil1_msm1"
       ]
      },
      {
       "output_type": "stream",
       "stream": "stdout",
       "text": [
        "\n"
       ]
      },
      {
       "metadata": {},
       "output_type": "display_data",
       "png": "[encoded data removed]",
       "text": [
        "<matplotlib.figure.Figure at 0x108f252d0>"
       ]
      }
     ],
     "prompt_number": 49
    },
    {
     "cell_type": "code",
     "collapsed": false,
     "input": [
      "execfile('analysis/scripts/mbi/mbi_dark_esr_analysis.py')"
     ],
     "language": "python",
     "metadata": {},
     "outputs": [
      {
       "ename": "IOError",
       "evalue": "[Errno 2] No such file or directory: 'analysis/scripts/mbi/mbi_dark_esr_analysis.py'",
       "output_type": "pyerr",
       "traceback": [
        "\u001b[0;31m---------------------------------------------------------------------------\u001b[0m\n\u001b[0;31mIOError\u001b[0m                                   Traceback (most recent call last)",
        "\u001b[0;32m<ipython-input-21-f4b1fb883a8e>\u001b[0m in \u001b[0;36m<module>\u001b[0;34m()\u001b[0m\n\u001b[0;32m----> 1\u001b[0;31m \u001b[0mexecfile\u001b[0m\u001b[0;34m(\u001b[0m\u001b[0;34m'analysis/scripts/mbi/mbi_dark_esr_analysis.py'\u001b[0m\u001b[0;34m)\u001b[0m\u001b[0;34m\u001b[0m\u001b[0m\n\u001b[0m",
        "\u001b[0;31mIOError\u001b[0m: [Errno 2] No such file or directory: 'analysis/scripts/mbi/mbi_dark_esr_analysis.py'"
       ]
      }
     ],
     "prompt_number": 21
    },
    {
     "cell_type": "markdown",
     "metadata": {},
     "source": [
      "## Fingerprint \n",
      "Fingerprint data of the ms+1 transition for N=32 pulses in the range 0 to 20us with carbon 1-4 added with lines\n",
      "\n",
      "Data required: \n",
      "\n",
      "* SSRO Calibartion: 20140419\\\\111949_AdwinSSRO_SSROCalibration_Hans_sil1\n",
      "* Fingerprint data timestamp: 20140419_233953\n",
      "\n"
     ]
    },
    {
     "cell_type": "code",
     "collapsed": false,
     "input": [
      "import fingerprint_analysis as FP; reload(FP)\n",
      "FP.fingerprint(N=16,disp_sim_spin=True,n_spins_to_disp = 4, disp_total_sig=False,\n",
      "               figsize= (6.7,1.3),fontsize = 8,showlegend = False,title ='',plot_contrast =True,ms = 1,tau_larmor_axis = True)"
     ],
     "language": "python",
     "metadata": {},
     "outputs": [
      {
       "output_type": "stream",
       "stream": "stdout",
       "text": [
        "tau larmor = 3.07162608137e-06\n",
        "Axes(0.125,0.125;0.775x0.775)"
       ]
      },
      {
       "output_type": "stream",
       "stream": "stdout",
       "text": [
        "\n",
        "[ 3.07162608  4.60743912  6.14325216  7.6790652   9.21487824]\n",
        "Figures saved in: /Users/Adriaan/Documents/teamdiamond/data/20140419/005744_DecouplingSequence_Fingerprint_Hans_sil116\n"
       ]
      },
      {
       "metadata": {},
       "output_type": "display_data",
       "png": "[encoded data removed]",
       "text": [
        "<matplotlib.figure.Figure at 0x107719350>"
       ]
      }
     ],
     "prompt_number": 2
    },
    {
     "cell_type": "code",
     "collapsed": false,
     "input": [
      "import fingerprint_analysis as FP; reload(FP)\n",
      "FP.fingerprint(N=32,disp_sim_spin=True,n_spins_to_disp = 4, disp_total_sig=False,\n",
      "               figsize= (6.7,1.3),fontsize = 8,showlegend = False,title ='',plot_contrast =True,ms =1 ,tau_larmor_axis = True)"
     ],
     "language": "python",
     "metadata": {},
     "outputs": [
      {
       "output_type": "stream",
       "stream": "stdout",
       "text": [
        "tau larmor = 3.07162608137e-06\n",
        "Axes(0.125,0.125;0.775x0.775)"
       ]
      },
      {
       "output_type": "stream",
       "stream": "stdout",
       "text": [
        "\n",
        "[ 3.07162608  4.60743912  6.14325216  7.6790652   9.21487824]\n",
        "Figures saved in: /Users/Adriaan/Documents/teamdiamond/data/20140419/233953_DecouplingSequence_Fingerprint_Hans_sil132\n"
       ]
      },
      {
       "metadata": {},
       "output_type": "display_data",
       "png": "[encoded data removed]",
       "text": [
        "<matplotlib.figure.Figure at 0x1090ffdd0>"
       ]
      }
     ],
     "prompt_number": 4
    },
    {
     "cell_type": "markdown",
     "metadata": {},
     "source": [
      "##Carbon Ramsey \n",
      "Ramsey experiment where two sines are superimposed. This is the ramsey without "
     ]
    },
    {
     "cell_type": "code",
     "collapsed": false,
     "input": [
      "import carbon_ramsey as CR; reload(CR)"
     ],
     "language": "python",
     "metadata": {},
     "outputs": [
      {
       "metadata": {},
       "output_type": "pyout",
       "prompt_number": 2,
       "text": [
        "<module 'carbon_ramsey' from '/Users/Adriaan/Documents/teamdiamond/analysis/scripts/QEC/MScThesisAdriaan/carbon_ramsey.pyc'>"
       ]
      }
     ],
     "prompt_number": 2
    },
    {
     "cell_type": "markdown",
     "metadata": {},
     "source": [
      "#### Carbon 1"
     ]
    },
    {
     "cell_type": "code",
     "collapsed": false,
     "input": [
      "reload(CR)\n",
      "ax = CR.CosineSum_MBI_data(timestamp='20140708163858', \n",
      "            ssro_calib_timestamp = '20140710183144',\n",
      "            frequency = [325e3,371e3],\n",
      "            plot_fit = True, do_print = True, show_guess = False,print_info=False,\n",
      "            figsize= (2.5,2),\n",
      "            fontsize = 8, \n",
      "            linewidth = 0.5,\n",
      "            savename = 'CarbonRamsey_C1')"
     ],
     "language": "python",
     "metadata": {},
     "outputs": [
      {
       "output_type": "stream",
       "stream": "stdout",
       "text": [
        "0.0\n",
        "5e-05\n",
        "Converged with chi squared  0.0597921471805\n",
        "degrees of freedom, dof  94\n",
        "RMS of residuals (i.e. sqrt(chisq/dof))  0.0252207587541\n",
        "Reduced chisq (i.e. variance of residuals)  0.000636086672133\n",
        "\n",
        "fitted parameters at minimum, with 68% C.I.:\n",
        " 0 avg            0.491323 +/-   0.002512\n",
        " 1 A             -0.415469 +/-   0.007343\n",
        " 2 f_a        325807.906793 +/- 248.008131\n",
        " 3 phi_a         -0.657021 +/-   2.332920\n",
        " 4 B             -0.453564 +/-   0.007340\n",
        " 5 f_b        364409.490278 +/- 224.357825\n",
        " 6 phi_b         -0.901340 +/-   2.109926\n",
        "\n",
        "correlation matrix:\n",
        "               avg       A         f_a       phi_a     B         f_b       phi_b     \n",
        "       avg  1.000000\n",
        "         A  0.017623  1.000000\n",
        "       f_a  0.022310  0.042620  1.000000\n",
        "     phi_a -0.030470 -0.036554 -0.902911  1.000000\n",
        "         B  0.002381  0.155628 -0.159477  0.176350  1.000000\n",
        "       f_b  0.006326  0.192955  0.385102 -0.308200 -0.013115  1.000000\n",
        "     phi_b -0.018859 -0.210295 -0.307183  0.271902  0.005411 -0.901295  1.000000\n",
        "\n",
        "Writting to File!\n",
        "path joined\n",
        "Writing fit results to file (fit_results.txt) at (/Users/Adriaan/Documents/teamdiamond/data/20140708/163858_CarbonRamsey_Hans_sil1) succesfull\n"
       ]
      },
      {
       "metadata": {},
       "output_type": "display_data",
       "png": "[encoded data removed]",
       "text": [
        "<matplotlib.figure.Figure at 0x107d24810>"
       ]
      }
     ],
     "prompt_number": 3
    },
    {
     "cell_type": "markdown",
     "metadata": {},
     "source": [
      "#### Carbon 4 "
     ]
    },
    {
     "cell_type": "code",
     "collapsed": false,
     "input": [
      "reload(CR)\n",
      "ax = CR.CosineSum_MBI_data(timestamp='20140710223617', \n",
      "            ssro_calib_timestamp = '20140710183144',\n",
      "            frequency = [325e3,371e3],\n",
      "            plot_fit = True, do_print = True, show_guess = False,print_info = False,\n",
      "            figsize= (2.5,2),\n",
      "            fontsize = 8,\n",
      "            linewidth = 0.5,markersize =2,\n",
      "            savename = 'CarbonRamsey_C4')"
     ],
     "language": "python",
     "metadata": {},
     "outputs": [
      {
       "output_type": "stream",
       "stream": "stdout",
       "text": [
        "0.0\n",
        "5e-05\n",
        "Converged with chi squared  0.0210518835544\n",
        "degrees of freedom, dof  34\n",
        "RMS of residuals (i.e. sqrt(chisq/dof))  0.0248831880136\n",
        "Reduced chisq (i.e. variance of residuals)  0.000619173045719\n",
        "\n",
        "fitted parameters at minimum, with 68% C.I.:\n",
        " 0 avg            0.511365 +/-   0.003898\n",
        " 1 A             -0.372085 +/-   0.011398\n",
        " 2 f_a        325937.983159 +/- 400.300671\n",
        " 3 phi_a          7.134336 +/-   3.923548\n",
        " 4 B             -0.374472 +/-   0.011373\n",
        " 5 f_b        371524.566441 +/- 392.399087\n",
        " 6 phi_b          9.274127 +/-   3.800536\n",
        "\n",
        "correlation matrix:\n",
        "               avg       A         f_a       phi_a     B         f_b       phi_b     \n",
        "       avg  1.000000\n",
        "         A  0.018915  1.000000\n",
        "       f_a  0.042370 -0.031677  1.000000\n",
        "     phi_a -0.045833 -0.000151 -0.896730  1.000000\n",
        "         B  0.004956  0.049314 -0.206871  0.168557  1.000000\n",
        "       f_b  0.060776  0.263273 -0.097810 -0.010003  0.087985  1.000000\n",
        "     phi_b -0.059620 -0.232407 -0.010635  0.100008 -0.061073 -0.893263  1.000000\n",
        "\n",
        "Writting to File!\n",
        "path joined\n",
        "Writing fit results to file (fit_results.txt) at (/Users/Adriaan/Documents/teamdiamond/data/20140710/223617_CarbonRamsey_Hans_sil1) succesfull\n"
       ]
      },
      {
       "metadata": {},
       "output_type": "display_data",
       "png": "[encoded data removed]",
       "text": [
        "<matplotlib.figure.Figure at 0x107faa7d0>"
       ]
      }
     ],
     "prompt_number": 4
    },
    {
     "cell_type": "markdown",
     "metadata": {},
     "source": [
      "## Tomography\n",
      "#### 1 qubit initialization\n"
     ]
    },
    {
     "cell_type": "code",
     "collapsed": false,
     "input": [],
     "language": "python",
     "metadata": {},
     "outputs": []
    },
    {
     "cell_type": "markdown",
     "metadata": {},
     "source": [
      "####2 qubit initialization "
     ]
    },
    {
     "cell_type": "markdown",
     "metadata": {},
     "source": [
      "#### 2 qubit Parity"
     ]
    },
    {
     "cell_type": "code",
     "collapsed": false,
     "input": [
      "from analysis.scripts.QEC import Two_Qubit_Tomography as Tomo2\n",
      "reload(Tomo2)\n",
      "a=Tomo2.BarPlotTomo()\n"
     ],
     "language": "python",
     "metadata": {},
     "outputs": [
      {
       "output_type": "stream",
       "stream": "stdout",
       "text": [
        "['XI' 'YI' 'ZI' 'IX' 'IY' 'IZ' 'XX' 'XY' 'XZ' 'YX' 'YY' 'YZ' 'ZX' 'ZY' 'ZZ']\n",
        "Figure has not been saved."
       ]
      },
      {
       "output_type": "stream",
       "stream": "stdout",
       "text": [
        "\n"
       ]
      },
      {
       "metadata": {},
       "output_type": "display_data",
       "png": "[encoded data removed]",
       "text": [
        "<matplotlib.figure.Figure at 0x107e0b210>"
       ]
      }
     ],
     "prompt_number": 58
    },
    {
     "cell_type": "markdown",
     "metadata": {},
     "source": [
      "#### 2 qubit post-selected parity"
     ]
    },
    {
     "cell_type": "code",
     "collapsed": false,
     "input": [
      "from analysis.scripts.QEC import Two_Qubit_Tomography as Tomo\n",
      "reload(Tomo)\n",
      "a=Tomo.BarPlotTomo(post_select=False,title = 'Tomogr1222212aphy test')"
     ],
     "language": "python",
     "metadata": {},
     "outputs": [
      {
       "output_type": "stream",
       "stream": "stdout",
       "text": [
        "['XI' 'YI' 'ZI' 'IX' 'IY' 'IZ' 'XX' 'XY' 'XZ' 'YX' 'YY' 'YZ' 'ZX' 'ZY' 'ZZ']\n"
       ]
      },
      {
       "metadata": {},
       "output_type": "display_data",
       "png": "[encoded data removed]",
       "text": [
        "<matplotlib.figure.Figure at 0x103d408d0>"
       ]
      }
     ],
     "prompt_number": 59
    },
    {
     "cell_type": "code",
     "collapsed": false,
     "input": [
      "from analysis.scripts.QEC import Two_Qubit_Tomography as Tomo\n",
      "reload(Tomo)\n",
      "a=Tomo.BarPlotTomo(post_select=True, title = 'Tomotest ')"
     ],
     "language": "python",
     "metadata": {},
     "outputs": [
      {
       "metadata": {},
       "output_type": "display_data",
       "png": "[encoded data removed]",
       "text": [
        "<matplotlib.figure.Figure at 0x108508590>"
       ]
      },
      {
       "metadata": {},
       "output_type": "display_data",
       "png": "[encoded data removed]",
       "text": [
        "<matplotlib.figure.Figure at 0x107908d90>"
       ]
      }
     ],
     "prompt_number": 62
    },
    {
     "cell_type": "markdown",
     "metadata": {},
     "source": [
      "#### Hyperfine paralel components\n",
      "Quick test of how scaling should be to get linearly seperated peaks"
     ]
    },
    {
     "cell_type": "code",
     "collapsed": false,
     "input": [
      "import numpy as np\n",
      "A = (np.arange(50.)*4*1e3)\n",
      "B = 300\n",
      "gamma_C = 1070.5 #Hz/G \n",
      "k =2\n",
      "A_orth = 10000\n",
      "#print A "
     ],
     "language": "python",
     "metadata": {},
     "outputs": [],
     "prompt_number": 4
    },
    {
     "cell_type": "code",
     "collapsed": false,
     "input": [
      "tau = (np.pi*(2*k+1))/ (2*B*gamma_C+A)\n",
      "Delta = A_orth /(2*(gamma_C*B)**2)*1e9\n",
      "# print 'Delta' \n",
      "# print Delta\n",
      "# print 'tau'\n",
      "# print (tau[0:-2]-tau[1:-1])*1e9\n",
      "# print tau\n",
      "print (gamma_C*B)"
     ],
     "language": "python",
     "metadata": {},
     "outputs": [
      {
       "output_type": "stream",
       "stream": "stdout",
       "text": [
        "321150.0\n"
       ]
      }
     ],
     "prompt_number": 5
    },
    {
     "cell_type": "code",
     "collapsed": false,
     "input": [
      "import matplotlib.pyplot as plt\n",
      "plt.plot(A,tau)\n"
     ],
     "language": "python",
     "metadata": {},
     "outputs": [
      {
       "metadata": {},
       "output_type": "pyout",
       "prompt_number": 7,
       "text": [
        "[<matplotlib.lines.Line2D at 0x10a8f5bd0>]"
       ]
      },
      {
       "metadata": {},
       "output_type": "display_data",
       "png": "[encoded data removed]",
       "text": [
        "<matplotlib.figure.Figure at 0x107ad8610>"
       ]
      }
     ],
     "prompt_number": 7
    },
    {
     "cell_type": "markdown",
     "metadata": {},
     "source": [
      "## Bloch sphere illustrations"
     ]
    },
    {
     "cell_type": "code",
     "collapsed": false,
     "input": [
      "from qutip import *\n",
      "from scipy import *\n",
      "import numpy as  np "
     ],
     "language": "python",
     "metadata": {},
     "outputs": [],
     "prompt_number": 3
    },
    {
     "cell_type": "markdown",
     "metadata": {},
     "source": [
      "Electron starts in |0> carbon starts in mixed state. "
     ]
    },
    {
     "cell_type": "code",
     "collapsed": false,
     "input": [
      "up = basis(2,0)\n",
      "dn = basis(2,1)\n",
      "ketX = (up+dn)/np.sqrt(2)\n",
      "\n",
      "rho_up = up*up.dag()\n",
      "rho_dn = dn*dn.dag()\n",
      "\n",
      "rho_C = 0.5*qeye(2)\n",
      "rho_initial = tensor(rho_up,rho_C)"
     ],
     "language": "python",
     "metadata": {},
     "outputs": [],
     "prompt_number": 5
    },
    {
     "cell_type": "markdown",
     "metadata": {},
     "source": [
      "Yielding the following density matrix "
     ]
    },
    {
     "cell_type": "code",
     "collapsed": false,
     "input": [
      "rho_initial\n"
     ],
     "language": "python",
     "metadata": {},
     "outputs": [
      {
       "latex": [
        "Quantum object: dims = [[2, 2], [2, 2]], shape = [4, 4], type = oper, isherm = True\\begin{equation*}\\left(\\begin{array}{*{11}c}0.500 & 0.0 & 0.0 & 0.0\\\\0.0 & 0.500 & 0.0 & 0.0\\\\0.0 & 0.0 & 0.0 & 0.0\\\\0.0 & 0.0 & 0.0 & 0.0\\\\\\end{array}\\right)\\end{equation*}"
       ],
       "metadata": {},
       "output_type": "pyout",
       "prompt_number": 6,
       "text": [
        "Quantum object: dims = [[2, 2], [2, 2]], shape = [4, 4], type = oper, isherm = True\n",
        "Qobj data =\n",
        "[[ 0.5  0.   0.   0. ]\n",
        " [ 0.   0.5  0.   0. ]\n",
        " [ 0.   0.   0.   0. ]\n",
        " [ 0.   0.   0.   0. ]]"
       ]
      }
     ],
     "prompt_number": 6
    },
    {
     "cell_type": "markdown",
     "metadata": {},
     "source": [
      "In order to initialize, the \n"
     ]
    },
    {
     "cell_type": "code",
     "collapsed": false,
     "input": [
      "Rxp = (-1j*sigmax()+qeye(2))/np.sqrt(2)\n",
      "Rxm = (1j*sigmax()+qeye(2))/np.sqrt(2)\n",
      "Ryp = (-1j*sigmay()+qeye(2))/np.sqrt(2)\n",
      "# C_pX = qutip.tensor((qutip.basis(2,1)*qutip.basis(2,1).dag())\n",
      "Rxp"
     ],
     "language": "python",
     "metadata": {},
     "outputs": [
      {
       "latex": [
        "Quantum object: dims = [[2], [2]], shape = [2, 2], type = oper, isherm = False\\begin{equation*}\\left(\\begin{array}{*{11}c}0.707 & -0.707j\\\\-0.707j & 0.707\\\\\\end{array}\\right)\\end{equation*}"
       ],
       "metadata": {},
       "output_type": "pyout",
       "prompt_number": 56,
       "text": [
        "Quantum object: dims = [[2], [2]], shape = [2, 2], type = oper, isherm = False\n",
        "Qobj data =\n",
        "[[ 0.70710678+0.j          0.00000000-0.70710678j]\n",
        " [ 0.00000000-0.70710678j  0.70710678+0.j        ]]"
       ]
      }
     ],
     "prompt_number": 56
    },
    {
     "cell_type": "code",
     "collapsed": false,
     "input": [
      "Ren = qutip.tensor(rho_up,Rxp)+qutip.tensor(rho_dn,Rxm)\n",
      "Rxp_el = qutip.tensor(Rxp,qutip.qeye(2))\n",
      "Ryp_el = qutip.tensor(Ryp,qutip.qeye(2))\n"
     ],
     "language": "python",
     "metadata": {},
     "outputs": [],
     "prompt_number": 57
    },
    {
     "cell_type": "code",
     "collapsed": false,
     "input": [
      "print Rxp_el "
     ],
     "language": "python",
     "metadata": {},
     "outputs": [
      {
       "output_type": "stream",
       "stream": "stdout",
       "text": [
        "Quantum object: dims = [[2, 2], [2, 2]], shape = [4, 4], type = oper, isherm = False\n",
        "Qobj data =\n",
        "[[ 0.  0. -1.  0.]\n",
        " [ 0.  0.  0. -1.]\n",
        " [ 1.  0.  0.  0.]\n",
        " [ 0.  1.  0.  0.]]\n"
       ]
      }
     ],
     "prompt_number": 55
    },
    {
     "cell_type": "code",
     "collapsed": false,
     "input": [
      "rho_initial\n",
      "# Rxp_el = qutip.tensor(qeye(2),Rxp)\n",
      "\n"
     ],
     "language": "python",
     "metadata": {},
     "outputs": [
      {
       "latex": [
        "Quantum object: dims = [[2, 2], [2, 2]], shape = [4, 4], type = oper, isherm = True\\begin{equation*}\\left(\\begin{array}{*{11}c}0.500 & 0.0 & 0.0 & 0.0\\\\0.0 & 0.500 & 0.0 & 0.0\\\\0.0 & 0.0 & 0.0 & 0.0\\\\0.0 & 0.0 & 0.0 & 0.0\\\\\\end{array}\\right)\\end{equation*}"
       ],
       "metadata": {},
       "output_type": "pyout",
       "prompt_number": 50,
       "text": [
        "Quantum object: dims = [[2, 2], [2, 2]], shape = [4, 4], type = oper, isherm = True\n",
        "Qobj data =\n",
        "[[ 0.5  0.   0.   0. ]\n",
        " [ 0.   0.5  0.   0. ]\n",
        " [ 0.   0.   0.   0. ]\n",
        " [ 0.   0.   0.   0. ]]"
       ]
      }
     ],
     "prompt_number": 50
    },
    {
     "cell_type": "code",
     "collapsed": false,
     "input": [
      "seq = Ryp_el*Ren*Rxp_el"
     ],
     "language": "python",
     "metadata": {},
     "outputs": [],
     "prompt_number": 58
    },
    {
     "cell_type": "code",
     "collapsed": false,
     "input": [
      "seq*rho_initial*seq.dag()"
     ],
     "language": "python",
     "metadata": {},
     "outputs": [
      {
       "latex": [
        "Quantum object: dims = [[2, 2], [2, 2]], shape = [4, 4], type = oper, isherm = True\\begin{equation*}\\left(\\begin{array}{*{11}c}0.250 & -0.250 & 0.0 & 0.0\\\\-0.250 & 0.250 & 0.0 & 0.0\\\\0.0 & 0.0 & 0.250 & 0.250\\\\0.0 & 0.0 & 0.250 & 0.250\\\\\\end{array}\\right)\\end{equation*}"
       ],
       "metadata": {},
       "output_type": "pyout",
       "prompt_number": 59,
       "text": [
        "Quantum object: dims = [[2, 2], [2, 2]], shape = [4, 4], type = oper, isherm = True\n",
        "Qobj data =\n",
        "[[ 0.25 -0.25  0.    0.  ]\n",
        " [-0.25  0.25  0.    0.  ]\n",
        " [ 0.    0.    0.25  0.25]\n",
        " [ 0.    0.    0.25  0.25]]"
       ]
      }
     ],
     "prompt_number": 59
    },
    {
     "cell_type": "markdown",
     "metadata": {},
     "source": [
      "Projecting onto the basis (0,X),(1,X),(0,-X),(1,-X)"
     ]
    },
    {
     "cell_type": "code",
     "collapsed": false,
     "input": [
      "rho_init_np = np.array([[1,0,0,0],\n",
      "         [0,1,0,0],\n",
      "         [0,0,0,0],\n",
      "         [0,0,0,0]])/2.\n",
      "print rho_init_np"
     ],
     "language": "python",
     "metadata": {},
     "outputs": [
      {
       "output_type": "stream",
       "stream": "stdout",
       "text": [
        "[[ 0.5  0.   0.   0. ]\n",
        " [ 0.   0.5  0.   0. ]\n",
        " [ 0.   0.   0.   0. ]\n",
        " [ 0.   0.   0.   0. ]]\n"
       ]
      }
     ],
     "prompt_number": 246
    },
    {
     "cell_type": "code",
     "collapsed": false,
     "input": [
      "(-1j*np.pi*sigmax()/2).expm()"
     ],
     "language": "python",
     "metadata": {},
     "outputs": [
      {
       "latex": [
        "Quantum object: dims = [[2], [2]], shape = [2, 2], type = oper, isherm = False\\begin{equation*}\\left(\\begin{array}{*{11}c}0.0 & -1.0j\\\\-1.0j & 0.0\\\\\\end{array}\\right)\\end{equation*}"
       ],
       "metadata": {},
       "output_type": "pyout",
       "prompt_number": 256,
       "text": [
        "Quantum object: dims = [[2], [2]], shape = [2, 2], type = oper, isherm = False\n",
        "Qobj data =\n",
        "[[ 0.+0.j  0.-1.j]\n",
        " [ 0.-1.j  0.+0.j]]"
       ]
      }
     ],
     "prompt_number": 256
    },
    {
     "cell_type": "code",
     "collapsed": false,
     "input": [
      "expm?"
     ],
     "language": "python",
     "metadata": {},
     "outputs": [],
     "prompt_number": 258
    },
    {
     "cell_type": "code",
     "collapsed": false,
     "input": [],
     "language": "python",
     "metadata": {},
     "outputs": [],
     "prompt_number": 104
    },
    {
     "cell_type": "code",
     "collapsed": false,
     "input": [],
     "language": "python",
     "metadata": {},
     "outputs": [],
     "prompt_number": 104
    },
    {
     "cell_type": "code",
     "collapsed": false,
     "input": [
      "def pauli():\n",
      "    '''Define pauli spin matrices'''\n",
      "    identity = qutip.qeye(2)\n",
      "    sx = qutip.sigmax()/2\n",
      "    sy = qutip.sigmay()/2\n",
      "    sz = qutip.sigmaz()/2\n",
      "    return identity, sx, sy, sz"
     ],
     "language": "python",
     "metadata": {},
     "outputs": [],
     "prompt_number": 92
    },
    {
     "cell_type": "code",
     "collapsed": false,
     "input": [
      "def basic_spin_rotations():\n",
      "    ''' define some simple spin rotations'''\n",
      "    X = (-1j*sx*np.pi).expm();   mX = (1j*sx*np.pi).expm()\n",
      "    Y = (-1j*sy*np.pi).expm();   mY = (1j*sy*np.pi).expm()\n",
      "    Z = (-1j*sz*np.pi).expm();   mZ = (1j*sz*np.pi).expm()\n",
      "    x = (-1j*sx*np.pi/2).expm(); mx = (1j*sx*np.pi/2).expm()\n",
      "    y = (-1j*sy*np.pi/2).expm(); my = (1j*sy*np.pi/2).expm()\n",
      "    z = (-1j*sz*np.pi/2).expm(); mz = (1j*sz*np.pi/2).expm()\n",
      "    return X,Y,Z,x,y,z,mX,mY,mZ,mx,my,mz"
     ],
     "language": "python",
     "metadata": {},
     "outputs": [],
     "prompt_number": 93
    },
    {
     "cell_type": "code",
     "collapsed": false,
     "input": [
      "identity, sx, sy, sz= pauli()\n",
      "X,Y,Z,x,y,z,mX,mY,mZ,mx,my,mz = basic_spin_rotations()"
     ],
     "language": "python",
     "metadata": {},
     "outputs": [],
     "prompt_number": 99
    },
    {
     "cell_type": "code",
     "collapsed": false,
     "input": [
      "mX"
     ],
     "language": "python",
     "metadata": {},
     "outputs": [
      {
       "latex": [
        "Quantum object: dims = [[2], [2]], shape = [2, 2], type = oper, isherm = False\\begin{equation*}\\left(\\begin{array}{*{11}c}0.0 & 1.0j\\\\1.0j & 0.0\\\\\\end{array}\\right)\\end{equation*}"
       ],
       "metadata": {},
       "output_type": "pyout",
       "prompt_number": 101,
       "text": [
        "Quantum object: dims = [[2], [2]], shape = [2, 2], type = oper, isherm = False\n",
        "Qobj data =\n",
        "[[ 0.+0.j  0.+1.j]\n",
        " [ 0.+1.j  0.+0.j]]"
       ]
      }
     ],
     "prompt_number": 101
    },
    {
     "cell_type": "code",
     "collapsed": false,
     "input": [
      "sx, sy, sz = qubit_integrate(w, theta, gamma1, gamma2, psi0, tlist)"
     ],
     "language": "python",
     "metadata": {},
     "outputs": [],
     "prompt_number": 76
    },
    {
     "cell_type": "code",
     "collapsed": false,
     "input": [
      "x = (-1j*sx*np.pi/2).expm();   mx = (1j*sx*np.pi/2).expm()"
     ],
     "language": "python",
     "metadata": {},
     "outputs": [],
     "prompt_number": 102
    },
    {
     "cell_type": "code",
     "collapsed": false,
     "input": [
      "x"
     ],
     "language": "python",
     "metadata": {},
     "outputs": [
      {
       "latex": [
        "Quantum object: dims = [[2], [2]], shape = [2, 2], type = oper, isherm = False\\begin{equation*}\\left(\\begin{array}{*{11}c}0.707 & -0.707j\\\\-0.707j & 0.707\\\\\\end{array}\\right)\\end{equation*}"
       ],
       "metadata": {},
       "output_type": "pyout",
       "prompt_number": 103,
       "text": [
        "Quantum object: dims = [[2], [2]], shape = [2, 2], type = oper, isherm = False\n",
        "Qobj data =\n",
        "[[ 0.70710678+0.j          0.00000000-0.70710678j]\n",
        " [ 0.00000000-0.70710678j  0.70710678+0.j        ]]"
       ]
      }
     ],
     "prompt_number": 103
    },
    {
     "cell_type": "code",
     "collapsed": false,
     "input": [
      "mx"
     ],
     "language": "python",
     "metadata": {},
     "outputs": [
      {
       "latex": [
        "Quantum object: dims = [[2], [2]], shape = [2, 2], type = oper, isherm = False\\begin{equation*}\\left(\\begin{array}{*{11}c}0.707 & 0.707j\\\\0.707j & 0.707\\\\\\end{array}\\right)\\end{equation*}"
       ],
       "metadata": {},
       "output_type": "pyout",
       "prompt_number": 104,
       "text": [
        "Quantum object: dims = [[2], [2]], shape = [2, 2], type = oper, isherm = False\n",
        "Qobj data =\n",
        "[[ 0.70710678+0.j          0.00000000+0.70710678j]\n",
        " [ 0.00000000+0.70710678j  0.70710678+0.j        ]]"
       ]
      }
     ],
     "prompt_number": 104
    },
    {
     "cell_type": "code",
     "collapsed": false,
     "input": [],
     "language": "python",
     "metadata": {},
     "outputs": []
    }
   ],
   "metadata": {}
  }
 ]
}