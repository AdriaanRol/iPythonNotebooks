{
 "metadata": {
  "name": ""
 },
 "nbformat": 3,
 "nbformat_minor": 0,
 "worksheets": [
  {
   "cells": [
    {
     "cell_type": "code",
     "collapsed": false,
     "input": [
      "import sys\n",
      "import os \n",
      "if os.name == 'posix':\n",
      "    meassdir = r'/Users/'+os.getlogin()+r'/Documents/teamdiamond/'\n",
      "else:\n",
      "    meassdir = r'd:/measuring/'\n",
      "\n",
      "sys.path.append(meassdir)\n",
      "sys.path.append(meassdir+'analysis')\n",
      "sys.path.append(meassdir+'analysis/scripts/QEC_data_analysis/fingerprints/')\n",
      "sys.path.append(meassdir+'analysis/scripts/QEC/MScThesisAdriaan/')\n",
      "\n",
      "sys.path\n",
      "%pylab inline"
     ],
     "language": "python",
     "metadata": {},
     "outputs": [
      {
       "output_type": "stream",
       "stream": "stdout",
       "text": [
        "Populating the interactive namespace from numpy and matplotlib\n"
       ]
      }
     ],
     "prompt_number": 1
    },
    {
     "cell_type": "markdown",
     "metadata": {},
     "source": [
      "### Nitrogen MBI DESR"
     ]
    },
    {
     "cell_type": "code",
     "collapsed": false,
     "input": [
      "import dark_esr_analysis_2 as desr2\n",
      "reload (desr2)\n",
      "fit_res =desr2.analyze_2_desr(timestamps = ['20140730104012','20140730111621'],MBI= [False,True],title ='',print_info = False,            \n",
      "            figsize= (2.5,2),\n",
      "            fontsize = 8,\n",
      "            linewidth = .75,markersize =2,center_guess = False)\n"
     ],
     "language": "python",
     "metadata": {},
     "outputs": [
      {
       "ename": "ImportError",
       "evalue": "No module named dark_esr_analysis_2",
       "output_type": "pyerr",
       "traceback": [
        "\u001b[0;31m---------------------------------------------------------------------------\u001b[0m\n\u001b[0;31mImportError\u001b[0m                               Traceback (most recent call last)",
        "\u001b[0;32m<ipython-input-1-9825db0258ee>\u001b[0m in \u001b[0;36m<module>\u001b[0;34m()\u001b[0m\n\u001b[0;32m----> 1\u001b[0;31m \u001b[0;32mimport\u001b[0m \u001b[0mdark_esr_analysis_2\u001b[0m \u001b[0;32mas\u001b[0m \u001b[0mdesr2\u001b[0m\u001b[0;34m\u001b[0m\u001b[0m\n\u001b[0m\u001b[1;32m      2\u001b[0m \u001b[0mreload\u001b[0m \u001b[0;34m(\u001b[0m\u001b[0mdesr2\u001b[0m\u001b[0;34m)\u001b[0m\u001b[0;34m\u001b[0m\u001b[0m\n\u001b[1;32m      3\u001b[0m fit_res =desr2.analyze_2_desr(timestamps = ['20140730104012','20140730111621'],MBI= [False,True],title ='',print_info = False,            \n\u001b[1;32m      4\u001b[0m             \u001b[0mfigsize\u001b[0m\u001b[0;34m=\u001b[0m \u001b[0;34m(\u001b[0m\u001b[0;36m2.5\u001b[0m\u001b[0;34m,\u001b[0m\u001b[0;36m2\u001b[0m\u001b[0;34m)\u001b[0m\u001b[0;34m,\u001b[0m\u001b[0;34m\u001b[0m\u001b[0m\n\u001b[1;32m      5\u001b[0m             \u001b[0mfontsize\u001b[0m \u001b[0;34m=\u001b[0m \u001b[0;36m8\u001b[0m\u001b[0;34m,\u001b[0m\u001b[0;34m\u001b[0m\u001b[0m\n",
        "\u001b[0;31mImportError\u001b[0m: No module named dark_esr_analysis_2"
       ]
      }
     ],
     "prompt_number": 1
    },
    {
     "cell_type": "markdown",
     "metadata": {},
     "source": [
      "## Fingerprint \n",
      "Fingerprint data of the ms+1 transition for N=32 pulses in the range 0 to 20us with carbon 1-4 added with lines\n",
      "\n",
      "Data required: \n",
      "\n",
      "* SSRO Calibartion: 20140419\\\\111949_AdwinSSRO_SSROCalibration_Hans_sil1\n",
      "* Fingerprint data timestamp: 20140419_233953\n",
      "\n"
     ]
    },
    {
     "cell_type": "code",
     "collapsed": false,
     "input": [
      "import fingerprint_analysis as FP; reload(FP)\n",
      "FP.fingerprint(N=16,disp_sim_spin=True,n_spins_to_disp = 4, disp_total_sig=False,\n",
      "               figsize= (6.7,1.3),fontsize = 8,showlegend = False,title ='',plot_contrast =True,ms = 1,tau_larmor_axis = True)"
     ],
     "language": "python",
     "metadata": {},
     "outputs": [
      {
       "output_type": "stream",
       "stream": "stdout",
       "text": [
        "tau larmor = 3.07162608137e-06\n",
        "Axes(0.125,0.125;0.775x0.775)"
       ]
      },
      {
       "output_type": "stream",
       "stream": "stdout",
       "text": [
        "\n",
        "[ 3.07162608  4.60743912  6.14325216  7.6790652   9.21487824]\n",
        "Figures saved in: /Users/Adriaan/Documents/teamdiamond/data/20140419/005744_DecouplingSequence_Fingerprint_Hans_sil116\n"
       ]
      },
      {
       "metadata": {},
       "output_type": "display_data",
       "png": "[encoded data removed]",
       "text": [
        "<matplotlib.figure.Figure at 0x10885c4d0>"
       ]
      }
     ],
     "prompt_number": 3
    },
    {
     "cell_type": "code",
     "collapsed": false,
     "input": [
      "import fingerprint_analysis as FP; reload(FP)\n",
      "FP.fingerprint(N=32,disp_sim_spin=True,n_spins_to_disp = 4, disp_total_sig=False,\n",
      "               figsize= (6.7,1.3),fontsize = 8,showlegend = False,title ='',plot_contrast =True,ms =1 ,tau_larmor_axis = True)"
     ],
     "language": "python",
     "metadata": {},
     "outputs": [
      {
       "output_type": "stream",
       "stream": "stdout",
       "text": [
        "tau larmor = 3.07162608137e-06\n",
        "Axes(0.125,0.125;0.775x0.775)"
       ]
      },
      {
       "output_type": "stream",
       "stream": "stdout",
       "text": [
        "\n",
        "[ 3.07162608  4.60743912  6.14325216  7.6790652   9.21487824]\n",
        "Figures saved in: /Users/Adriaan/Documents/teamdiamond/data/20140419/233953_DecouplingSequence_Fingerprint_Hans_sil132\n"
       ]
      },
      {
       "metadata": {},
       "output_type": "display_data",
       "png": "[encoded data removed]",
       "text": [
        "<matplotlib.figure.Figure at 0x1088934d0>"
       ]
      }
     ],
     "prompt_number": 7
    },
    {
     "cell_type": "markdown",
     "metadata": {},
     "source": [
      "##Unininitialized Carbon Ramsey \n",
      "Ramsey experiment where two cosines are superimposed. This is the ramsey without initialization"
     ]
    },
    {
     "cell_type": "code",
     "collapsed": false,
     "input": [
      "import carbon_ramsey as CR; reload(CR)"
     ],
     "language": "python",
     "metadata": {},
     "outputs": [
      {
       "metadata": {},
       "output_type": "pyout",
       "prompt_number": 2,
       "text": [
        "<module 'carbon_ramsey' from '/Users/Adriaan/Documents/teamdiamond/analysis/scripts/QEC/MScThesisAdriaan/carbon_ramsey.pyc'>"
       ]
      }
     ],
     "prompt_number": 2
    },
    {
     "cell_type": "markdown",
     "metadata": {},
     "source": [
      "#### Carbon 1"
     ]
    },
    {
     "cell_type": "code",
     "collapsed": false,
     "input": [
      "reload(CR)\n",
      "ax = CR.CosineSum_MBI_data(timestamp='20140708163858', \n",
      "            ssro_calib_timestamp = '20140710183144',\n",
      "            frequency = [325e3,371e3],\n",
      "            plot_fit = True, do_print = True, show_guess = False,print_info=False,\n",
      "            figsize= (2.5,2),\n",
      "            fontsize = 8, \n",
      "            linewidth = 1,\n",
      "            capsize = 2, \n",
      "            savename = 'CarbonRamsey_C1')"
     ],
     "language": "python",
     "metadata": {},
     "outputs": [
      {
       "output_type": "stream",
       "stream": "stdout",
       "text": [
        "0.0\n",
        "5e-05\n",
        "Converged with chi squared  0.0597921471805\n",
        "degrees of freedom, dof  94\n",
        "RMS of residuals (i.e. sqrt(chisq/dof))  0.0252207587541\n",
        "Reduced chisq (i.e. variance of residuals)  0.000636086672133\n",
        "\n",
        "fitted parameters at minimum, with 68% C.I.:\n",
        " 0 avg            0.491323 +/-   0.002512\n",
        " 1 A             -0.415469 +/-   0.007343\n",
        " 2 f_a        325807.906793 +/- 248.008131\n",
        " 3 phi_a         -0.657021 +/-   2.332920\n",
        " 4 B             -0.453564 +/-   0.007340\n",
        " 5 f_b        364409.490278 +/- 224.357825\n",
        " 6 phi_b         -0.901340 +/-   2.109926\n",
        "\n",
        "correlation matrix:\n",
        "               avg       A         f_a       phi_a     B         f_b       phi_b     \n",
        "       avg  1.000000\n",
        "         A  0.017623  1.000000\n",
        "       f_a  0.022310  0.042620  1.000000\n",
        "     phi_a -0.030470 -0.036554 -0.902911  1.000000\n",
        "         B  0.002381  0.155628 -0.159477  0.176350  1.000000\n",
        "       f_b  0.006326  0.192955  0.385102 -0.308200 -0.013115  1.000000\n",
        "     phi_b -0.018859 -0.210295 -0.307183  0.271902  0.005411 -0.901295  1.000000\n",
        "\n",
        "Writting to File!\n",
        "path joined\n",
        "Writing fit results to file (fit_results.txt) at (/Users/Adriaan/Documents/teamdiamond/data/20140708/163858_CarbonRamsey_Hans_sil1) succesfull\n"
       ]
      },
      {
       "metadata": {},
       "output_type": "display_data",
       "png": "[encoded data removed]",
       "text": [
        "<matplotlib.figure.Figure at 0x106f9ea10>"
       ]
      }
     ],
     "prompt_number": 3
    },
    {
     "cell_type": "markdown",
     "metadata": {},
     "source": [
      "#### Carbon 4 "
     ]
    },
    {
     "cell_type": "code",
     "collapsed": false,
     "input": [
      "reload(CR)\n",
      "ax = CR.CosineSum_MBI_data(timestamp='20140710223617', \n",
      "            ssro_calib_timestamp = '20140710183144',\n",
      "            frequency = [325e3,371e3],\n",
      "            plot_fit = True, do_print = True, show_guess = False,print_info = False,\n",
      "            figsize= (2.5,2),\n",
      "            fontsize = 8,\n",
      "            linewidth = 1,markersize =2,capsize = 2, \n",
      "            savename = 'CarbonRamsey_C4')"
     ],
     "language": "python",
     "metadata": {},
     "outputs": [
      {
       "output_type": "stream",
       "stream": "stdout",
       "text": [
        "0.0\n",
        "5e-05\n",
        "Converged with chi squared  0.0210518835544\n",
        "degrees of freedom, dof  34\n",
        "RMS of residuals (i.e. sqrt(chisq/dof))  0.0248831880136\n",
        "Reduced chisq (i.e. variance of residuals)  0.000619173045719\n",
        "\n",
        "fitted parameters at minimum, with 68% C.I.:\n",
        " 0 avg            0.511365 +/-   0.003898\n",
        " 1 A             -0.372085 +/-   0.011398\n",
        " 2 f_a        325937.983159 +/- 400.300671\n",
        " 3 phi_a          7.134336 +/-   3.923548\n",
        " 4 B             -0.374472 +/-   0.011373\n",
        " 5 f_b        371524.566441 +/- 392.399087\n",
        " 6 phi_b          9.274127 +/-   3.800536\n",
        "\n",
        "correlation matrix:\n",
        "               avg       A         f_a       phi_a     B         f_b       phi_b     \n",
        "       avg  1.000000\n",
        "         A  0.018915  1.000000\n",
        "       f_a  0.042370 -0.031677  1.000000\n",
        "     phi_a -0.045833 -0.000151 -0.896730  1.000000\n",
        "         B  0.004956  0.049314 -0.206871  0.168557  1.000000\n",
        "       f_b  0.060776  0.263273 -0.097810 -0.010003  0.087985  1.000000\n",
        "     phi_b -0.059620 -0.232407 -0.010635  0.100008 -0.061073 -0.893263  1.000000\n",
        "\n",
        "Writting to File!\n",
        "path joined\n",
        "Writing fit results to file (fit_results.txt) at (/Users/Adriaan/Documents/teamdiamond/data/20140710/223617_CarbonRamsey_Hans_sil1) succesfull\n"
       ]
      },
      {
       "metadata": {},
       "output_type": "display_data",
       "png": "[encoded data removed]",
       "text": [
        "<matplotlib.figure.Figure at 0x107e8b910>"
       ]
      }
     ],
     "prompt_number": 88
    },
    {
     "cell_type": "code",
     "collapsed": false,
     "input": [
      "B =304.12\n",
      "gamma_C = 1.0705e3\n",
      "omega_L = gamma_C *B \n",
      "print 'expected omega_L %s' %omega_L \n",
      "\n",
      "f = 325.787e3\n",
      "f = 325807\n",
      "uf = 400\n",
      "uf = 248\n",
      "B_est = f /gamma_C\n",
      "uB = uf/gamma_C\n",
      "print 'estimated B-field %s +- %s' %(B_est,uB)"
     ],
     "language": "python",
     "metadata": {},
     "outputs": [
      {
       "output_type": "stream",
       "stream": "stdout",
       "text": [
        "expected omega_L 325560.46\n",
        "estimated B-field 304.350303596 +- 0.231667445119\n"
       ]
      }
     ],
     "prompt_number": 68
    },
    {
     "cell_type": "markdown",
     "metadata": {},
     "source": [
      "    Estimation for omega_tilde \n",
      "   "
     ]
    },
    {
     "cell_type": "code",
     "collapsed": false,
     "input": [
      "omega_L_msm = 325.787e3\n",
      "A_par = 30e3\n",
      "A_orth = 80e3 \n",
      "\n",
      "omega_t_m1 = 364409.490278\n",
      "omega_t =  np.sqrt((A_par+omega_L_msm)**2 + A_orth**2)\n",
      "print 'omega_t measured C1: %s' %omega_t_m1\n",
      "print 'omega_t expected C1: %s' %omega_t\n",
      "\n",
      "omega_L_msm = 325.787e3\n",
      "A_par = 45.1e3\n",
      "A_orth = 20e3\n",
      "\n",
      "omega_t_m4 = 371524\n",
      "omega_t =  np.sqrt((A_par+omega_L_msm)**2 + A_orth**2)\n",
      "\n",
      "print 'omega_t measured C4: %s' %omega_t_m4\n",
      "print 'omega_t expected C4: %s' %omega_t\n",
      "\n"
     ],
     "language": "python",
     "metadata": {},
     "outputs": [
      {
       "output_type": "stream",
       "stream": "stdout",
       "text": [
        "omega_t measured C1: 364409.490278\n",
        "omega_t expected C1: 364670.247441\n",
        "omega_t measured C4: 371524\n",
        "omega_t expected C4: 371425.856355\n"
       ]
      }
     ],
     "prompt_number": 69
    },
    {
     "cell_type": "markdown",
     "metadata": {},
     "source": [
      "### Carbon Ramsey T2*\n",
      "Still uninitialized. Decoupling during oscillation. "
     ]
    },
    {
     "cell_type": "markdown",
     "metadata": {},
     "source": [
      "#### Carbon 1"
     ]
    },
    {
     "cell_type": "code",
     "collapsed": false,
     "input": [
      "# from analysis.scripts.QEC import carbon_ramsey_analysis as cr\n",
      "#Uses May data because later some coherence was lost\n",
      "import carbon_ramsey_analysis as crT2\n",
      "reload(crT2)\n",
      "fr =crT2.Carbon_Ramsey(timestamp='20140519_141514',ssro_calib_timestamp= '20140519_093902',savename= 'Carbon1_T2star',\n",
      "                     frequency = 200, offset = 0.5, amplitude = 0.5,  decay_constant = .008 ,xticks = [0,5e-3,10e-3,15e-3],\n",
      "                     figsize = (2.5,2),fontsize = 8,            \n",
      "                     linewidth = 1,markersize =2,\n",
      "                     phase =0, plot_fit = True, do_print = True, show_guess =False,print_info = False) "
     ],
     "language": "python",
     "metadata": {},
     "outputs": [
      {
       "output_type": "stream",
       "stream": "stdout",
       "text": [
        "/Users/Adriaan/Documents/teamdiamond/data/20140519/093902_AdwinSSRO_SSROCalibration_Hans_sil1\n",
        "a"
       ]
      },
      {
       "output_type": "stream",
       "stream": "stdout",
       "text": [
        "\n",
        "Converged with chi squared  0.00699162724357\n",
        "degrees of freedom, dof  18\n",
        "RMS of residuals (i.e. sqrt(chisq/dof))  0.0197084686304\n",
        "Reduced chisq (i.e. variance of residuals)  0.000388423735754\n",
        "\n",
        "fitted parameters at minimum, with 68% C.I.:\n",
        " 0 a              0.483614 +/-   0.004109\n",
        " 1 A              0.463994 +/-   0.018867\n",
        " 2 T              0.009852 +/-   0.000387\n",
        " 3 n              1.827876 +/-   0.190524\n",
        " 4 f            202.895926 +/-   1.149856\n",
        " 5 phi            9.781374 +/-   2.078183\n",
        "\n",
        "correlation matrix:\n",
        "               a         A         T         n         f         phi       \n",
        "         a  1.000000\n",
        "         A  0.081772  1.000000\n",
        "         T -0.043045 -0.743055  1.000000\n",
        "         n -0.077673 -0.721812  0.532200  1.000000\n",
        "         f -0.162600 -0.188199  0.138684  0.140514  1.000000\n",
        "       phi  0.196625  0.234844 -0.172639 -0.176529 -0.798606  1.000000\n",
        "\n",
        "fitfunction: a + A * exp(-((x-x0)/T )**n*cos(2pi *(f*x+phi/360) )\n",
        "b\n",
        "c\n"
       ]
      },
      {
       "metadata": {},
       "output_type": "display_data",
       "png": "[encoded data removed]",
       "text": [
        "<matplotlib.figure.Figure at 0x10631a950>"
       ]
      }
     ],
     "prompt_number": 5
    },
    {
     "cell_type": "markdown",
     "metadata": {},
     "source": [
      "#### Carbon 4 "
     ]
    },
    {
     "cell_type": "code",
     "collapsed": false,
     "input": [
      "reload(crT2)\n",
      "# timestamp='20140519_183105',ssro_calib_timestamp= '20140519_093902' #Uses May data because later some coherence was lost\n",
      "fr =crT2.Carbon_Ramsey(timestamp='20140519_183105',ssro_calib_timestamp= '20140519_093902',savename= 'Carbon4_T2star',\n",
      "                     frequency = 500, offset = 0.5, amplitude = 0.5,  decay_constant = .008 ,xticks = [0,2e-3,4e-3,6e-3,8e-3],\n",
      "                     figsize = (2.5,2),fontsize = 8,            \n",
      "                     linewidth = 1,markersize =2,\n",
      "                     phase =0, plot_fit = True, do_print = True, show_guess = False,print_info=False)"
     ],
     "language": "python",
     "metadata": {},
     "outputs": [
      {
       "output_type": "stream",
       "stream": "stdout",
       "text": [
        "/Users/Adriaan/Documents/teamdiamond/data/20140519/093902_AdwinSSRO_SSROCalibration_Hans_sil1\n",
        "a"
       ]
      },
      {
       "output_type": "stream",
       "stream": "stdout",
       "text": [
        "\n",
        "Converged with chi squared  0.00854451679041\n",
        "degrees of freedom, dof  17\n",
        "RMS of residuals (i.e. sqrt(chisq/dof))  0.0224191577614\n",
        "Reduced chisq (i.e. variance of residuals)  0.00050261863473\n",
        "\n",
        "fitted parameters at minimum, with 68% C.I.:\n",
        " 0 a              0.481690 +/-   0.004705\n",
        " 1 A              0.414049 +/-   0.014092\n",
        " 2 T              0.006679 +/-   0.000223\n",
        " 3 n              2.307635 +/-   0.307874\n",
        " 4 f            504.764322 +/-   1.968093\n",
        " 5 phi            1.211387 +/-   2.290404\n",
        "\n",
        "correlation matrix:\n",
        "               a         A         T         n         f         phi       \n",
        "         a  1.000000\n",
        "         A -0.063502  1.000000\n",
        "         T  0.011420 -0.467453  1.000000\n",
        "         n  0.051424 -0.629924  0.064094  1.000000\n",
        "         f -0.050596 -0.043139  0.000418  0.045331  1.000000\n",
        "       phi  0.083498  0.045454 -0.009394 -0.040271 -0.816990  1.000000\n",
        "\n",
        "fitfunction: a + A * exp(-((x-x0)/T )**n*cos(2pi *(f*x+phi/360) )\n",
        "b\n",
        "c\n"
       ]
      },
      {
       "metadata": {},
       "output_type": "display_data",
       "png": "[encoded data removed]",
       "text": [
        "<matplotlib.figure.Figure at 0x10477f790>"
       ]
      }
     ],
     "prompt_number": 6
    },
    {
     "cell_type": "markdown",
     "metadata": {},
     "source": [
      "#### Electron $T_2^*$"
     ]
    },
    {
     "cell_type": "code",
     "collapsed": false,
     "input": [
      "reload(crT2)\n",
      "fr =crT2.Carbon_Ramsey(timestamp='20140324_170355',ssro_calib_timestamp= '20140519_093902',savename= 'electron_T2star',\n",
      "                     frequency = 0.001006963, offset = 0.5, amplitude = 0.5,  decay_constant = 4e3, xticks = [0,2e3,4e3,6e3,8e3,10e3],\n",
      "                     figsize = (2.5,2),fontsize = 8,scale_x_axis = 1e-3, x_units='$\\mu$s',\n",
      "                     linewidth = 1,markersize =2,\n",
      "                     phase =0, plot_fit = True, do_print = True, show_guess = False,print_info=False)"
     ],
     "language": "python",
     "metadata": {},
     "outputs": [
      {
       "output_type": "stream",
       "stream": "stdout",
       "text": [
        "/Users/Adriaan/Documents/teamdiamond/data/20140519/093902_AdwinSSRO_SSROCalibration_Hans_sil1\n",
        "a"
       ]
      },
      {
       "output_type": "stream",
       "stream": "stdout",
       "text": [
        "\n",
        "Converged with chi squared  0.0542681920396\n",
        "degrees of freedom, dof  75\n",
        "RMS of residuals (i.e. sqrt(chisq/dof))  0.0268993660494\n",
        "Reduced chisq (i.e. variance of residuals)  0.000723575893862\n",
        "\n",
        "fitted parameters at minimum, with 68% C.I.:\n",
        " 0 a              0.498433 +/-   0.002997\n",
        " 1 A              0.437901 +/-   0.013158\n",
        " 2 T           4540.837870 +/- 142.487215\n",
        " 3 n              1.814043 +/-   0.143048\n",
        " 4 f              0.001007 +/-   0.000002\n",
        " 5 phi           -1.792962 +/-   1.738158\n",
        "\n",
        "correlation matrix:\n",
        "               a         A         T         n         f         phi       \n",
        "         a  1.000000\n",
        "         A -0.031883  1.000000\n",
        "         T  0.020310 -0.708951  1.000000\n",
        "         n  0.028907 -0.670384  0.496576  1.000000\n",
        "         f -0.052459 -0.042572  0.030362  0.028502  1.000000\n",
        "       phi  0.064757  0.053967 -0.038492 -0.036155 -0.791438  1.000000\n",
        "\n",
        "fitfunction: a + A * exp(-((x-x0)/T )**n*cos(2pi *(f*x+phi/360) )\n",
        "b\n",
        "c\n"
       ]
      },
      {
       "metadata": {},
       "output_type": "display_data",
       "png": "[encoded data removed]",
       "text": [
        "<matplotlib.figure.Figure at 0x107e8a450>"
       ]
      }
     ],
     "prompt_number": 7
    },
    {
     "cell_type": "code",
     "collapsed": false,
     "input": [],
     "language": "python",
     "metadata": {},
     "outputs": [
      {
       "metadata": {},
       "output_type": "pyout",
       "prompt_number": 20,
       "text": [
        "1"
       ]
      }
     ],
     "prompt_number": 20
    },
    {
     "cell_type": "markdown",
     "metadata": {},
     "source": [
      "## Tomography\n",
      "#### 1 qubit initialization and readout demonstration \n"
     ]
    },
    {
     "cell_type": "code",
     "collapsed": false,
     "input": [
      "import Single_qubit_tomography as tomo\n",
      "reload(tomo)\n",
      "Result=tomo.OneQubitTomo(timestamp = '20140718_120306',  fixed = [], plot_fit = True, show_guess = False, do_print = True, \n",
      "                             frequency =[1./360,1./360,1./360],  offset =[0.5,0.5,0.5], \n",
      "                             amplitude = [0.5,0.5,0.5],  phase =[0,90,0],\n",
      "                             xticks = [0,90,180,270,360],savename ='RO_and_init_C1_X'  ,                  \n",
      "                             figsize = (2.5,2),fontsize = 8,            \n",
      "                             linewidth = 1,markersize =2,show_legend=False)\n"
     ],
     "language": "python",
     "metadata": {},
     "outputs": [
      {
       "output_type": "stream",
       "stream": "stdout",
       "text": [
        "************************************************************\n",
        "X Tomography\n",
        "folder /Users/Adriaan/Documents/teamdiamond/data/20140718/115928_CarbonRamseyInitialised_Hans_sil1\n",
        "0.00277777777778"
       ]
      },
      {
       "output_type": "stream",
       "stream": "stdout",
       "text": [
        "\n",
        "Converged with chi squared  0.0129850207962\n",
        "degrees of freedom, dof  17\n",
        "RMS of residuals (i.e. sqrt(chisq/dof))  0.0276373796282\n",
        "Reduced chisq (i.e. variance of residuals)  0.000763824752715\n",
        "\n",
        "fitted parameters at minimum, with 68% C.I.:\n",
        " 0 f              0.002788 +/-   0.000033\n",
        " 1 a              0.517726 +/-   0.006718\n",
        " 2 A              0.400570 +/-   0.008464\n",
        " 3 phi           -3.604181 +/-   2.845663\n",
        "\n",
        "correlation matrix:\n",
        "               f         a         A         phi       \n",
        "         f  1.000000\n",
        "         a -0.387048  1.000000\n",
        "         A  0.082194 -0.214225  1.000000\n",
        "       phi -0.892631  0.385294 -0.035027  1.000000\n",
        "\n",
        "Writting to File!\n",
        "path joined\n",
        "Writing fit results to file (fit_results.txt) at (/Users/Adriaan/Documents/teamdiamond/data/20140718/115928_CarbonRamseyInitialised_Hans_sil1) succesfull\n",
        "************************************************************\n",
        "Y Tomography\n",
        "folder /Users/Adriaan/Documents/teamdiamond/data/20140718/120120_CarbonRamseyInitialised_Hans_sil1\n",
        "Figure has not been saved."
       ]
      },
      {
       "output_type": "stream",
       "stream": "stdout",
       "text": [
        "\n",
        "0.00277777777778\n",
        "Converged with chi squared  0.00775307165665\n",
        "degrees of freedom, dof  17\n",
        "RMS of residuals (i.e. sqrt(chisq/dof))  0.0213556324801\n",
        "Reduced chisq (i.e. variance of residuals)  0.000456063038627\n",
        "\n",
        "fitted parameters at minimum, with 68% C.I.:\n",
        " 0 f              0.002773 +/-   0.000018\n",
        " 1 a              0.520674 +/-   0.004842\n",
        " 2 A              0.412833 +/-   0.006937\n",
        " 3 phi           86.744936 +/-   1.625976\n",
        "\n",
        "correlation matrix:\n",
        "               f         a         A         phi       \n",
        "         f  1.000000\n",
        "         a  0.156493  1.000000\n",
        "         A  0.021345  0.093715  1.000000\n",
        "       phi -0.831645 -0.022412 -0.064610  1.000000\n",
        "\n",
        "Writting to File!\n",
        "path joined\n",
        "Writing fit results to file (fit_results.txt) at (/Users/Adriaan/Documents/teamdiamond/data/20140718/120120_CarbonRamseyInitialised_Hans_sil1) succesfull\n",
        "************************************************************\n",
        "Z Tomography\n",
        "folder /Users/Adriaan/Documents/teamdiamond/data/20140718/120306_CarbonRamseyInitialised_Hans_sil1\n",
        "Figure has not been saved."
       ]
      },
      {
       "output_type": "stream",
       "stream": "stdout",
       "text": [
        "\n",
        "0.00277777777778\n",
        "Converged with chi squared  0.0157137642101\n",
        "degrees of freedom, dof  17\n",
        "RMS of residuals (i.e. sqrt(chisq/dof))  0.030402945107\n",
        "Reduced chisq (i.e. variance of residuals)  0.000924339071181\n",
        "\n",
        "fitted parameters at minimum, with 68% C.I.:\n",
        " 0 f              0.002218 +/-   0.000767\n",
        " 1 a              0.630422 +/-   0.007449\n",
        " 2 A             -0.017572 +/-   0.009414\n",
        " 3 phi           69.884568 +/-  57.310288\n",
        "\n",
        "correlation matrix:\n",
        "               f         a         A         phi       \n",
        "         f  1.000000\n",
        "         a  0.453788  1.000000\n",
        "         A -0.124340 -0.040935  1.000000\n",
        "       phi -0.843775 -0.369848  0.116083  1.000000\n",
        "\n",
        "Writting to File!\n",
        "path joined\n",
        "Writing fit results to file (fit_results.txt) at (/Users/Adriaan/Documents/teamdiamond/data/20140718/120306_CarbonRamseyInitialised_Hans_sil1) succesfull\n",
        "fitfunction: A * cos(2pi * (f*x + phi/360) ) + a\n"
       ]
      },
      {
       "metadata": {},
       "output_type": "display_data",
       "png": "[encoded data removed]",
       "text": [
        "<matplotlib.figure.Figure at 0x107d36ed0>"
       ]
      }
     ],
     "prompt_number": 2
    },
    {
     "cell_type": "code",
     "collapsed": false,
     "input": [
      "import Single_qubit_tomography as tomo\n",
      "reload(tomo)\n",
      "Result=tomo.OneQubitTomo(timestamp = '20140718_134959',  fixed = [], plot_fit = True, show_guess = False, do_print = True, \n",
      "                             frequency =[1./360,1./360,1./360],  offset =[0.5,0.5,0.5], \n",
      "                             amplitude = [0.5,0.5,0.5],  phase =[0,90,0],\n",
      "                             xticks = [0,90,180,270,360],savename ='RO_and_init_C1_Z'  ,                  \n",
      "                             figsize = (2.5,2),fontsize = 8,            \n",
      "                             linewidth = 1,markersize =2,show_legend=False)\n"
     ],
     "language": "python",
     "metadata": {},
     "outputs": [
      {
       "output_type": "stream",
       "stream": "stdout",
       "text": [
        "************************************************************\n",
        "X Tomography\n",
        "folder /Users/Adriaan/Documents/teamdiamond/data/20140718/134556_CarbonRamseyInitialised_Hans_sil1\n",
        "0.00277777777778"
       ]
      },
      {
       "output_type": "stream",
       "stream": "stdout",
       "text": [
        "\n",
        "Converged with chi squared  0.0108296231877\n",
        "degrees of freedom, dof  17\n",
        "RMS of residuals (i.e. sqrt(chisq/dof))  0.0252395851412\n",
        "Reduced chisq (i.e. variance of residuals)  0.000637036658098\n",
        "\n",
        "fitted parameters at minimum, with 68% C.I.:\n",
        " 0 f              0.002777 +/-   0.000091\n",
        " 1 a              0.551796 +/-   0.005957\n",
        " 2 A             -0.117932 +/-   0.007873\n",
        " 3 phi          -69.004546 +/-   7.783696\n",
        "\n",
        "correlation matrix:\n",
        "               f         a         A         phi       \n",
        "         f  1.000000\n",
        "         a  0.315434  1.000000\n",
        "         A -0.054814 -0.175753  1.000000\n",
        "       phi -0.865204 -0.209661  0.099155  1.000000\n",
        "\n",
        "Writting to File!\n",
        "path joined\n",
        "Writing fit results to file (fit_results.txt) at (/Users/Adriaan/Documents/teamdiamond/data/20140718/134556_CarbonRamseyInitialised_Hans_sil1) succesfull\n",
        "************************************************************\n",
        "Y Tomography\n",
        "folder /Users/Adriaan/Documents/teamdiamond/data/20140718/134759_CarbonRamseyInitialised_Hans_sil1\n",
        "Figure has not been saved."
       ]
      },
      {
       "output_type": "stream",
       "stream": "stdout",
       "text": [
        "\n",
        "0.00277777777778\n",
        "Converged with chi squared  0.0101976752736\n",
        "degrees of freedom, dof  17\n",
        "RMS of residuals (i.e. sqrt(chisq/dof))  0.0244921058994\n",
        "Reduced chisq (i.e. variance of residuals)  0.000599863251388\n",
        "\n",
        "fitted parameters at minimum, with 68% C.I.:\n",
        " 0 f              0.002790 +/-   0.000082\n",
        " 1 a              0.550319 +/-   0.005637\n",
        " 2 A             -0.112835 +/-   0.007811\n",
        " 3 phi           20.660064 +/-   7.469122\n",
        "\n",
        "correlation matrix:\n",
        "               f         a         A         phi       \n",
        "         f  1.000000\n",
        "         a  0.226378  1.000000\n",
        "         A -0.030990 -0.136610  1.000000\n",
        "       phi -0.855227 -0.280343 -0.026353  1.000000\n",
        "\n",
        "Writting to File!\n",
        "path joined\n",
        "Writing fit results to file (fit_results.txt) at (/Users/Adriaan/Documents/teamdiamond/data/20140718/134759_CarbonRamseyInitialised_Hans_sil1) succesfull\n",
        "************************************************************\n",
        "Z Tomography\n",
        "folder /Users/Adriaan/Documents/teamdiamond/data/20140718/134959_CarbonRamseyInitialised_Hans_sil1\n",
        "Figure has not been saved."
       ]
      },
      {
       "output_type": "stream",
       "stream": "stdout",
       "text": [
        "\n",
        "0.00277777777778\n",
        "Converged with chi squared  0.00318781928652\n",
        "degrees of freedom, dof  17\n",
        "RMS of residuals (i.e. sqrt(chisq/dof))  0.0136937497261\n",
        "Reduced chisq (i.e. variance of residuals)  0.00018751878156\n",
        "\n",
        "fitted parameters at minimum, with 68% C.I.:\n",
        " 0 f              0.003870 +/-   0.000399\n",
        " 1 a              0.929952 +/-   0.003077\n",
        " 2 A              0.015530 +/-   0.004068\n",
        " 3 phi          -10.247531 +/-  34.544573\n",
        "\n",
        "correlation matrix:\n",
        "               f         a         A         phi       \n",
        "         f  1.000000\n",
        "         a -0.086546  1.000000\n",
        "         A -0.036418  0.056229  1.000000\n",
        "       phi -0.875043  0.181416  0.056008  1.000000\n",
        "\n",
        "Writting to File!\n",
        "path joined\n",
        "Writing fit results to file (fit_results.txt) at (/Users/Adriaan/Documents/teamdiamond/data/20140718/134959_CarbonRamseyInitialised_Hans_sil1) succesfull\n",
        "fitfunction: A * cos(2pi * (f*x + phi/360) ) + a\n"
       ]
      },
      {
       "metadata": {},
       "output_type": "display_data",
       "png": "[encoded data removed]",
       "text": [
        "<matplotlib.figure.Figure at 0x107d22b90>"
       ]
      }
     ],
     "prompt_number": 3
    },
    {
     "cell_type": "markdown",
     "metadata": {},
     "source": [
      "## 2 Qubit Tomographies"
     ]
    },
    {
     "cell_type": "markdown",
     "metadata": {},
     "source": [
      "####2 qubit initialization \n",
      "This is a 'new' measurement. This means that all phases are correct and no flips need to be applied "
     ]
    },
    {
     "cell_type": "code",
     "collapsed": false,
     "input": [
      "import two_qubit_tomography as Tomo2\n",
      "reload(Tomo2)\n",
      "a=Tomo2.BarPlotTomo(timestamp = '20140810_122740',title='',savename ='uu-init')"
     ],
     "language": "python",
     "metadata": {},
     "outputs": [
      {
       "output_type": "stream",
       "stream": "stdout",
       "text": [
        "SSRO folder found: 20140810122325\n",
        "Post select = False\n",
        "Post select = False ROC\n",
        "Converting fidelity to contrast"
       ]
      },
      {
       "output_type": "stream",
       "stream": "stdout",
       "text": [
        "\n",
        "Y as calculated by function\n",
        "[ 0.13115787 -0.1258662   0.72080131  0.08328084 -0.01751291  0.77623787\n",
        "  0.07320146 -0.03263198  0.10091974  0.0580824  -0.02759229 -0.1838226\n",
        "  0.05304271 -0.07798916  0.67040443]\n",
        "Y as calculated by hand\n",
        "[ 0.13115787 -0.1258662   0.72080131  0.08328084 -0.01751291  0.77623787\n",
        "  0.07320146 -0.03263198  0.10091974  0.0580824  -0.02759229 -0.1838226\n",
        "  0.05304271 -0.07798916  0.67040443]\n",
        "difference\n",
        "[ 0.  0.  0.  0.  0.  0.  0.  0.  0.  0.  0.  0.  0.  0.  0.]\n",
        "['XI' 'YI' 'ZI' 'IX' 'IY' 'IZ' 'XX' 'XY' 'XZ' 'YX' 'YY' 'YZ' 'ZX' 'ZY' 'ZZ']"
       ]
      },
      {
       "output_type": "stream",
       "stream": "stdout",
       "text": [
        "\n"
       ]
      },
      {
       "metadata": {},
       "output_type": "display_data",
       "png": "[encoded data removed]",
       "text": [
        "<matplotlib.figure.Figure at 0x1061f90d0>"
       ]
      }
     ],
     "prompt_number": 4
    },
    {
     "cell_type": "markdown",
     "metadata": {},
     "source": [
      "### 2 qubit Parity\n",
      "\n",
      "In the analysis for 2 qubit tomographies some data points are inverted. \n",
      "This is because when the results were measured it was overlooked that when the number of decoupling units is not divisible by 4 an extra z-rotation is applied to the electron. This leads some data points to be inverted. These data points are listed in the mirror data points argument of the analysis function. \n",
      "\n",
      "The problem is with carbon-1, in the experiments below carbon B. Whenever an Ren gate is applied to the carbon it does a $\\pi$-rotation on the electron. \n",
      "#### Initialization \n",
      "The preparation is done using a swap gate so independent of the electron RO result the state will be initialized in up $|0\\rangle$. \n",
      "Therefore there is no error in the initialization. \n",
      "#### Parity Measurement, Initialization into... \n",
      "For the parity experiment the state is supposed to be initialized into XX. Because a pi-phase is applied to the electron reading out 0 actually corresponds to initializing into -XX parity. \n",
      "This affects the grey bars corresponding to the initial state. \n",
      "\n",
      "As we read out in the pauli basis it is important to know what state we initialize into. \n",
      "\n"
     ]
    },
    {
     "cell_type": "code",
     "collapsed": false,
     "input": [
      "import qutip as qt\n",
      "from analysis.lib.QEC import nuclear_spin_control as sc\n"
     ],
     "language": "python",
     "metadata": {},
     "outputs": [],
     "prompt_number": 5
    },
    {
     "cell_type": "code",
     "collapsed": false,
     "input": [
      "sx = sc.sx\n",
      "up = qt.basis(2,0) \n",
      "dn = qt.basis(2,1) \n",
      "uu = qt.tensor(up,up)\n",
      "ud = qt.tensor(up,dn)\n",
      "du = qt.tensor(dn,up)\n",
      "dd = qt.tensor(dn,dn)\n",
      "\n",
      "rho_uu = uu*uu.dag()\n",
      "rho_dd = dn*dn.dag()\n",
      "XX = qt.tensor(2*sx,2*sx)\n",
      "ls = XX.eigenstates() #ls contains the eigenvalues of XX in ls[0], ls[1] contains the four eigenstates.\n",
      "ud"
     ],
     "language": "python",
     "metadata": {},
     "outputs": [
      {
       "latex": [
        "Quantum object: dims = [[2, 2], [1, 1]], shape = [4, 1], type = ket\\begin{equation*}\\left(\\begin{array}{*{11}c}0.0\\\\1.0\\\\0.0\\\\0.0\\\\\\end{array}\\right)\\end{equation*}"
       ],
       "metadata": {},
       "output_type": "pyout",
       "prompt_number": 10,
       "text": [
        "Quantum object: dims = [[2, 2], [1, 1]], shape = [4, 1], type = ket\n",
        "Qobj data =\n",
        "[[ 0.]\n",
        " [ 1.]\n",
        " [ 0.]\n",
        " [ 0.]]"
       ]
      }
     ],
     "prompt_number": 10
    },
    {
     "cell_type": "markdown",
     "metadata": {},
     "source": [
      "The eigenstates of the XX measurements are degenerate. \n",
      "\n",
      "There are two eigenstates with eigenvalue -1: \n",
      "$|00\\rangle-|11\\rangle$ and $|10\\rangle-|01\\rangle$\n",
      "\n",
      "and two with eigenvalue +1: \n",
      "$|00\\rangle+|11\\rangle$ and $|10\\rangle+|01\\rangle$"
     ]
    },
    {
     "cell_type": "code",
     "collapsed": false,
     "input": [
      "ls[1][0]*ls[1][0].dag()"
     ],
     "language": "python",
     "metadata": {},
     "outputs": [
      {
       "latex": [
        "Quantum object: dims = [[2, 2], [2, 2]], shape = [4, 4], type = oper, isherm = True\\begin{equation*}\\left(\\begin{array}{*{11}c}0.500 & 0.0 & 0.0 & -0.500\\\\0.0 & 0.0 & 0.0 & 0.0\\\\0.0 & 0.0 & 0.0 & 0.0\\\\-0.500 & 0.0 & 0.0 & 0.500\\\\\\end{array}\\right)\\end{equation*}"
       ],
       "metadata": {},
       "output_type": "pyout",
       "prompt_number": 19,
       "text": [
        "Quantum object: dims = [[2, 2], [2, 2]], shape = [4, 4], type = oper, isherm = True\n",
        "Qobj data =\n",
        "[[ 0.5  0.   0.  -0.5]\n",
        " [ 0.   0.   0.   0. ]\n",
        " [ 0.   0.   0.   0. ]\n",
        " [-0.5  0.   0.   0.5]]"
       ]
      }
     ],
     "prompt_number": 19
    },
    {
     "cell_type": "code",
     "collapsed": false,
     "input": [
      " mXX =  ls[1][0]*ls[1][0].dag()#*uu  +ls[1][1]*ls[1][1].dag()*uu\n",
      "\n",
      "#Because the first two eigenstates have eigenvalue -1 these are the states that are projected into.\n",
      "# I construct the projector by taking the outer product with itself. (correct (p89 mike'n ike bottom right corner) check). \n",
      "# Second term gives 0 \n",
      "mXX"
     ],
     "language": "python",
     "metadata": {},
     "outputs": [
      {
       "latex": [
        "Quantum object: dims = [[2, 2], [2, 2]], shape = [4, 4], type = oper, isherm = True\\begin{equation*}\\left(\\begin{array}{*{11}c}0.500 & 0.0 & 0.0 & -0.500\\\\0.0 & 0.0 & 0.0 & 0.0\\\\0.0 & 0.0 & 0.0 & 0.0\\\\-0.500 & 0.0 & 0.0 & 0.500\\\\\\end{array}\\right)\\end{equation*}"
       ],
       "metadata": {},
       "output_type": "pyout",
       "prompt_number": 20,
       "text": [
        "Quantum object: dims = [[2, 2], [2, 2]], shape = [4, 4], type = oper, isherm = True\n",
        "Qobj data =\n",
        "[[ 0.5  0.   0.  -0.5]\n",
        " [ 0.   0.   0.   0. ]\n",
        " [ 0.   0.   0.   0. ]\n",
        " [-0.5  0.   0.   0.5]]"
       ]
      }
     ],
     "prompt_number": 20
    },
    {
     "cell_type": "code",
     "collapsed": false,
     "input": [
      "\n",
      "Rho_par = mXX*mXX.dag()\n",
      "# Rho_par = mXX_dd*mXX_dd.dag()"
     ],
     "language": "python",
     "metadata": {},
     "outputs": [],
     "prompt_number": 21
    },
    {
     "cell_type": "code",
     "collapsed": false,
     "input": [
      "Rho_par"
     ],
     "language": "python",
     "metadata": {},
     "outputs": [
      {
       "latex": [
        "Quantum object: dims = [[2, 2], [2, 2]], shape = [4, 4], type = oper, isherm = True\\begin{equation*}\\left(\\begin{array}{*{11}c}0.500 & 0.0 & 0.0 & -0.500\\\\0.0 & 0.0 & 0.0 & 0.0\\\\0.0 & 0.0 & 0.0 & 0.0\\\\-0.500 & 0.0 & 0.0 & 0.500\\\\\\end{array}\\right)\\end{equation*}"
       ],
       "metadata": {},
       "output_type": "pyout",
       "prompt_number": 22,
       "text": [
        "Quantum object: dims = [[2, 2], [2, 2]], shape = [4, 4], type = oper, isherm = True\n",
        "Qobj data =\n",
        "[[ 0.5  0.   0.  -0.5]\n",
        " [ 0.   0.   0.   0. ]\n",
        " [ 0.   0.   0.   0. ]\n",
        " [-0.5  0.   0.   0.5]]"
       ]
      }
     ],
     "prompt_number": 22
    },
    {
     "cell_type": "code",
     "collapsed": false,
     "input": [
      "tom = sc.multi_qubit_pauli(Rho_par,do_plot=True)\n",
      "plt.plot(tom[1],tom[0])\n",
      "print tom[0]\n",
      "print tom[2]"
     ],
     "language": "python",
     "metadata": {},
     "outputs": [
      {
       "metadata": {},
       "output_type": "display_data",
       "png": "[encoded data removed]",
       "text": [
        "<matplotlib.figure.Figure at 0x1084c8710>"
       ]
      },
      {
       "output_type": "stream",
       "stream": "stdout",
       "text": [
        "[0.0, 0.0, 3.3306690738754696e-16, 0.0, 0.0, 3.3306690738754696e-16, -1.0000000000000004, 0.0, 0.0, 0.0, 1.0000000000000004, 0.0, 0.0, 0.0, 1.0000000000000004]\n",
        "['XI', 'YI', 'ZI', 'IX', 'IY', 'IZ', 'XX', 'XY', 'XZ', 'YX', 'YY', 'YZ', 'ZX', 'ZY', 'ZZ']\n"
       ]
      },
      {
       "metadata": {},
       "output_type": "display_data",
       "png": "[encoded data removed]",
       "text": [
        "<matplotlib.figure.Figure at 0x10a510b50>"
       ]
      }
     ],
     "prompt_number": 24
    },
    {
     "cell_type": "markdown",
     "metadata": {},
     "source": [
      "\n",
      "#### Readout\n",
      "\n",
      "All readouts including a measurement on carbon 1 are inverted. This means that 0,1,2 are #not# inverted. data points [3, 4, 5, 6, 7, 8, 9, 10, 11, 12, 13, 14] are inverted. "
     ]
    },
    {
     "cell_type": "code",
     "collapsed": false,
     "input": [
      "reload(Tomo2)\n",
      "Tomo2.BarPlotTomoContrast(['20140810_122740'],ssro_calib_timestamp='20140801194051',\n",
      "                          guess = ([2,5,14],[1,1,1]),title ='',mirror_data_points = None,\n",
      "                          figsize = (2.5,2),fontsize = 8,savename ='ZZ-init')\n",
      "\n",
      "Tomo2.BarPlotTomoContrast(['20140801_194910','20140801_195555'],ssro_calib_timestamp=None,\n",
      "                              figsize = (2.5,2),fontsize = 8,  mirror_data_points = range(3,15),\n",
      "                              guess = ([2,5,14],[1,-1,-1]),title = '',savename = 'ud-no-parity')\n",
      "\n",
      "Tomo2.BarPlotTomoContrast(['20140801_200221','20140801_201830'],ssro_calib_timestamp='20140801194051',\n",
      "                          guess = ([6,10,14],[-1,-1,-1]),title ='',mirror_data_points =range(3,15),                       \n",
      "                          figsize = (2.5,2),fontsize = 8, savename = 'ud-XX-parity')\n",
      "\n",
      "\n",
      "Tomo2.BarPlotTomoContrast(['20140801_212726','20140801_213557'],ssro_calib_timestamp='20140801194051',\n",
      "                              figsize = (2.5,2),fontsize = 8,  mirror_data_points = range(3,15),\n",
      "                              guess = ([2,5,14],[1,1,1]),title = '',savename = 'uu-no-parity')\n",
      "\n",
      "Tomo2.BarPlotTomoContrast(['20140801_214359','20140801_220851'],ssro_calib_timestamp='20140801194051',\n",
      "                              figsize = (2.5,2),fontsize = 8,  mirror_data_points = range(3,15),\n",
      "                              guess = ([6,10,14],[-1,1,1]),title = '',savename = 'uu-XX-parity')"
     ],
     "language": "python",
     "metadata": {},
     "outputs": [
      {
       "output_type": "stream",
       "stream": "stdout",
       "text": [
        "Fidelity to guess = 0.794169611307 +/- 0.0163895197548\n",
        "/Users/Adriaan/Documents/teamdiamond/data/20140810/122740_2QB_with_detemriniscir Tomography_Hans_sil1"
       ]
      },
      {
       "output_type": "stream",
       "stream": "stdout",
       "text": [
        "\n",
        " Figure saved in /Users/Adriaan/Documents/teamdiamond/data/20140810/122740_2QB_with_detemriniscir Tomography_Hans_sil1"
       ]
      },
      {
       "output_type": "stream",
       "stream": "stdout",
       "text": [
        "\n",
        "Fidelity to guess = 0.809865339578 +/- 0.0168850158243"
       ]
      },
      {
       "output_type": "stream",
       "stream": "stdout",
       "text": [
        "\n",
        "/Users/Adriaan/Documents/teamdiamond/data/20140801/194910_Two_QB_Tomography_Hans_sil10_uu_p"
       ]
      },
      {
       "output_type": "stream",
       "stream": "stdout",
       "text": [
        "\n",
        " Figure saved in /Users/Adriaan/Documents/teamdiamond/data/20140801/194910_Two_QB_Tomography_Hans_sil10_uu_p"
       ]
      },
      {
       "output_type": "stream",
       "stream": "stdout",
       "text": [
        "\n",
        "Fidelity to guess = 0.760831381733 +/- 0.0174356869379"
       ]
      },
      {
       "output_type": "stream",
       "stream": "stdout",
       "text": [
        "\n",
        "/Users/Adriaan/Documents/teamdiamond/data/20140801/200221_Two_QB_Tomography_Hans_sil11_XX_uu_p\n",
        " Figure saved in /Users/Adriaan/Documents/teamdiamond/data/20140801/200221_Two_QB_Tomography_Hans_sil11_XX_uu_p"
       ]
      },
      {
       "output_type": "stream",
       "stream": "stdout",
       "text": [
        "\n",
        "Fidelity to guess = 0.814256440281 +/- 0.0168202298443"
       ]
      },
      {
       "output_type": "stream",
       "stream": "stdout",
       "text": [
        "\n",
        "/Users/Adriaan/Documents/teamdiamond/data/20140801/212726_Two_QB_Tomography_Hans_sil10_ud_p"
       ]
      },
      {
       "output_type": "stream",
       "stream": "stdout",
       "text": [
        "\n",
        " Figure saved in /Users/Adriaan/Documents/teamdiamond/data/20140801/212726_Two_QB_Tomography_Hans_sil10_ud_p"
       ]
      },
      {
       "output_type": "stream",
       "stream": "stdout",
       "text": [
        "\n",
        "Fidelity to guess = 0.765954332553 +/- 0.0174228538115"
       ]
      },
      {
       "output_type": "stream",
       "stream": "stdout",
       "text": [
        "\n",
        "/Users/Adriaan/Documents/teamdiamond/data/20140801/214359_Two_QB_Tomography_Hans_sil11_XX_ud_p"
       ]
      },
      {
       "output_type": "stream",
       "stream": "stdout",
       "text": [
        "\n",
        " Figure saved in /Users/Adriaan/Documents/teamdiamond/data/20140801/214359_Two_QB_Tomography_Hans_sil11_XX_ud_p"
       ]
      },
      {
       "output_type": "stream",
       "stream": "stdout",
       "text": [
        "\n"
       ]
      },
      {
       "metadata": {},
       "output_type": "display_data",
       "png": "[encoded data removed]",
       "text": [
        "<matplotlib.figure.Figure at 0x10a581150>"
       ]
      },
      {
       "metadata": {},
       "output_type": "display_data",
       "png": "[encoded data removed]",
       "text": [
        "<matplotlib.figure.Figure at 0x10a192090>"
       ]
      },
      {
       "metadata": {},
       "output_type": "display_data",
       "png": "[encoded data removed]",
       "text": [
        "<matplotlib.figure.Figure at 0x108657310>"
       ]
      },
      {
       "metadata": {},
       "output_type": "display_data",
       "png": "[encoded data removed]",
       "text": [
        "<matplotlib.figure.Figure at 0x109f19d50>"
       ]
      },
      {
       "metadata": {},
       "output_type": "display_data",
       "png": "[encoded data removed]",
       "text": [
        "<matplotlib.figure.Figure at 0x108a8ab50>"
       ]
      }
     ],
     "prompt_number": 7
    },
    {
     "cell_type": "code",
     "collapsed": false,
     "input": [
      "y = range(5"
     ],
     "language": "python",
     "metadata": {},
     "outputs": [
      {
       "ename": "TypeError",
       "evalue": "list indices must be integers, not list",
       "output_type": "pyerr",
       "traceback": [
        "\u001b[0;31m---------------------------------------------------------------------------\u001b[0m\n\u001b[0;31mTypeError\u001b[0m                                 Traceback (most recent call last)",
        "\u001b[0;32m<ipython-input-186-57a64c758094>\u001b[0m in \u001b[0;36m<module>\u001b[0;34m()\u001b[0m\n\u001b[1;32m      1\u001b[0m \u001b[0my\u001b[0m \u001b[0;34m=\u001b[0m \u001b[0mrange\u001b[0m\u001b[0;34m(\u001b[0m\u001b[0;36m5\u001b[0m\u001b[0;34m)\u001b[0m\u001b[0;34m\u001b[0m\u001b[0m\n\u001b[0;32m----> 2\u001b[0;31m \u001b[0my\u001b[0m\u001b[0;34m[\u001b[0m\u001b[0;34m[\u001b[0m\u001b[0;36m1\u001b[0m\u001b[0;34m]\u001b[0m\u001b[0;34m]\u001b[0m\u001b[0;34m\u001b[0m\u001b[0m\n\u001b[0m",
        "\u001b[0;31mTypeError\u001b[0m: list indices must be integers, not list"
       ]
      }
     ],
     "prompt_number": 186
    },
    {
     "cell_type": "markdown",
     "metadata": {},
     "source": [
      "Data is average of two datasets both with positive and negative RO (final electron-pulse negative or positive)"
     ]
    },
    {
     "cell_type": "markdown",
     "metadata": {},
     "source": [
      "#### Hyperfine paralel components\n",
      "Quick test of how scaling should be to get linearly seperated peaks"
     ]
    },
    {
     "cell_type": "markdown",
     "metadata": {},
     "source": [
      "## Bloch sphere illustrations"
     ]
    },
    {
     "cell_type": "code",
     "collapsed": false,
     "input": [
      "from qutip import *\n",
      "from scipy import *\n",
      "import numpy as  np "
     ],
     "language": "python",
     "metadata": {},
     "outputs": [],
     "prompt_number": 170
    },
    {
     "cell_type": "markdown",
     "metadata": {},
     "source": [
      "Electron starts in |0> carbon starts in mixed state. "
     ]
    },
    {
     "cell_type": "code",
     "collapsed": false,
     "input": [
      "up = basis(2,0)\n",
      "dn = basis(2,1)\n",
      "ketX = (up+dn)/np.sqrt(2)\n",
      "\n",
      "rho_up = up*up.dag()\n",
      "rho_dn = dn*dn.dag()\n",
      "\n",
      "rho_C = 0.5*qeye(2)\n",
      "rho_initial = tensor(rho_up,rho_C)"
     ],
     "language": "python",
     "metadata": {},
     "outputs": [],
     "prompt_number": 171
    },
    {
     "cell_type": "code",
     "collapsed": false,
     "input": [
      "ketX"
     ],
     "language": "python",
     "metadata": {},
     "outputs": [
      {
       "latex": [
        "Quantum object: dims = [[2], [1]], shape = [2, 1], type = ket\\begin{equation*}\\left(\\begin{array}{*{11}c}0.707\\\\0.707\\\\\\end{array}\\right)\\end{equation*}"
       ],
       "metadata": {},
       "output_type": "pyout",
       "prompt_number": 182,
       "text": [
        "Quantum object: dims = [[2], [1]], shape = [2, 1], type = ket\n",
        "Qobj data =\n",
        "[[ 0.70710678]\n",
        " [ 0.70710678]]"
       ]
      }
     ],
     "prompt_number": 182
    },
    {
     "cell_type": "markdown",
     "metadata": {},
     "source": [
      "Yielding the following density matrix "
     ]
    },
    {
     "cell_type": "code",
     "collapsed": false,
     "input": [
      "rho_initial\n"
     ],
     "language": "python",
     "metadata": {},
     "outputs": [
      {
       "latex": [
        "Quantum object: dims = [[2, 2], [2, 2]], shape = [4, 4], type = oper, isherm = True\\begin{equation*}\\left(\\begin{array}{*{11}c}0.500 & 0.0 & 0.0 & 0.0\\\\0.0 & 0.500 & 0.0 & 0.0\\\\0.0 & 0.0 & 0.0 & 0.0\\\\0.0 & 0.0 & 0.0 & 0.0\\\\\\end{array}\\right)\\end{equation*}"
       ],
       "metadata": {},
       "output_type": "pyout",
       "prompt_number": 143,
       "text": [
        "Quantum object: dims = [[2, 2], [2, 2]], shape = [4, 4], type = oper, isherm = True\n",
        "Qobj data =\n",
        "[[ 0.5  0.   0.   0. ]\n",
        " [ 0.   0.5  0.   0. ]\n",
        " [ 0.   0.   0.   0. ]\n",
        " [ 0.   0.   0.   0. ]]"
       ]
      }
     ],
     "prompt_number": 143
    },
    {
     "cell_type": "markdown",
     "metadata": {},
     "source": [
      "In order to initialize, the \n"
     ]
    },
    {
     "cell_type": "code",
     "collapsed": false,
     "input": [
      "Rxp = (-1j*sigmax()+qeye(2))/np.sqrt(2)\n",
      "Rxm = (1j*sigmax()+qeye(2))/np.sqrt(2)\n",
      "Ryp = (-1j*sigmay()+qeye(2))/np.sqrt(2)\n",
      "# C_pX = qutip.tensor((qutip.basis(2,1)*qutip.basis(2,1).dag())\n",
      "Rxp"
     ],
     "language": "python",
     "metadata": {},
     "outputs": [
      {
       "latex": [
        "Quantum object: dims = [[2], [2]], shape = [2, 2], type = oper, isherm = False\\begin{equation*}\\left(\\begin{array}{*{11}c}0.707 & -0.707j\\\\-0.707j & 0.707\\\\\\end{array}\\right)\\end{equation*}"
       ],
       "metadata": {},
       "output_type": "pyout",
       "prompt_number": 144,
       "text": [
        "Quantum object: dims = [[2], [2]], shape = [2, 2], type = oper, isherm = False\n",
        "Qobj data =\n",
        "[[ 0.70710678+0.j          0.00000000-0.70710678j]\n",
        " [ 0.00000000-0.70710678j  0.70710678+0.j        ]]"
       ]
      }
     ],
     "prompt_number": 144
    },
    {
     "cell_type": "code",
     "collapsed": false,
     "input": [
      "Ren = qutip.tensor(rho_up,Rxp)+qutip.tensor(rho_dn,Rxm)\n",
      "Rxp_el = qutip.tensor(Rxp,qutip.qeye(2))\n",
      "Ryp_el = qutip.tensor(Ryp,qutip.qeye(2))\n"
     ],
     "language": "python",
     "metadata": {},
     "outputs": [],
     "prompt_number": 145
    },
    {
     "cell_type": "code",
     "collapsed": false,
     "input": [
      "Ryp_el"
     ],
     "language": "python",
     "metadata": {},
     "outputs": [
      {
       "latex": [
        "Quantum object: dims = [[2, 2], [2, 2]], shape = [4, 4], type = oper, isherm = False\\begin{equation*}\\left(\\begin{array}{*{11}c}0.707 & 0.0 & -0.707 & 0.0\\\\0.0 & 0.707 & 0.0 & -0.707\\\\0.707 & 0.0 & 0.707 & 0.0\\\\0.0 & 0.707 & 0.0 & 0.707\\\\\\end{array}\\right)\\end{equation*}"
       ],
       "metadata": {},
       "output_type": "pyout",
       "prompt_number": 146,
       "text": [
        "Quantum object: dims = [[2, 2], [2, 2]], shape = [4, 4], type = oper, isherm = False\n",
        "Qobj data =\n",
        "[[ 0.70710678  0.         -0.70710678  0.        ]\n",
        " [ 0.          0.70710678  0.         -0.70710678]\n",
        " [ 0.70710678  0.          0.70710678  0.        ]\n",
        " [ 0.          0.70710678  0.          0.70710678]]"
       ]
      }
     ],
     "prompt_number": 146
    },
    {
     "cell_type": "code",
     "collapsed": false,
     "input": [
      "rho_initial = qutip.tensor(rho_up,ketX*ketX.dag())\n",
      "rho_initial = (1+1j)*rho_initial \n"
     ],
     "language": "python",
     "metadata": {},
     "outputs": [],
     "prompt_number": 162
    },
    {
     "cell_type": "code",
     "collapsed": false,
     "input": [
      "rho_initial"
     ],
     "language": "python",
     "metadata": {},
     "outputs": [
      {
       "latex": [
        "Quantum object: dims = [[2, 2], [2, 2]], shape = [4, 4], type = oper, isherm = False\\begin{equation*}\\left(\\begin{array}{*{11}c}(0.500+0.500j) & (0.500+0.500j) & 0.0 & 0.0\\\\(0.500+0.500j) & (0.500+0.500j) & 0.0 & 0.0\\\\0.0 & 0.0 & 0.0 & 0.0\\\\0.0 & 0.0 & 0.0 & 0.0\\\\\\end{array}\\right)\\end{equation*}"
       ],
       "metadata": {},
       "output_type": "pyout",
       "prompt_number": 163,
       "text": [
        "Quantum object: dims = [[2, 2], [2, 2]], shape = [4, 4], type = oper, isherm = False\n",
        "Qobj data =\n",
        "[[ 0.5+0.5j  0.5+0.5j  0.0+0.j   0.0+0.j ]\n",
        " [ 0.5+0.5j  0.5+0.5j  0.0+0.j   0.0+0.j ]\n",
        " [ 0.0+0.j   0.0+0.j   0.0+0.j   0.0+0.j ]\n",
        " [ 0.0+0.j   0.0+0.j   0.0+0.j   0.0+0.j ]]"
       ]
      }
     ],
     "prompt_number": 163
    },
    {
     "cell_type": "code",
     "collapsed": false,
     "input": [
      "seq = Rxp_el*Ren*Ryp_el\n"
     ],
     "language": "python",
     "metadata": {},
     "outputs": [],
     "prompt_number": 164
    },
    {
     "cell_type": "code",
     "collapsed": false,
     "input": [
      "rho_final = seq*rho_initial*seq.dag()"
     ],
     "language": "python",
     "metadata": {},
     "outputs": [],
     "prompt_number": 165
    },
    {
     "cell_type": "code",
     "collapsed": false,
     "input": [
      "rho_final"
     ],
     "language": "python",
     "metadata": {},
     "outputs": [
      {
       "latex": [
        "Quantum object: dims = [[2, 2], [2, 2]], shape = [4, 4], type = oper, isherm = False\\begin{equation*}\\left(\\begin{array}{*{11}c}(0.500+0.500j) & (0.500+0.500j) & 0.0 & 0.0\\\\(0.500+0.500j) & (0.500+0.500j) & 0.0 & 0.0\\\\0.0 & 0.0 & 0.0 & 0.0\\\\0.0 & 0.0 & 0.0 & 0.0\\\\\\end{array}\\right)\\end{equation*}"
       ],
       "metadata": {},
       "output_type": "pyout",
       "prompt_number": 166,
       "text": [
        "Quantum object: dims = [[2, 2], [2, 2]], shape = [4, 4], type = oper, isherm = False\n",
        "Qobj data =\n",
        "[[ 0.5+0.5j  0.5+0.5j  0.0+0.j   0.0+0.j ]\n",
        " [ 0.5+0.5j  0.5+0.5j  0.0+0.j   0.0+0.j ]\n",
        " [ 0.0+0.j   0.0+0.j   0.0+0.j   0.0+0.j ]\n",
        " [ 0.0+0.j   0.0+0.j   0.0+0.j   0.0+0.j ]]"
       ]
      }
     ],
     "prompt_number": 166
    },
    {
     "cell_type": "code",
     "collapsed": false,
     "input": [],
     "language": "python",
     "metadata": {},
     "outputs": [],
     "prompt_number": 166
    },
    {
     "cell_type": "code",
     "collapsed": false,
     "input": [
      "Ryp_el*rho_initial*Ryp_el.dag()"
     ],
     "language": "python",
     "metadata": {},
     "outputs": [
      {
       "latex": [
        "Quantum object: dims = [[2, 2], [2, 2]], shape = [4, 4], type = oper, isherm = False\\begin{equation*}\\left(\\begin{array}{*{11}c}(0.250+0.250j) & (0.250+0.250j) & (0.250+0.250j) & (0.250+0.250j)\\\\(0.250+0.250j) & (0.250+0.250j) & (0.250+0.250j) & (0.250+0.250j)\\\\(0.250+0.250j) & (0.250+0.250j) & (0.250+0.250j) & (0.250+0.250j)\\\\(0.250+0.250j) & (0.250+0.250j) & (0.250+0.250j) & (0.250+0.250j)\\\\\\end{array}\\right)\\end{equation*}"
       ],
       "metadata": {},
       "output_type": "pyout",
       "prompt_number": 167,
       "text": [
        "Quantum object: dims = [[2, 2], [2, 2]], shape = [4, 4], type = oper, isherm = False\n",
        "Qobj data =\n",
        "[[ 0.25+0.25j  0.25+0.25j  0.25+0.25j  0.25+0.25j]\n",
        " [ 0.25+0.25j  0.25+0.25j  0.25+0.25j  0.25+0.25j]\n",
        " [ 0.25+0.25j  0.25+0.25j  0.25+0.25j  0.25+0.25j]\n",
        " [ 0.25+0.25j  0.25+0.25j  0.25+0.25j  0.25+0.25j]]"
       ]
      }
     ],
     "prompt_number": 167
    },
    {
     "cell_type": "code",
     "collapsed": false,
     "input": [
      "Ren*Ryp_el*rho_initial*Ryp_el.dag()*Ren.dag()"
     ],
     "language": "python",
     "metadata": {},
     "outputs": [
      {
       "latex": [
        "Quantum object: dims = [[2, 2], [2, 2]], shape = [4, 4], type = oper, isherm = False\\begin{equation*}\\left(\\begin{array}{*{11}c}(0.250+0.250j) & (0.250+0.250j) & (0.250-0.250j) & (0.250-0.250j)\\\\(0.250+0.250j) & (0.250+0.250j) & (0.250-0.250j) & (0.250-0.250j)\\\\(-0.250+0.250j) & (-0.250+0.250j) & (0.250+0.250j) & (0.250+0.250j)\\\\(-0.250+0.250j) & (-0.250+0.250j) & (0.250+0.250j) & (0.250+0.250j)\\\\\\end{array}\\right)\\end{equation*}"
       ],
       "metadata": {},
       "output_type": "pyout",
       "prompt_number": 168,
       "text": [
        "Quantum object: dims = [[2, 2], [2, 2]], shape = [4, 4], type = oper, isherm = False\n",
        "Qobj data =\n",
        "[[ 0.25+0.25j  0.25+0.25j  0.25-0.25j  0.25-0.25j]\n",
        " [ 0.25+0.25j  0.25+0.25j  0.25-0.25j  0.25-0.25j]\n",
        " [-0.25+0.25j -0.25+0.25j  0.25+0.25j  0.25+0.25j]\n",
        " [-0.25+0.25j -0.25+0.25j  0.25+0.25j  0.25+0.25j]]"
       ]
      }
     ],
     "prompt_number": 168
    },
    {
     "cell_type": "code",
     "collapsed": false,
     "input": [
      "Rxp_el*Ryp_el*rho_initial*Ryp_el.dag()*Rxp_el.dag()"
     ],
     "language": "python",
     "metadata": {},
     "outputs": [
      {
       "latex": [
        "Quantum object: dims = [[2, 2], [2, 2]], shape = [4, 4], type = oper, isherm = False\\begin{equation*}\\left(\\begin{array}{*{11}c}(0.250+0.250j) & (0.250+0.250j) & (0.250+0.250j) & (0.250+0.250j)\\\\(0.250+0.250j) & (0.250+0.250j) & (0.250+0.250j) & (0.250+0.250j)\\\\(0.250+0.250j) & (0.250+0.250j) & (0.250+0.250j) & (0.250+0.250j)\\\\(0.250+0.250j) & (0.250+0.250j) & (0.250+0.250j) & (0.250+0.250j)\\\\\\end{array}\\right)\\end{equation*}"
       ],
       "metadata": {},
       "output_type": "pyout",
       "prompt_number": 169,
       "text": [
        "Quantum object: dims = [[2, 2], [2, 2]], shape = [4, 4], type = oper, isherm = False\n",
        "Qobj data =\n",
        "[[ 0.25+0.25j  0.25+0.25j  0.25+0.25j  0.25+0.25j]\n",
        " [ 0.25+0.25j  0.25+0.25j  0.25+0.25j  0.25+0.25j]\n",
        " [ 0.25+0.25j  0.25+0.25j  0.25+0.25j  0.25+0.25j]\n",
        " [ 0.25+0.25j  0.25+0.25j  0.25+0.25j  0.25+0.25j]]"
       ]
      }
     ],
     "prompt_number": 169
    },
    {
     "cell_type": "markdown",
     "metadata": {},
     "source": [
      "# Simulation Results plotting"
     ]
    },
    {
     "cell_type": "code",
     "collapsed": false,
     "input": [
      "sys.path.append(meassdir+'analysis/scripts/QEC/MC_Simulations_Adriaan/')"
     ],
     "language": "python",
     "metadata": {},
     "outputs": [],
     "prompt_number": 2
    },
    {
     "cell_type": "code",
     "collapsed": false,
     "input": [
      "ls\n"
     ],
     "language": "python",
     "metadata": {},
     "outputs": [
      {
       "output_type": "stream",
       "stream": "stdout",
       "text": [
        "C13 control.ipynb\r\n",
        "Calculate_NV_levels_transitions.ipynb\r\n",
        "Calibrations - basic.ipynb\r\n",
        "Calibrations - pulses.ipynb\r\n",
        "Carbon Analysis.ipynb\r\n",
        "Carbon Initialization Experiments.ipynb\r\n",
        "Console.ipynb\r\n",
        "Dynamical Decoupling.ipynb\r\n",
        "Fingerprinting.ipynb\r\n",
        "MBI type data - general fits .ipynb\r\n",
        "MW.ipynb\r\n",
        "Magnet scans.ipynb\r\n",
        "Manual Magnet Calibration.ipynb\r\n",
        "Master Thesis Figures Adriaan.ipynb\r\n",
        "\u001b[34mNot_currently_used\u001b[m\u001b[m/\r\n",
        "Repetitive ramseys.ipynb\r\n",
        "T1_Measurements_old_sample.ipynb\r\n",
        "Theory - calculate rot matrices.ipynb\r\n",
        "Tomography.ipynb\r\n",
        "\u001b[34mUsers\u001b[m\u001b[m/\r\n"
       ]
      }
     ],
     "prompt_number": 8
    },
    {
     "cell_type": "code",
     "collapsed": false,
     "input": [
      "cd .."
     ],
     "language": "python",
     "metadata": {},
     "outputs": [
      {
       "output_type": "stream",
       "stream": "stdout",
       "text": [
        "/Users/Adriaan/Documents/teamdiamond/iPythonNotebooks\n"
       ]
      }
     ],
     "prompt_number": 9
    },
    {
     "cell_type": "code",
     "collapsed": false,
     "input": [
      "cd .."
     ],
     "language": "python",
     "metadata": {},
     "outputs": [
      {
       "output_type": "stream",
       "stream": "stdout",
       "text": [
        "/Users/Adriaan/Documents/teamdiamond\n"
       ]
      }
     ],
     "prompt_number": 10
    },
    {
     "cell_type": "code",
     "collapsed": false,
     "input": [
      "cd analysis.lib.QEC"
     ],
     "language": "python",
     "metadata": {},
     "outputs": [
      {
       "output_type": "stream",
       "stream": "stdout",
       "text": [
        "[Errno 2] No such file or directory: 'analysis.lib.QEC'\n",
        "/Users/Adriaan/Documents/teamdiamond\n"
       ]
      }
     ],
     "prompt_number": 11
    },
    {
     "cell_type": "code",
     "collapsed": false,
     "input": [
      "cd analysis"
     ],
     "language": "python",
     "metadata": {},
     "outputs": [
      {
       "output_type": "stream",
       "stream": "stdout",
       "text": [
        "/Users/Adriaan/Documents/teamdiamond/analysis\n"
       ]
      }
     ],
     "prompt_number": 12
    },
    {
     "cell_type": "code",
     "collapsed": false,
     "input": [
      "cd scripts/QEC"
     ],
     "language": "python",
     "metadata": {},
     "outputs": [
      {
       "output_type": "stream",
       "stream": "stdout",
       "text": [
        "/Users/Adriaan/Documents/teamdiamond/analysis/scripts/QEC\n"
       ]
      }
     ],
     "prompt_number": 13
    },
    {
     "cell_type": "code",
     "collapsed": false,
     "input": [
      "cd MC_Simulations_Adriaan/"
     ],
     "language": "python",
     "metadata": {},
     "outputs": [
      {
       "output_type": "stream",
       "stream": "stdout",
       "text": [
        "/Users/Adriaan/Documents/teamdiamond/analysis/scripts/QEC/MC_Simulations_Adriaan\n"
       ]
      }
     ],
     "prompt_number": 14
    },
    {
     "cell_type": "code",
     "collapsed": false,
     "input": [
      "execfile('analyse_MultipleCdata.py')"
     ],
     "language": "python",
     "metadata": {},
     "outputs": [
      {
       "ename": "IOError",
       "evalue": "[Errno 2] No such file or directory: 'simulation_data_werkbespreking/NV_C13_0.011_Raw_Data_20131203_2125plot_data'",
       "output_type": "pyerr",
       "traceback": [
        "\u001b[0;31m---------------------------------------------------------------------------\u001b[0m\n\u001b[0;31mIOError\u001b[0m                                   Traceback (most recent call last)",
        "\u001b[0;32m<ipython-input-25-edb768c3ae72>\u001b[0m in \u001b[0;36m<module>\u001b[0;34m()\u001b[0m\n\u001b[0;32m----> 1\u001b[0;31m \u001b[0mexecfile\u001b[0m\u001b[0;34m(\u001b[0m\u001b[0;34m'analyse_MultipleCdata.py'\u001b[0m\u001b[0;34m)\u001b[0m\u001b[0;34m\u001b[0m\u001b[0m\n\u001b[0m",
        "\u001b[0;32m/Users/Adriaan/Documents/teamdiamond/analysis/scripts/QEC/MC_Simulations_Adriaan/analyse_MultipleCdata.py\u001b[0m in \u001b[0;36m<module>\u001b[0;34m()\u001b[0m\n\u001b[1;32m     27\u001b[0m \u001b[0;32mfor\u001b[0m \u001b[0midfn\u001b[0m\u001b[0;34m,\u001b[0m \u001b[0mfilename\u001b[0m \u001b[0;32min\u001b[0m \u001b[0menumerate\u001b[0m\u001b[0;34m(\u001b[0m\u001b[0mfilenames\u001b[0m\u001b[0;34m)\u001b[0m \u001b[0;34m:\u001b[0m\u001b[0;34m\u001b[0m\u001b[0m\n\u001b[1;32m     28\u001b[0m     \u001b[0;32mprint\u001b[0m \u001b[0;34m'loading data from file: '\u001b[0m \u001b[0;34m+\u001b[0m\u001b[0mstr\u001b[0m\u001b[0;34m(\u001b[0m\u001b[0mfilename\u001b[0m\u001b[0;34m)\u001b[0m\u001b[0;34m\u001b[0m\u001b[0m\n\u001b[0;32m---> 29\u001b[0;31m     \u001b[0mfile\u001b[0m \u001b[0;34m=\u001b[0m \u001b[0mopen\u001b[0m\u001b[0;34m(\u001b[0m\u001b[0mfilename\u001b[0m\u001b[0;34m,\u001b[0m\u001b[0;34m'r'\u001b[0m\u001b[0;34m)\u001b[0m\u001b[0;34m\u001b[0m\u001b[0m\n\u001b[0m\u001b[1;32m     30\u001b[0m     \u001b[0mB_Fields\u001b[0m\u001b[0;34m[\u001b[0m\u001b[0midfn\u001b[0m\u001b[0;34m]\u001b[0m \u001b[0;34m=\u001b[0m \u001b[0mpickle\u001b[0m\u001b[0;34m.\u001b[0m\u001b[0mload\u001b[0m\u001b[0;34m(\u001b[0m\u001b[0mfile\u001b[0m\u001b[0;34m)\u001b[0m\u001b[0;34m\u001b[0m\u001b[0m\n\u001b[1;32m     31\u001b[0m     \u001b[0mNavg_B\u001b[0m\u001b[0;34m[\u001b[0m\u001b[0midfn\u001b[0m\u001b[0;34m]\u001b[0m \u001b[0;34m=\u001b[0m\u001b[0mpickle\u001b[0m\u001b[0;34m.\u001b[0m\u001b[0mload\u001b[0m\u001b[0;34m(\u001b[0m\u001b[0mfile\u001b[0m\u001b[0;34m)\u001b[0m\u001b[0;34m\u001b[0m\u001b[0m\n",
        "\u001b[0;31mIOError\u001b[0m: [Errno 2] No such file or directory: 'simulation_data_werkbespreking/NV_C13_0.011_Raw_Data_20131203_2125plot_data'"
       ]
      },
      {
       "output_type": "stream",
       "stream": "stdout",
       "text": [
        "loading data from file: simulation_data_werkbespreking/NV_C13_0.011_Raw_Data_20131203_2125plot_data\n"
       ]
      }
     ],
     "prompt_number": 25
    },
    {
     "cell_type": "code",
     "collapsed": false,
     "input": [
      "~\n"
     ],
     "language": "python",
     "metadata": {},
     "outputs": [
      {
       "ename": "SyntaxError",
       "evalue": "invalid syntax (<ipython-input-22-d0781a20299a>, line 1)",
       "output_type": "pyerr",
       "traceback": [
        "\u001b[0;36m  File \u001b[0;32m\"<ipython-input-22-d0781a20299a>\"\u001b[0;36m, line \u001b[0;32m1\u001b[0m\n\u001b[0;31m    ~\u001b[0m\n\u001b[0m     ^\u001b[0m\n\u001b[0;31mSyntaxError\u001b[0m\u001b[0;31m:\u001b[0m invalid syntax\n"
       ]
      }
     ],
     "prompt_number": 22
    },
    {
     "cell_type": "code",
     "collapsed": false,
     "input": [],
     "language": "python",
     "metadata": {},
     "outputs": []
    }
   ],
   "metadata": {}
  }
 ]
}