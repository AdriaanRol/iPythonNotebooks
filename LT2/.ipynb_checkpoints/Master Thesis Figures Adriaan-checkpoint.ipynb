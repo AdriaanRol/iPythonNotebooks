{
 "metadata": {
  "name": ""
 },
 "nbformat": 3,
 "nbformat_minor": 0,
 "worksheets": [
  {
   "cells": [
    {
     "cell_type": "code",
     "collapsed": false,
     "input": [
      "import sys\n",
      "import os \n",
      "if os.name == 'posix':\n",
      "    meassdir = r'/Users/'+os.getlogin()+r'/Documents/teamdiamond/'\n",
      "else:\n",
      "    meassdir = r'd:/measuring/'\n",
      "\n",
      "sys.path.append(meassdir)\n",
      "sys.path.append(meassdir+'analysis')\n",
      "sys.path.append(meassdir+'analysis/scripts/QEC_data_analysis/fingerprints/')\n",
      "sys.path.append(meassdir+'analysis/scripts/QEC/MScThesisAdriaan/')\n",
      "\n",
      "sys.path\n",
      "%pylab inline"
     ],
     "language": "python",
     "metadata": {},
     "outputs": [
      {
       "output_type": "stream",
       "stream": "stdout",
       "text": [
        "Populating the interactive namespace from numpy and matplotlib\n"
       ]
      }
     ],
     "prompt_number": 1
    },
    {
     "cell_type": "markdown",
     "metadata": {},
     "source": [
      "### Nitrogen MBI DESR"
     ]
    },
    {
     "cell_type": "code",
     "collapsed": false,
     "input": [
      "import dark_esr_analysis_2 as desr2\n",
      "reload (desr2)\n",
      "fit_res =desr2.analyze_2_desr(timestamps = ['20140730104012','20140730111621'],MBI= [False,True],title ='',print_info = False,            \n",
      "            figsize= (2.5,2),\n",
      "            fontsize = 8,\n",
      "            linewidth = .75,markersize =2,center_guess = False)\n"
     ],
     "language": "python",
     "metadata": {},
     "outputs": [
      {
       "output_type": "stream",
       "stream": "stdout",
       "text": [
        "0.85\n",
        "0.722525034859\n",
        "k18\n",
        "81\n",
        "guess_ctr= 3.729774\n",
        "fitting with 1 splittings\n",
        "Converged with chi squared  0.0435739530767\n",
        "degrees of freedom, dof  76\n",
        "RMS of residuals (i.e. sqrt(chisq/dof))  0.0239445502746\n",
        "Reduced chisq (i.e. variance of residuals)  0.000573341487852\n",
        "\n",
        "fitted parameters at minimum, with 68% C.I.:\n",
        " 0 a              0.977218 +/-   0.003165\n",
        " 1 A              0.304583 +/-   0.010660\n",
        " 2 sigma          0.000237 +/-   0.000010\n",
        " 3 x0             3.730067 +/-   0.000007\n",
        " 4 s0             0.002197 +/-   0.000008\n",
        "\n",
        "correlation matrix:\n",
        "               a         A         sigma     x0        s0        \n",
        "         a  1.000000\n",
        "         A  0.209915  1.000000\n",
        "     sigma  0.348549 -0.455922  1.000000\n",
        "        x0 -0.000000  0.000187 -0.000156  1.000000\n",
        "        s0  0.000000  0.000000 -0.000000 -0.000000  1.000000\n",
        "\n",
        "printing folder\n",
        "/Users/Adriaan/Documents/teamdiamond/data/20140730/111621_PulsarMBIElectronRabi_MBI_DESR_Hans_sil1_msm1\n",
        "0.85"
       ]
      },
      {
       "output_type": "stream",
       "stream": "stdout",
       "text": [
        "\n",
        "0.958296362023\n",
        "k46\n",
        "101\n",
        "guess_ctr= 3.731969\n",
        "Converged with chi squared  0.0854793297163\n",
        "degrees of freedom, dof  95\n",
        "RMS of residuals (i.e. sqrt(chisq/dof))  0.0299963734152\n",
        "Reduced chisq (i.e. variance of residuals)  0.000899782418066\n",
        "\n",
        "fitted parameters at minimum, with 68% C.I.:\n",
        " 0 A_min1         0.002964 +/-   0.017679\n",
        " 1 A_plus1        0.005963 +/-   0.017676\n",
        " 2 A_0            0.803591 +/-   0.020986\n",
        " 3 sigma          0.000173 +/-   0.000005\n",
        " 4 o              0.982158 +/-   0.003370\n",
        " 5 x0             3.730070 +/-   0.000004\n",
        "\n",
        "correlation matrix:\n",
        "               A_min1    A_plus1   A_0       sigma     o         x0        \n",
        "    A_min1  1.000000\n",
        "   A_plus1  0.072312  1.000000\n",
        "       A_0  0.031668  0.033068  1.000000\n",
        "     sigma  0.050353  0.047776 -0.540485  1.000000\n",
        "         o  0.269121  0.268648  0.112316  0.196255  1.000000\n",
        "        x0  0.000001  0.000002  0.000260 -0.000222  0.000000  1.000000\n",
        "\n",
        "test\n",
        "folder again"
       ]
      },
      {
       "output_type": "stream",
       "stream": "stdout",
       "text": [
        "\n",
        "/Users/Adriaan/Documents/teamdiamond/data/20140730/104012_PulsarDarkESR_Hans_sil1\n",
        "DarkESR_2.pdf\n",
        "Saved file in /Users/Adriaan/Documents/teamdiamond/data/20140730/111621_PulsarMBIElectronRabi_MBI_DESR_Hans_sil1_msm1"
       ]
      },
      {
       "output_type": "stream",
       "stream": "stdout",
       "text": [
        "\n"
       ]
      },
      {
       "metadata": {},
       "output_type": "display_data",
       "png": "[encoded data removed]",
       "text": [
        "<matplotlib.figure.Figure at 0x1092057d0>"
       ]
      }
     ],
     "prompt_number": 5
    },
    {
     "cell_type": "markdown",
     "metadata": {},
     "source": [
      "## Fingerprint \n",
      "Fingerprint data of the ms+1 transition for N=32 pulses in the range 0 to 20us with carbon 1-4 added with lines\n",
      "\n",
      "Data required: \n",
      "\n",
      "* SSRO Calibartion: 20140419\\\\111949_AdwinSSRO_SSROCalibration_Hans_sil1\n",
      "* Fingerprint data timestamp: 20140419_233953\n",
      "\n"
     ]
    },
    {
     "cell_type": "code",
     "collapsed": false,
     "input": [
      "import fingerprint_analysis as FP; reload(FP)\n",
      "FP.fingerprint(N=16,disp_sim_spin=True,n_spins_to_disp = 4, disp_total_sig=False,\n",
      "               figsize= (6.7,1.3),fontsize = 8,showlegend = False,title ='',plot_contrast =True,ms = 1,tau_larmor_axis = True)"
     ],
     "language": "python",
     "metadata": {},
     "outputs": [
      {
       "output_type": "stream",
       "stream": "stdout",
       "text": [
        "tau larmor = 3.07162608137e-06\n",
        "Axes(0.125,0.125;0.775x0.775)"
       ]
      },
      {
       "output_type": "stream",
       "stream": "stdout",
       "text": [
        "\n",
        "[ 3.07162608  4.60743912  6.14325216  7.6790652   9.21487824]\n",
        "Figures saved in: /Users/Adriaan/Documents/teamdiamond/data/20140419/005744_DecouplingSequence_Fingerprint_Hans_sil116\n"
       ]
      },
      {
       "metadata": {},
       "output_type": "display_data",
       "png": "[encoded data removed]",
       "text": [
        "<matplotlib.figure.Figure at 0x1090b1950>"
       ]
      }
     ],
     "prompt_number": 6
    },
    {
     "cell_type": "code",
     "collapsed": false,
     "input": [
      "import fingerprint_analysis as FP; reload(FP)\n",
      "FP.fingerprint(N=32,disp_sim_spin=True,n_spins_to_disp = 4, disp_total_sig=False,\n",
      "               figsize= (6.7,1.3),fontsize = 8,showlegend = False,title ='',plot_contrast =True,ms =1 ,tau_larmor_axis = True)"
     ],
     "language": "python",
     "metadata": {},
     "outputs": [
      {
       "output_type": "stream",
       "stream": "stdout",
       "text": [
        "tau larmor = 3.07162608137e-06\n",
        "Axes(0.125,0.125;0.775x0.775)"
       ]
      },
      {
       "output_type": "stream",
       "stream": "stdout",
       "text": [
        "\n",
        "[ 3.07162608  4.60743912  6.14325216  7.6790652   9.21487824]\n",
        "Figures saved in: /Users/Adriaan/Documents/teamdiamond/data/20140419/233953_DecouplingSequence_Fingerprint_Hans_sil132\n"
       ]
      },
      {
       "metadata": {},
       "output_type": "display_data",
       "png": "[encoded data removed]",
       "text": [
        "<matplotlib.figure.Figure at 0x1088934d0>"
       ]
      }
     ],
     "prompt_number": 7
    },
    {
     "cell_type": "markdown",
     "metadata": {},
     "source": [
      "##Unininitialized Carbon Ramsey \n",
      "Ramsey experiment where two cosines are superimposed. This is the ramsey without initialization"
     ]
    },
    {
     "cell_type": "code",
     "collapsed": false,
     "input": [
      "import carbon_ramsey as CR; reload(CR)"
     ],
     "language": "python",
     "metadata": {},
     "outputs": [
      {
       "metadata": {},
       "output_type": "pyout",
       "prompt_number": 8,
       "text": [
        "<module 'carbon_ramsey' from '/Users/Adriaan/Documents/teamdiamond/analysis/scripts/QEC/MScThesisAdriaan/carbon_ramsey.pyc'>"
       ]
      }
     ],
     "prompt_number": 8
    },
    {
     "cell_type": "markdown",
     "metadata": {},
     "source": [
      "#### Carbon 1"
     ]
    },
    {
     "cell_type": "code",
     "collapsed": false,
     "input": [
      "reload(CR)\n",
      "ax = CR.CosineSum_MBI_data(timestamp='20140708163858', \n",
      "            ssro_calib_timestamp = '20140710183144',\n",
      "            frequency = [325e3,371e3],\n",
      "            plot_fit = True, do_print = True, show_guess = False,print_info=False,\n",
      "            figsize= (2.5,2),\n",
      "            fontsize = 8, \n",
      "            linewidth = 1,\n",
      "            capsize = 2, \n",
      "            savename = 'CarbonRamsey_C1')"
     ],
     "language": "python",
     "metadata": {},
     "outputs": [
      {
       "output_type": "stream",
       "stream": "stdout",
       "text": [
        "0.0\n",
        "5e-05\n",
        "Converged with chi squared  0.0597921471805\n",
        "degrees of freedom, dof  94\n",
        "RMS of residuals (i.e. sqrt(chisq/dof))  0.0252207587541\n",
        "Reduced chisq (i.e. variance of residuals)  0.000636086672133\n",
        "\n",
        "fitted parameters at minimum, with 68% C.I.:\n",
        " 0 avg            0.491323 +/-   0.002512\n",
        " 1 A             -0.415469 +/-   0.007343\n",
        " 2 f_a        325807.906793 +/- 248.008131\n",
        " 3 phi_a         -0.657021 +/-   2.332920\n",
        " 4 B             -0.453564 +/-   0.007340\n",
        " 5 f_b        364409.490278 +/- 224.357825\n",
        " 6 phi_b         -0.901340 +/-   2.109926\n",
        "\n",
        "correlation matrix:\n",
        "               avg       A         f_a       phi_a     B         f_b       phi_b     \n",
        "       avg  1.000000\n",
        "         A  0.017623  1.000000\n",
        "       f_a  0.022310  0.042620  1.000000\n",
        "     phi_a -0.030470 -0.036554 -0.902911  1.000000\n",
        "         B  0.002381  0.155628 -0.159477  0.176350  1.000000\n",
        "       f_b  0.006326  0.192955  0.385102 -0.308200 -0.013115  1.000000\n",
        "     phi_b -0.018859 -0.210295 -0.307183  0.271902  0.005411 -0.901295  1.000000\n",
        "\n",
        "Writting to File!\n",
        "path joined\n",
        "Writing fit results to file (fit_results.txt) at (/Users/Adriaan/Documents/teamdiamond/data/20140708/163858_CarbonRamsey_Hans_sil1) succesfull\n"
       ]
      },
      {
       "metadata": {},
       "output_type": "display_data",
       "png": "[encoded data removed]",
       "text": [
        "<matplotlib.figure.Figure at 0x1088a5fd0>"
       ]
      }
     ],
     "prompt_number": 87
    },
    {
     "cell_type": "markdown",
     "metadata": {},
     "source": [
      "#### Carbon 4 "
     ]
    },
    {
     "cell_type": "code",
     "collapsed": false,
     "input": [
      "reload(CR)\n",
      "ax = CR.CosineSum_MBI_data(timestamp='20140710223617', \n",
      "            ssro_calib_timestamp = '20140710183144',\n",
      "            frequency = [325e3,371e3],\n",
      "            plot_fit = True, do_print = True, show_guess = False,print_info = False,\n",
      "            figsize= (2.5,2),\n",
      "            fontsize = 8,\n",
      "            linewidth = 1,markersize =2,capsize = 2, \n",
      "            savename = 'CarbonRamsey_C4')"
     ],
     "language": "python",
     "metadata": {},
     "outputs": [
      {
       "output_type": "stream",
       "stream": "stdout",
       "text": [
        "0.0\n",
        "5e-05\n",
        "Converged with chi squared  0.0210518835544\n",
        "degrees of freedom, dof  34\n",
        "RMS of residuals (i.e. sqrt(chisq/dof))  0.0248831880136\n",
        "Reduced chisq (i.e. variance of residuals)  0.000619173045719\n",
        "\n",
        "fitted parameters at minimum, with 68% C.I.:\n",
        " 0 avg            0.511365 +/-   0.003898\n",
        " 1 A             -0.372085 +/-   0.011398\n",
        " 2 f_a        325937.983159 +/- 400.300671\n",
        " 3 phi_a          7.134336 +/-   3.923548\n",
        " 4 B             -0.374472 +/-   0.011373\n",
        " 5 f_b        371524.566441 +/- 392.399087\n",
        " 6 phi_b          9.274127 +/-   3.800536\n",
        "\n",
        "correlation matrix:\n",
        "               avg       A         f_a       phi_a     B         f_b       phi_b     \n",
        "       avg  1.000000\n",
        "         A  0.018915  1.000000\n",
        "       f_a  0.042370 -0.031677  1.000000\n",
        "     phi_a -0.045833 -0.000151 -0.896730  1.000000\n",
        "         B  0.004956  0.049314 -0.206871  0.168557  1.000000\n",
        "       f_b  0.060776  0.263273 -0.097810 -0.010003  0.087985  1.000000\n",
        "     phi_b -0.059620 -0.232407 -0.010635  0.100008 -0.061073 -0.893263  1.000000\n",
        "\n",
        "Writting to File!\n",
        "path joined\n",
        "Writing fit results to file (fit_results.txt) at (/Users/Adriaan/Documents/teamdiamond/data/20140710/223617_CarbonRamsey_Hans_sil1) succesfull\n"
       ]
      },
      {
       "metadata": {},
       "output_type": "display_data",
       "png": "[encoded data removed]",
       "text": [
        "<matplotlib.figure.Figure at 0x107e8b910>"
       ]
      }
     ],
     "prompt_number": 88
    },
    {
     "cell_type": "code",
     "collapsed": false,
     "input": [
      "B =304.12\n",
      "gamma_C = 1.0705e3\n",
      "omega_L = gamma_C *B \n",
      "print 'expected omega_L %s' %omega_L \n",
      "\n",
      "f = 325.787e3\n",
      "f = 325807\n",
      "uf = 400\n",
      "uf = 248\n",
      "B_est = f /gamma_C\n",
      "uB = uf/gamma_C\n",
      "print 'estimated B-field %s +- %s' %(B_est,uB)"
     ],
     "language": "python",
     "metadata": {},
     "outputs": [
      {
       "output_type": "stream",
       "stream": "stdout",
       "text": [
        "expected omega_L 325560.46\n",
        "estimated B-field 304.350303596 +- 0.231667445119\n"
       ]
      }
     ],
     "prompt_number": 68
    },
    {
     "cell_type": "markdown",
     "metadata": {},
     "source": [
      "    Estimation for omega_tilde \n",
      "   "
     ]
    },
    {
     "cell_type": "code",
     "collapsed": false,
     "input": [
      "omega_L_msm = 325.787e3\n",
      "A_par = 30e3\n",
      "A_orth = 80e3 \n",
      "\n",
      "omega_t_m1 = 364409.490278\n",
      "omega_t =  np.sqrt((A_par+omega_L_msm)**2 + A_orth**2)\n",
      "print 'omega_t measured C1: %s' %omega_t_m1\n",
      "print 'omega_t expected C1: %s' %omega_t\n",
      "\n",
      "omega_L_msm = 325.787e3\n",
      "A_par = 45.1e3\n",
      "A_orth = 20e3\n",
      "\n",
      "omega_t_m4 = 371524\n",
      "omega_t =  np.sqrt((A_par+omega_L_msm)**2 + A_orth**2)\n",
      "\n",
      "print 'omega_t measured C4: %s' %omega_t_m4\n",
      "print 'omega_t expected C4: %s' %omega_t\n",
      "\n"
     ],
     "language": "python",
     "metadata": {},
     "outputs": [
      {
       "output_type": "stream",
       "stream": "stdout",
       "text": [
        "omega_t measured C1: 364409.490278\n",
        "omega_t expected C1: 364670.247441\n",
        "omega_t measured C4: 371524\n",
        "omega_t expected C4: 371425.856355\n"
       ]
      }
     ],
     "prompt_number": 69
    },
    {
     "cell_type": "markdown",
     "metadata": {},
     "source": [
      "### Carbon Ramsey T2*\n",
      "Still uninitialized. Decoupling during oscillation. "
     ]
    },
    {
     "cell_type": "markdown",
     "metadata": {},
     "source": [
      "#### Carbon 1"
     ]
    },
    {
     "cell_type": "code",
     "collapsed": false,
     "input": [
      "# from analysis.scripts.QEC import carbon_ramsey_analysis as cr\n",
      "#Uses May data because later some coherence was lost\n",
      "import carbon_ramsey_analysis as crT2\n",
      "reload(crT2)\n",
      "fr =crT2.Carbon_Ramsey(timestamp='20140519_141514',ssro_calib_timestamp= '20140519_093902',savename= 'Carbon1_T2star',\n",
      "                     frequency = 200, offset = 0.5, amplitude = 0.5,  decay_constant = .008 ,xticks = [0,5e-3,10e-3,15e-3],\n",
      "                     figsize = (2.5,2),fontsize = 8,            \n",
      "                     linewidth = 1,markersize =2,\n",
      "                     phase =0, plot_fit = True, do_print = True, show_guess =False,print_info = False) "
     ],
     "language": "python",
     "metadata": {},
     "outputs": [
      {
       "output_type": "stream",
       "stream": "stdout",
       "text": [
        "/Users/Adriaan/Documents/teamdiamond/data/20140519/093902_AdwinSSRO_SSROCalibration_Hans_sil1\n",
        "Converged with chi squared "
       ]
      },
      {
       "output_type": "stream",
       "stream": "stdout",
       "text": [
        " 0.00699162724357\n",
        "degrees of freedom, dof  18\n",
        "RMS of residuals (i.e. sqrt(chisq/dof))  0.0197084686304\n",
        "Reduced chisq (i.e. variance of residuals)  0.000388423735754\n",
        "\n",
        "fitted parameters at minimum, with 68% C.I.:\n",
        " 0 a              0.483614 +/-   0.004109\n",
        " 1 A              0.463994 +/-   0.018867\n",
        " 2 T              0.009852 +/-   0.000387\n",
        " 3 n              1.827876 +/-   0.190524\n",
        " 4 f            202.895926 +/-   1.149856\n",
        " 5 phi            9.781374 +/-   2.078183\n",
        "\n",
        "correlation matrix:\n",
        "               a         A         T         n         f         phi       \n",
        "         a  1.000000\n",
        "         A  0.081772  1.000000\n",
        "         T -0.043045 -0.743055  1.000000\n",
        "         n -0.077673 -0.721812  0.532200  1.000000\n",
        "         f -0.162600 -0.188199  0.138684  0.140514  1.000000\n",
        "       phi  0.196625  0.234844 -0.172639 -0.176529 -0.798606  1.000000\n",
        "\n",
        "fitfunction: a + A * exp(-((x-x0)/T )**n*cos(2pi *(f*x+phi/360) )\n"
       ]
      },
      {
       "metadata": {},
       "output_type": "display_data",
       "png": "[encoded data removed]",
       "text": [
        "<matplotlib.figure.Figure at 0x107e3ee90>"
       ]
      }
     ],
     "prompt_number": 2
    },
    {
     "cell_type": "markdown",
     "metadata": {},
     "source": [
      "#### Carbon 4 "
     ]
    },
    {
     "cell_type": "code",
     "collapsed": false,
     "input": [
      "reload(crT2)\n",
      "# timestamp='20140519_183105',ssro_calib_timestamp= '20140519_093902' #Uses May data because later some coherence was lost\n",
      "fr =crT2.Carbon_Ramsey(timestamp='20140519_183105',ssro_calib_timestamp= '20140519_093902',savename= 'Carbon4_T2star',\n",
      "                     frequency = 500, offset = 0.5, amplitude = 0.5,  decay_constant = .008 ,xticks = [0,2e-3,4e-3,6e-3,8e-3],\n",
      "                     figsize = (2.5,2),fontsize = 8,            \n",
      "                     linewidth = 1,markersize =2,\n",
      "                     phase =0, plot_fit = True, do_print = True, show_guess = False,print_info=False)"
     ],
     "language": "python",
     "metadata": {},
     "outputs": [
      {
       "output_type": "stream",
       "stream": "stdout",
       "text": [
        "/Users/Adriaan/Documents/teamdiamond/data/20140519/093902_AdwinSSRO_SSROCalibration_Hans_sil1\n",
        "a"
       ]
      },
      {
       "output_type": "stream",
       "stream": "stdout",
       "text": [
        "\n",
        "Converged with chi squared  0.00854451679041\n",
        "degrees of freedom, dof  17\n",
        "RMS of residuals (i.e. sqrt(chisq/dof))  0.0224191577614\n",
        "Reduced chisq (i.e. variance of residuals)  0.00050261863473\n",
        "\n",
        "fitted parameters at minimum, with 68% C.I.:\n",
        " 0 a              0.481690 +/-   0.004705\n",
        " 1 A              0.414049 +/-   0.014092\n",
        " 2 T              0.006679 +/-   0.000223\n",
        " 3 n              2.307635 +/-   0.307874\n",
        " 4 f            504.764322 +/-   1.968093\n",
        " 5 phi            1.211387 +/-   2.290404\n",
        "\n",
        "correlation matrix:\n",
        "               a         A         T         n         f         phi       \n",
        "         a  1.000000\n",
        "         A -0.063502  1.000000\n",
        "         T  0.011420 -0.467453  1.000000\n",
        "         n  0.051424 -0.629924  0.064094  1.000000\n",
        "         f -0.050596 -0.043139  0.000418  0.045331  1.000000\n",
        "       phi  0.083498  0.045454 -0.009394 -0.040271 -0.816990  1.000000\n",
        "\n",
        "fitfunction: a + A * exp(-((x-x0)/T )**n*cos(2pi *(f*x+phi/360) )\n",
        "b\n",
        "c\n"
       ]
      },
      {
       "metadata": {},
       "output_type": "display_data",
       "png": "[encoded data removed]",
       "text": [
        "<matplotlib.figure.Figure at 0x107e1db10>"
       ]
      }
     ],
     "prompt_number": 51
    },
    {
     "cell_type": "markdown",
     "metadata": {},
     "source": [
      "#### Electron $T_2^*$"
     ]
    },
    {
     "cell_type": "code",
     "collapsed": false,
     "input": [
      "reload(crT2)\n",
      "fr =crT2.Carbon_Ramsey(timestamp='20140324_170355',ssro_calib_timestamp= '20140519_093902',savename= 'electron_T2star',\n",
      "                     frequency = 0.001006963, offset = 0.5, amplitude = 0.5,  decay_constant = 4e3, xticks = [0,2e3,4e3,6e3,8e3,10e3],\n",
      "                     figsize = (2.5,2),fontsize = 8,scale_x_axis = 1e-3, x_units='$\\mu$s',\n",
      "                     linewidth = 1,markersize =2,\n",
      "                     phase =0, plot_fit = True, do_print = True, show_guess = False,print_info=False)"
     ],
     "language": "python",
     "metadata": {},
     "outputs": [
      {
       "ename": "NameError",
       "evalue": "name 'crT2' is not defined",
       "output_type": "pyerr",
       "traceback": [
        "\u001b[0;31m---------------------------------------------------------------------------\u001b[0m\n\u001b[0;31mNameError\u001b[0m                                 Traceback (most recent call last)",
        "\u001b[0;32m<ipython-input-2-b2e6bc437a3e>\u001b[0m in \u001b[0;36m<module>\u001b[0;34m()\u001b[0m\n\u001b[0;32m----> 1\u001b[0;31m \u001b[0mreload\u001b[0m\u001b[0;34m(\u001b[0m\u001b[0mcrT2\u001b[0m\u001b[0;34m)\u001b[0m\u001b[0;34m\u001b[0m\u001b[0m\n\u001b[0m\u001b[1;32m      2\u001b[0m fr =crT2.Carbon_Ramsey(timestamp='20140324_170355',ssro_calib_timestamp= '20140519_093902',savename= 'electron_T2star',\n\u001b[1;32m      3\u001b[0m                      \u001b[0mfrequency\u001b[0m \u001b[0;34m=\u001b[0m \u001b[0;36m0.001006963\u001b[0m\u001b[0;34m,\u001b[0m \u001b[0moffset\u001b[0m \u001b[0;34m=\u001b[0m \u001b[0;36m0.5\u001b[0m\u001b[0;34m,\u001b[0m \u001b[0mamplitude\u001b[0m \u001b[0;34m=\u001b[0m \u001b[0;36m0.5\u001b[0m\u001b[0;34m,\u001b[0m  \u001b[0mdecay_constant\u001b[0m \u001b[0;34m=\u001b[0m \u001b[0;36m4e3\u001b[0m\u001b[0;34m,\u001b[0m \u001b[0mxticks\u001b[0m \u001b[0;34m=\u001b[0m \u001b[0;34m[\u001b[0m\u001b[0;36m0\u001b[0m\u001b[0;34m,\u001b[0m\u001b[0;36m2e3\u001b[0m\u001b[0;34m,\u001b[0m\u001b[0;36m4e3\u001b[0m\u001b[0;34m,\u001b[0m\u001b[0;36m6e3\u001b[0m\u001b[0;34m,\u001b[0m\u001b[0;36m8e3\u001b[0m\u001b[0;34m,\u001b[0m\u001b[0;36m10e3\u001b[0m\u001b[0;34m]\u001b[0m\u001b[0;34m,\u001b[0m\u001b[0;34m\u001b[0m\u001b[0m\n\u001b[1;32m      4\u001b[0m                      \u001b[0mfigsize\u001b[0m \u001b[0;34m=\u001b[0m \u001b[0;34m(\u001b[0m\u001b[0;36m2.5\u001b[0m\u001b[0;34m,\u001b[0m\u001b[0;36m2\u001b[0m\u001b[0;34m)\u001b[0m\u001b[0;34m,\u001b[0m\u001b[0mfontsize\u001b[0m \u001b[0;34m=\u001b[0m \u001b[0;36m8\u001b[0m\u001b[0;34m,\u001b[0m\u001b[0mscale_x_axis\u001b[0m \u001b[0;34m=\u001b[0m \u001b[0;36m1e-3\u001b[0m\u001b[0;34m,\u001b[0m \u001b[0mx_units\u001b[0m\u001b[0;34m=\u001b[0m\u001b[0;34m'$\\mu$s'\u001b[0m\u001b[0;34m,\u001b[0m\u001b[0;34m\u001b[0m\u001b[0m\n\u001b[1;32m      5\u001b[0m                      \u001b[0mlinewidth\u001b[0m \u001b[0;34m=\u001b[0m \u001b[0;36m1\u001b[0m\u001b[0;34m,\u001b[0m\u001b[0mmarkersize\u001b[0m \u001b[0;34m=\u001b[0m\u001b[0;36m2\u001b[0m\u001b[0;34m,\u001b[0m\u001b[0;34m\u001b[0m\u001b[0m\n",
        "\u001b[0;31mNameError\u001b[0m: name 'crT2' is not defined"
       ]
      }
     ],
     "prompt_number": 2
    },
    {
     "cell_type": "code",
     "collapsed": false,
     "input": [],
     "language": "python",
     "metadata": {},
     "outputs": [
      {
       "metadata": {},
       "output_type": "pyout",
       "prompt_number": 20,
       "text": [
        "1"
       ]
      }
     ],
     "prompt_number": 20
    },
    {
     "cell_type": "markdown",
     "metadata": {},
     "source": [
      "## Tomography\n",
      "#### 1 qubit initialization and readout demonstration \n"
     ]
    },
    {
     "cell_type": "code",
     "collapsed": false,
     "input": [
      "import Single_qubit_tomography as tomo\n",
      "reload(tomo)\n",
      "Result=tomo.OneQubitTomo(timestamp = '20140718_120306',  fixed = [], plot_fit = True, show_guess = False, do_print = True, \n",
      "                             frequency =[1./360,1./360,1./360],  offset =[0.5,0.5,0.5], \n",
      "                             amplitude = [0.5,0.5,0.5],  phase =[0,90,0],\n",
      "                             xticks = [0,90,180,270,360],savename ='RO_and_init_C1'  ,                  \n",
      "                             figsize = (2.5,2),fontsize = 8,            \n",
      "                             linewidth = 1,markersize =2,show_legend=False)\n"
     ],
     "language": "python",
     "metadata": {},
     "outputs": [
      {
       "output_type": "stream",
       "stream": "stdout",
       "text": [
        "************************************************************\n",
        "X Tomography\n",
        "folder /Users/Adriaan/Documents/teamdiamond/data/20140718/115928_CarbonRamseyInitialised_Hans_sil1\n",
        "0.00277777777778"
       ]
      },
      {
       "output_type": "stream",
       "stream": "stdout",
       "text": [
        "\n",
        "Converged with chi squared  0.0129850207962\n",
        "degrees of freedom, dof  17\n",
        "RMS of residuals (i.e. sqrt(chisq/dof))  0.0276373796282\n",
        "Reduced chisq (i.e. variance of residuals)  0.000763824752715\n",
        "\n",
        "fitted parameters at minimum, with 68% C.I.:\n",
        " 0 f              0.002788 +/-   0.000033\n",
        " 1 a              0.517726 +/-   0.006718\n",
        " 2 A              0.400570 +/-   0.008464\n",
        " 3 phi           -3.604181 +/-   2.845663\n",
        "\n",
        "correlation matrix:\n",
        "               f         a         A         phi       \n",
        "         f  1.000000\n",
        "         a -0.387048  1.000000\n",
        "         A  0.082194 -0.214225  1.000000\n",
        "       phi -0.892631  0.385294 -0.035027  1.000000\n",
        "\n",
        "Writting to File!\n",
        "path joined\n",
        "Writing fit results to file (fit_results.txt) at (/Users/Adriaan/Documents/teamdiamond/data/20140718/115928_CarbonRamseyInitialised_Hans_sil1) succesfull\n",
        "************************************************************\n",
        "Y Tomography\n",
        "folder /Users/Adriaan/Documents/teamdiamond/data/20140718/120120_CarbonRamseyInitialised_Hans_sil1\n",
        "Figure has not been saved."
       ]
      },
      {
       "output_type": "stream",
       "stream": "stdout",
       "text": [
        "\n",
        "0.00277777777778\n",
        "Converged with chi squared  0.00775307165665\n",
        "degrees of freedom, dof  17\n",
        "RMS of residuals (i.e. sqrt(chisq/dof))  0.0213556324801\n",
        "Reduced chisq (i.e. variance of residuals)  0.000456063038627\n",
        "\n",
        "fitted parameters at minimum, with 68% C.I.:\n",
        " 0 f              0.002773 +/-   0.000018\n",
        " 1 a              0.520674 +/-   0.004842\n",
        " 2 A              0.412833 +/-   0.006937\n",
        " 3 phi           86.744936 +/-   1.625976\n",
        "\n",
        "correlation matrix:\n",
        "               f         a         A         phi       \n",
        "         f  1.000000\n",
        "         a  0.156493  1.000000\n",
        "         A  0.021345  0.093715  1.000000\n",
        "       phi -0.831645 -0.022412 -0.064610  1.000000\n",
        "\n",
        "Writting to File!\n",
        "path joined\n",
        "Writing fit results to file (fit_results.txt) at (/Users/Adriaan/Documents/teamdiamond/data/20140718/120120_CarbonRamseyInitialised_Hans_sil1) succesfull\n",
        "************************************************************\n",
        "Z Tomography\n",
        "folder /Users/Adriaan/Documents/teamdiamond/data/20140718/120306_CarbonRamseyInitialised_Hans_sil1\n",
        "Figure has not been saved."
       ]
      },
      {
       "output_type": "stream",
       "stream": "stdout",
       "text": [
        "\n",
        "0.00277777777778\n",
        "Converged with chi squared  0.0157137642101\n",
        "degrees of freedom, dof  17\n",
        "RMS of residuals (i.e. sqrt(chisq/dof))  0.030402945107\n",
        "Reduced chisq (i.e. variance of residuals)  0.000924339071181\n",
        "\n",
        "fitted parameters at minimum, with 68% C.I.:\n",
        " 0 f              0.002218 +/-   0.000767\n",
        " 1 a              0.630422 +/-   0.007449\n",
        " 2 A             -0.017572 +/-   0.009414\n",
        " 3 phi           69.884568 +/-  57.310288\n",
        "\n",
        "correlation matrix:\n",
        "               f         a         A         phi       \n",
        "         f  1.000000\n",
        "         a  0.453788  1.000000\n",
        "         A -0.124340 -0.040935  1.000000\n",
        "       phi -0.843775 -0.369848  0.116083  1.000000\n",
        "\n",
        "Writting to File!\n",
        "path joined\n",
        "Writing fit results to file (fit_results.txt) at (/Users/Adriaan/Documents/teamdiamond/data/20140718/120306_CarbonRamseyInitialised_Hans_sil1) succesfull\n",
        "fitfunction: A * cos(2pi * (f*x + phi/360) ) + a\n"
       ]
      },
      {
       "metadata": {},
       "output_type": "display_data",
       "png": "[encoded data removed]",
       "text": [
        "<matplotlib.figure.Figure at 0x1088fd590>"
       ]
      }
     ],
     "prompt_number": 33
    },
    {
     "cell_type": "markdown",
     "metadata": {},
     "source": [
      "## 2 Qubit Tomographies"
     ]
    },
    {
     "cell_type": "markdown",
     "metadata": {},
     "source": [
      "####2 qubit initialization "
     ]
    },
    {
     "cell_type": "code",
     "collapsed": false,
     "input": [
      "import two_qubit_tomography as Tomo2\n",
      "reload(Tomo2)\n",
      "a=Tomo2.BarPlotTomo(timestamp = '20140810_122740',title='',savename ='uu-init')"
     ],
     "language": "python",
     "metadata": {},
     "outputs": [
      {
       "output_type": "stream",
       "stream": "stdout",
       "text": [
        "SSRO folder found: 20140810122325\n",
        "['XI' 'YI' 'ZI' 'IX' 'IY' 'IZ' 'XX' 'XY' 'XZ' 'YX' 'YY' 'YZ' 'ZX' 'ZY' 'ZZ']"
       ]
      },
      {
       "output_type": "stream",
       "stream": "stdout",
       "text": [
        "\n"
       ]
      },
      {
       "metadata": {},
       "output_type": "display_data",
       "png": "[encoded data removed]",
       "text": [
        "<matplotlib.figure.Figure at 0x1035174d0>"
       ]
      }
     ],
     "prompt_number": 58
    },
    {
     "cell_type": "markdown",
     "metadata": {},
     "source": [
      "#### 2 qubit Parity"
     ]
    },
    {
     "cell_type": "code",
     "collapsed": false,
     "input": [
      "timestamps = [1,2]\n",
      "np.size(timestamps)"
     ],
     "language": "python",
     "metadata": {},
     "outputs": [
      {
       "metadata": {},
       "output_type": "pyout",
       "prompt_number": 167,
       "text": [
        "2"
       ]
      }
     ],
     "prompt_number": 167
    },
    {
     "cell_type": "markdown",
     "metadata": {},
     "source": [
      "In the analysis for 2 qubit tomographies some data points are inverted. \n",
      "This is because when the results were measured it was overlooked that when the number of decoupling units is not divisible by 4 an extra z-rotation is applied to the electron. This leads some data points to be inverted. These data points are listed in the mirror data points argument of the analysis function. \n",
      "\n",
      "The problem is with carbon-4, in the experiments below carbon A. \n",
      "If it is prepared in up there are two Ren gates required to prepare. So no error in the initialization. Depending on an XX-parity being present either all the readouts containing an X or Y readout on the qubit A need to be inverted (no parity, data points [0,1,6,7,8,9,10,11]). Or all readouts containg z-readout on qubit A (with parity, data points [2,12,13,14])"
     ]
    },
    {
     "cell_type": "code",
     "collapsed": false,
     "input": [
      "reload(Tomo2)\n",
      "Tomo2.BarPlotTomoContrast(['20140810_122740'],ssro_calib_timestamp='20140801194051',\n",
      "                          guess = ([2,5,14],[1,1,1]),title ='',mirror_data_points = [0,1,6,7,8,9,10,11],\n",
      "                          figsize = (2.5,2),fontsize = 8,savename ='ZZ-init')\n",
      "\n",
      "Tomo2.BarPlotTomoContrast(['20140801_200221','20140801_201830'],ssro_calib_timestamp='20140801194051',\n",
      "                          guess = ([6,10,14],[1,1,-1]),title ='',mirror_data_points =[2,12,13,14],                       \n",
      "                          figsize = (2.5,2),fontsize = 8, savename = 'XX-parity')\n",
      "\n",
      "a = Tomo2.BarPlotTomoContrast(['20140801_214359','20140801_220851'],ssro_calib_timestamp='20140801194051',\n",
      "                              figsize = (2.5,2),fontsize = 8,  mirror_data_points = [2,12,13,14],\n",
      "                              guess = ([6,10,14],[1,-1,1]),title = '',savename = 'ud XX-parity')"
     ],
     "language": "python",
     "metadata": {},
     "outputs": [
      {
       "output_type": "stream",
       "stream": "stdout",
       "text": [
        "Fidelity with ent = 0.433240787481\n",
        "[ 0.13326603 -0.12417971  0.72387683  0.08531045 -0.01564866  0.77940434\n",
        "  0.07521454 -0.03079253  0.10297829  0.06007067 -0.02574457 -0.1822312\n",
        "  0.05502272 -0.07622413  0.67339727]"
       ]
      },
      {
       "output_type": "stream",
       "stream": "stdout",
       "text": [
        "\n",
        "x_repl 0, y 0.133266027259\n",
        "x_repl 1, y -0.124179707219\n",
        "x_repl 6, y 0.0752145381121\n",
        "x_repl 7, y -0.0307925290257\n",
        "x_repl 8, y 0.102978293791\n",
        "x_repl 9, y 0.0600706713781\n",
        "x_repl 10, y -0.0257445734478\n",
        "x_repl 11, y -0.182231196365\n",
        "[-0.13326603  0.12417971  0.72387683  0.08531045 -0.01564866  0.77940434\n",
        " -0.07521454  0.03079253 -0.10297829 -0.06007067  0.02574457  0.1822312\n",
        "  0.05502272 -0.07622413  0.67339727]\n",
        "/Users/Adriaan/Documents/teamdiamond/data/20140810/122740_2QB_with_detemriniscir Tomography_Hans_sil1"
       ]
      },
      {
       "output_type": "stream",
       "stream": "stdout",
       "text": [
        "\n",
        " Figure saved in /Users/Adriaan/Documents/teamdiamond/data/20140810/122740_2QB_with_detemriniscir Tomography_Hans_sil1"
       ]
      },
      {
       "output_type": "stream",
       "stream": "stdout",
       "text": [
        "\n",
        "Fidelity with ent = 0.263905152225"
       ]
      },
      {
       "output_type": "stream",
       "stream": "stdout",
       "text": [
        "\n",
        "[ 0.05269321  0.04976581 -0.04683841  0.07611241 -0.04098361 -0.10538642\n",
        "  0.73770492  0.14637002 -0.029274   -0.12295082  0.66744731  0.09953162\n",
        "  0.27224824  0.07318501  0.6381733 ]"
       ]
      },
      {
       "output_type": "stream",
       "stream": "stdout",
       "text": [
        "\n",
        "x_repl 2, y -0.0468384074941\n",
        "x_repl 12, y 0.27224824356\n",
        "x_repl 13, y 0.0731850117096\n",
        "x_repl 14, y 0.638173302108\n",
        "[ 0.05269321  0.04976581  0.04683841  0.07611241 -0.04098361 -0.10538642\n",
        "  0.73770492  0.14637002 -0.029274   -0.12295082  0.66744731  0.09953162\n",
        " -0.27224824 -0.07318501 -0.6381733 ]\n",
        "/Users/Adriaan/Documents/teamdiamond/data/20140801/200221_Two_QB_Tomography_Hans_sil11_XX_uu_p"
       ]
      },
      {
       "output_type": "stream",
       "stream": "stdout",
       "text": [
        "\n",
        " Figure saved in /Users/Adriaan/Documents/teamdiamond/data/20140801/200221_Two_QB_Tomography_Hans_sil11_XX_uu_p"
       ]
      },
      {
       "output_type": "stream",
       "stream": "stdout",
       "text": [
        "\n",
        "Fidelity with ent = 0.30049765808"
       ]
      },
      {
       "output_type": "stream",
       "stream": "stdout",
       "text": [
        "\n",
        "[ 0.17857143 -0.08782201  0.11124122  0.10831382  0.0058548   0.07611241\n",
        "  0.76697892 -0.07318501 -0.05562061  0.03805621 -0.67915691 -0.22833724\n",
        "  0.15515222  0.029274   -0.6176815 ]\n",
        "x_repl 2, y 0.111241217799\n",
        "x_repl 12, y 0.155152224824\n",
        "x_repl 13, y 0.0292740046838\n",
        "x_repl 14, y -0.617681498829\n",
        "[ 0.17857143 -0.08782201 -0.11124122  0.10831382  0.0058548   0.07611241\n",
        "  0.76697892 -0.07318501 -0.05562061  0.03805621 -0.67915691 -0.22833724\n",
        " -0.15515222 -0.029274    0.6176815 ]\n",
        "/Users/Adriaan/Documents/teamdiamond/data/20140801/214359_Two_QB_Tomography_Hans_sil11_XX_ud_p"
       ]
      },
      {
       "output_type": "stream",
       "stream": "stdout",
       "text": [
        "\n",
        " Figure saved in /Users/Adriaan/Documents/teamdiamond/data/20140801/214359_Two_QB_Tomography_Hans_sil11_XX_ud_p"
       ]
      },
      {
       "output_type": "stream",
       "stream": "stdout",
       "text": [
        "\n"
       ]
      },
      {
       "metadata": {},
       "output_type": "display_data",
       "png": "[encoded data removed]",
       "text": [
        "<matplotlib.figure.Figure at 0x108fb00d0>"
       ]
      },
      {
       "metadata": {},
       "output_type": "display_data",
       "png": "[encoded data removed]",
       "text": [
        "<matplotlib.figure.Figure at 0x108fba910>"
       ]
      },
      {
       "metadata": {},
       "output_type": "display_data",
       "png": "[encoded data removed]",
       "text": [
        "<matplotlib.figure.Figure at 0x108f26d90>"
       ]
      }
     ],
     "prompt_number": 179
    },
    {
     "cell_type": "markdown",
     "metadata": {},
     "source": [
      "Data is average of two datasets both with positive and negative RO (final electron-pulse negative or positive)"
     ]
    },
    {
     "cell_type": "markdown",
     "metadata": {},
     "source": [
      "#### 2 qubit post-selected parity"
     ]
    },
    {
     "cell_type": "code",
     "collapsed": false,
     "input": [
      "from analysis.scripts.QEC import Two_Qubit_Tomography as Tomo\n",
      "reload(Tomo)\n",
      "a=Tomo.BarPlotTomo(post_select=False,title = 'Tomogr1222212aphy test')"
     ],
     "language": "python",
     "metadata": {},
     "outputs": [
      {
       "ename": "KeyError",
       "evalue": "\"can't open attribute (Attribute: Can't open object)\"",
       "output_type": "pyerr",
       "traceback": [
        "\u001b[0;31m---------------------------------------------------------------------------\u001b[0m\n\u001b[0;31mKeyError\u001b[0m                                  Traceback (most recent call last)",
        "\u001b[0;32m<ipython-input-114-38606f41503f>\u001b[0m in \u001b[0;36m<module>\u001b[0;34m()\u001b[0m\n\u001b[1;32m      1\u001b[0m \u001b[0;32mfrom\u001b[0m \u001b[0manalysis\u001b[0m\u001b[0;34m.\u001b[0m\u001b[0mscripts\u001b[0m\u001b[0;34m.\u001b[0m\u001b[0mQEC\u001b[0m \u001b[0;32mimport\u001b[0m \u001b[0mTwo_Qubit_Tomography\u001b[0m \u001b[0;32mas\u001b[0m \u001b[0mTomo\u001b[0m\u001b[0;34m\u001b[0m\u001b[0m\n\u001b[1;32m      2\u001b[0m \u001b[0mreload\u001b[0m\u001b[0;34m(\u001b[0m\u001b[0mTomo\u001b[0m\u001b[0;34m)\u001b[0m\u001b[0;34m\u001b[0m\u001b[0m\n\u001b[0;32m----> 3\u001b[0;31m \u001b[0ma\u001b[0m\u001b[0;34m=\u001b[0m\u001b[0mTomo\u001b[0m\u001b[0;34m.\u001b[0m\u001b[0mBarPlotTomo\u001b[0m\u001b[0;34m(\u001b[0m\u001b[0mpost_select\u001b[0m\u001b[0;34m=\u001b[0m\u001b[0mFalse\u001b[0m\u001b[0;34m,\u001b[0m\u001b[0mtitle\u001b[0m \u001b[0;34m=\u001b[0m \u001b[0;34m'Tomogr1222212aphy test'\u001b[0m\u001b[0;34m)\u001b[0m\u001b[0;34m\u001b[0m\u001b[0m\n\u001b[0m",
        "\u001b[0;32m/Users/Adriaan/Documents/teamdiamond/analysis/scripts/QEC/Two_Qubit_Tomography.pyc\u001b[0m in \u001b[0;36mBarPlotTomo\u001b[0;34m(timestamp, measurement_name, folder_name, post_select, ssro_calib_timestamp, save, plot_fit, title, fontsize)\u001b[0m\n\u001b[1;32m     27\u001b[0m \u001b[0;34m\u001b[0m\u001b[0m\n\u001b[1;32m     28\u001b[0m     \u001b[0ma\u001b[0m \u001b[0;34m=\u001b[0m \u001b[0mCP\u001b[0m\u001b[0;34m.\u001b[0m\u001b[0mConditionalParityAnalysis\u001b[0m\u001b[0;34m(\u001b[0m\u001b[0mfolder\u001b[0m\u001b[0;34m)\u001b[0m\u001b[0;34m\u001b[0m\u001b[0m\n\u001b[0;32m---> 29\u001b[0;31m     \u001b[0ma\u001b[0m\u001b[0;34m.\u001b[0m\u001b[0mget_sweep_pts\u001b[0m\u001b[0;34m(\u001b[0m\u001b[0;34m)\u001b[0m\u001b[0;34m\u001b[0m\u001b[0m\n\u001b[0m\u001b[1;32m     30\u001b[0m     \u001b[0ma\u001b[0m\u001b[0;34m.\u001b[0m\u001b[0mget_readout_results\u001b[0m\u001b[0;34m(\u001b[0m\u001b[0mname\u001b[0m\u001b[0;34m=\u001b[0m\u001b[0;34m'adwindata'\u001b[0m\u001b[0;34m,\u001b[0m\u001b[0mpost_select\u001b[0m \u001b[0;34m=\u001b[0m \u001b[0mpost_select\u001b[0m\u001b[0;34m)\u001b[0m\u001b[0;34m\u001b[0m\u001b[0m\n\u001b[1;32m     31\u001b[0m     \u001b[0ma\u001b[0m\u001b[0;34m.\u001b[0m\u001b[0mget_electron_ROC\u001b[0m\u001b[0;34m(\u001b[0m\u001b[0mssro_calib_folder\u001b[0m\u001b[0;34m)\u001b[0m\u001b[0;34m\u001b[0m\u001b[0m\n",
        "\u001b[0;32m/Users/Adriaan/Documents/teamdiamond/analysis/lib/m2/ssro/mbi.pyc\u001b[0m in \u001b[0;36mget_sweep_pts\u001b[0;34m(self)\u001b[0m\n\u001b[1;32m    103\u001b[0m \u001b[0;34m\u001b[0m\u001b[0m\n\u001b[1;32m    104\u001b[0m     \u001b[0;32mdef\u001b[0m \u001b[0mget_sweep_pts\u001b[0m\u001b[0;34m(\u001b[0m\u001b[0mself\u001b[0m\u001b[0;34m)\u001b[0m\u001b[0;34m:\u001b[0m\u001b[0;34m\u001b[0m\u001b[0m\n\u001b[0;32m--> 105\u001b[0;31m         \u001b[0mself\u001b[0m\u001b[0;34m.\u001b[0m\u001b[0msweep_name\u001b[0m \u001b[0;34m=\u001b[0m \u001b[0mself\u001b[0m\u001b[0;34m.\u001b[0m\u001b[0mg\u001b[0m\u001b[0;34m.\u001b[0m\u001b[0mattrs\u001b[0m\u001b[0;34m[\u001b[0m\u001b[0;34m'sweep_name'\u001b[0m\u001b[0;34m]\u001b[0m\u001b[0;34m\u001b[0m\u001b[0m\n\u001b[0m\u001b[1;32m    106\u001b[0m         \u001b[0mself\u001b[0m\u001b[0;34m.\u001b[0m\u001b[0msweep_pts\u001b[0m \u001b[0;34m=\u001b[0m \u001b[0mself\u001b[0m\u001b[0;34m.\u001b[0m\u001b[0mg\u001b[0m\u001b[0;34m.\u001b[0m\u001b[0mattrs\u001b[0m\u001b[0;34m[\u001b[0m\u001b[0;34m'sweep_pts'\u001b[0m\u001b[0;34m]\u001b[0m\u001b[0;34m\u001b[0m\u001b[0m\n\u001b[1;32m    107\u001b[0m \u001b[0;34m\u001b[0m\u001b[0m\n",
        "\u001b[0;32m/Users/Adriaan/anaconda/lib/python2.7/site-packages/h5py/_hl/attrs.pyc\u001b[0m in \u001b[0;36m__getitem__\u001b[0;34m(self, name)\u001b[0m\n\u001b[1;32m     46\u001b[0m         \"\"\" Read the value of an attribute.\n\u001b[1;32m     47\u001b[0m         \"\"\"\n\u001b[0;32m---> 48\u001b[0;31m         \u001b[0mattr\u001b[0m \u001b[0;34m=\u001b[0m \u001b[0mh5a\u001b[0m\u001b[0;34m.\u001b[0m\u001b[0mopen\u001b[0m\u001b[0;34m(\u001b[0m\u001b[0mself\u001b[0m\u001b[0;34m.\u001b[0m\u001b[0m_id\u001b[0m\u001b[0;34m,\u001b[0m \u001b[0mself\u001b[0m\u001b[0;34m.\u001b[0m\u001b[0m_e\u001b[0m\u001b[0;34m(\u001b[0m\u001b[0mname\u001b[0m\u001b[0;34m)\u001b[0m\u001b[0;34m)\u001b[0m\u001b[0;34m\u001b[0m\u001b[0m\n\u001b[0m\u001b[1;32m     49\u001b[0m \u001b[0;34m\u001b[0m\u001b[0m\n\u001b[1;32m     50\u001b[0m         \u001b[0;32mif\u001b[0m \u001b[0mattr\u001b[0m\u001b[0;34m.\u001b[0m\u001b[0mget_space\u001b[0m\u001b[0;34m(\u001b[0m\u001b[0;34m)\u001b[0m\u001b[0;34m.\u001b[0m\u001b[0mget_simple_extent_type\u001b[0m\u001b[0;34m(\u001b[0m\u001b[0;34m)\u001b[0m \u001b[0;34m==\u001b[0m \u001b[0mh5s\u001b[0m\u001b[0;34m.\u001b[0m\u001b[0mNULL\u001b[0m\u001b[0;34m:\u001b[0m\u001b[0;34m\u001b[0m\u001b[0m\n",
        "\u001b[0;32m/Users/Adriaan/anaconda/lib/python2.7/site-packages/h5py/h5a.so\u001b[0m in \u001b[0;36mh5py.h5a.open (h5py/h5a.c:1840)\u001b[0;34m()\u001b[0m\n",
        "\u001b[0;31mKeyError\u001b[0m: \"can't open attribute (Attribute: Can't open object)\""
       ]
      }
     ],
     "prompt_number": 114
    },
    {
     "cell_type": "code",
     "collapsed": false,
     "input": [
      "from analysis.scripts.QEC import Two_Qubit_Tomography as Tomo\n",
      "reload(Tomo)\n",
      "a=Tomo.BarPlotTomo(post_select=True, title = 'Tomotest ')"
     ],
     "language": "python",
     "metadata": {},
     "outputs": [
      {
       "ename": "KeyError",
       "evalue": "\"unable to open object (Symbol table: Can't open object)\"",
       "output_type": "pyerr",
       "traceback": [
        "\u001b[0;31m---------------------------------------------------------------------------\u001b[0m\n\u001b[0;31mKeyError\u001b[0m                                  Traceback (most recent call last)",
        "\u001b[0;32m<ipython-input-14-4dcae95a845f>\u001b[0m in \u001b[0;36m<module>\u001b[0;34m()\u001b[0m\n\u001b[1;32m      1\u001b[0m \u001b[0;32mfrom\u001b[0m \u001b[0manalysis\u001b[0m\u001b[0;34m.\u001b[0m\u001b[0mscripts\u001b[0m\u001b[0;34m.\u001b[0m\u001b[0mQEC\u001b[0m \u001b[0;32mimport\u001b[0m \u001b[0mTwo_Qubit_Tomography\u001b[0m \u001b[0;32mas\u001b[0m \u001b[0mTomo\u001b[0m\u001b[0;34m\u001b[0m\u001b[0m\n\u001b[1;32m      2\u001b[0m \u001b[0mreload\u001b[0m\u001b[0;34m(\u001b[0m\u001b[0mTomo\u001b[0m\u001b[0;34m)\u001b[0m\u001b[0;34m\u001b[0m\u001b[0m\n\u001b[0;32m----> 3\u001b[0;31m \u001b[0ma\u001b[0m\u001b[0;34m=\u001b[0m\u001b[0mTomo\u001b[0m\u001b[0;34m.\u001b[0m\u001b[0mBarPlotTomo\u001b[0m\u001b[0;34m(\u001b[0m\u001b[0mpost_select\u001b[0m\u001b[0;34m=\u001b[0m\u001b[0mTrue\u001b[0m\u001b[0;34m,\u001b[0m \u001b[0mtitle\u001b[0m \u001b[0;34m=\u001b[0m \u001b[0;34m'Tomotest '\u001b[0m\u001b[0;34m)\u001b[0m\u001b[0;34m\u001b[0m\u001b[0m\n\u001b[0m",
        "\u001b[0;32m/Users/Adriaan/Documents/teamdiamond/analysis/scripts/QEC/Two_Qubit_Tomography.pyc\u001b[0m in \u001b[0;36mBarPlotTomo\u001b[0;34m(timestamp, measurement_name, folder_name, post_select, ssro_calib_timestamp, save, plot_fit, title, fontsize)\u001b[0m\n\u001b[1;32m     28\u001b[0m     \u001b[0ma\u001b[0m \u001b[0;34m=\u001b[0m \u001b[0mCP\u001b[0m\u001b[0;34m.\u001b[0m\u001b[0mConditionalParityAnalysis\u001b[0m\u001b[0;34m(\u001b[0m\u001b[0mfolder\u001b[0m\u001b[0;34m)\u001b[0m\u001b[0;34m\u001b[0m\u001b[0m\n\u001b[1;32m     29\u001b[0m     \u001b[0ma\u001b[0m\u001b[0;34m.\u001b[0m\u001b[0mget_sweep_pts\u001b[0m\u001b[0;34m(\u001b[0m\u001b[0;34m)\u001b[0m\u001b[0;34m\u001b[0m\u001b[0m\n\u001b[0;32m---> 30\u001b[0;31m     \u001b[0ma\u001b[0m\u001b[0;34m.\u001b[0m\u001b[0mget_readout_results\u001b[0m\u001b[0;34m(\u001b[0m\u001b[0mname\u001b[0m\u001b[0;34m=\u001b[0m\u001b[0;34m'adwindata'\u001b[0m\u001b[0;34m,\u001b[0m\u001b[0mpost_select\u001b[0m \u001b[0;34m=\u001b[0m \u001b[0mpost_select\u001b[0m\u001b[0;34m)\u001b[0m\u001b[0;34m\u001b[0m\u001b[0m\n\u001b[0m\u001b[1;32m     31\u001b[0m     \u001b[0ma\u001b[0m\u001b[0;34m.\u001b[0m\u001b[0mget_electron_ROC\u001b[0m\u001b[0;34m(\u001b[0m\u001b[0mssro_calib_folder\u001b[0m\u001b[0;34m)\u001b[0m\u001b[0;34m\u001b[0m\u001b[0m\n\u001b[1;32m     32\u001b[0m \u001b[0;34m\u001b[0m\u001b[0m\n",
        "\u001b[0;32m/Users/Adriaan/Documents/teamdiamond/analysis/lib/QEC/conditionalparity.pyc\u001b[0m in \u001b[0;36mget_readout_results\u001b[0;34m(self, name, post_select)\u001b[0m\n\u001b[1;32m     38\u001b[0m \u001b[0;34m\u001b[0m\u001b[0m\n\u001b[1;32m     39\u001b[0m             \u001b[0;31m#Step 0 extract data from hdf5 file\u001b[0m\u001b[0;34m\u001b[0m\u001b[0;34m\u001b[0m\u001b[0m\n\u001b[0;32m---> 40\u001b[0;31m             \u001b[0mself\u001b[0m\u001b[0;34m.\u001b[0m\u001b[0mparity_result\u001b[0m \u001b[0;34m=\u001b[0m \u001b[0madwingrp\u001b[0m\u001b[0;34m[\u001b[0m\u001b[0;34m'parity_result'\u001b[0m\u001b[0;34m]\u001b[0m\u001b[0;34m.\u001b[0m\u001b[0mvalue\u001b[0m \u001b[0;31m#Creates a list of 0 and 1 's for when the parity measurement was success\u001b[0m\u001b[0;34m\u001b[0m\u001b[0m\n\u001b[0m\u001b[1;32m     41\u001b[0m             \u001b[0mself\u001b[0m\u001b[0;34m.\u001b[0m\u001b[0mssro_results\u001b[0m \u001b[0;34m=\u001b[0m \u001b[0madwingrp\u001b[0m\u001b[0;34m[\u001b[0m\u001b[0;34m'ssro_results'\u001b[0m\u001b[0;34m]\u001b[0m\u001b[0;34m.\u001b[0m\u001b[0mvalue\u001b[0m \u001b[0;31m#Extracts all the SSRO data\u001b[0m\u001b[0;34m\u001b[0m\u001b[0m\n\u001b[1;32m     42\u001b[0m \u001b[0;34m\u001b[0m\u001b[0m\n",
        "\u001b[0;32m/Users/Adriaan/anaconda/lib/python2.7/site-packages/h5py/_hl/group.pyc\u001b[0m in \u001b[0;36m__getitem__\u001b[0;34m(self, name)\u001b[0m\n\u001b[1;32m    151\u001b[0m                 \u001b[0;32mraise\u001b[0m \u001b[0mValueError\u001b[0m\u001b[0;34m(\u001b[0m\u001b[0;34m\"Invalid HDF5 object reference\"\u001b[0m\u001b[0;34m)\u001b[0m\u001b[0;34m\u001b[0m\u001b[0m\n\u001b[1;32m    152\u001b[0m         \u001b[0;32melse\u001b[0m\u001b[0;34m:\u001b[0m\u001b[0;34m\u001b[0m\u001b[0m\n\u001b[0;32m--> 153\u001b[0;31m             \u001b[0moid\u001b[0m \u001b[0;34m=\u001b[0m \u001b[0mh5o\u001b[0m\u001b[0;34m.\u001b[0m\u001b[0mopen\u001b[0m\u001b[0;34m(\u001b[0m\u001b[0mself\u001b[0m\u001b[0;34m.\u001b[0m\u001b[0mid\u001b[0m\u001b[0;34m,\u001b[0m \u001b[0mself\u001b[0m\u001b[0;34m.\u001b[0m\u001b[0m_e\u001b[0m\u001b[0;34m(\u001b[0m\u001b[0mname\u001b[0m\u001b[0;34m)\u001b[0m\u001b[0;34m,\u001b[0m \u001b[0mlapl\u001b[0m\u001b[0;34m=\u001b[0m\u001b[0mself\u001b[0m\u001b[0;34m.\u001b[0m\u001b[0m_lapl\u001b[0m\u001b[0;34m)\u001b[0m\u001b[0;34m\u001b[0m\u001b[0m\n\u001b[0m\u001b[1;32m    154\u001b[0m \u001b[0;34m\u001b[0m\u001b[0m\n\u001b[1;32m    155\u001b[0m         \u001b[0motype\u001b[0m \u001b[0;34m=\u001b[0m \u001b[0mh5i\u001b[0m\u001b[0;34m.\u001b[0m\u001b[0mget_type\u001b[0m\u001b[0;34m(\u001b[0m\u001b[0moid\u001b[0m\u001b[0;34m)\u001b[0m\u001b[0;34m\u001b[0m\u001b[0m\n",
        "\u001b[0;32m/Users/Adriaan/anaconda/lib/python2.7/site-packages/h5py/h5o.so\u001b[0m in \u001b[0;36mh5py.h5o.open (h5py/h5o.c:2946)\u001b[0;34m()\u001b[0m\n",
        "\u001b[0;31mKeyError\u001b[0m: \"unable to open object (Symbol table: Can't open object)\""
       ]
      }
     ],
     "prompt_number": 14
    },
    {
     "cell_type": "markdown",
     "metadata": {},
     "source": [
      "#### Hyperfine paralel components\n",
      "Quick test of how scaling should be to get linearly seperated peaks"
     ]
    },
    {
     "cell_type": "code",
     "collapsed": false,
     "input": [
      "import numpy as np\n",
      "A = (np.arange(50.)*4*1e3)\n",
      "B = 300\n",
      "gamma_C = 1070.5 #Hz/G \n",
      "k =2\n",
      "A_orth = 10000\n",
      "#print A "
     ],
     "language": "python",
     "metadata": {},
     "outputs": [],
     "prompt_number": 52
    },
    {
     "cell_type": "code",
     "collapsed": false,
     "input": [
      "tau = (np.pi*(2*k+1))/ (2*B*gamma_C+A)\n",
      "Delta = A_orth /(2*(gamma_C*B)**2)*1e9\n",
      "# print 'Delta' \n",
      "# print Delta\n",
      "# print 'tau'\n",
      "# print (tau[0:-2]-tau[1:-1])*1e9\n",
      "# print tau\n",
      "print (gamma_C*B)"
     ],
     "language": "python",
     "metadata": {},
     "outputs": [
      {
       "output_type": "stream",
       "stream": "stdout",
       "text": [
        "321150.0\n"
       ]
      }
     ],
     "prompt_number": 53
    },
    {
     "cell_type": "code",
     "collapsed": false,
     "input": [
      "import matplotlib.pyplot as plt\n",
      "plt.plot(A,tau)\n"
     ],
     "language": "python",
     "metadata": {},
     "outputs": [
      {
       "metadata": {},
       "output_type": "pyout",
       "prompt_number": 54,
       "text": [
        "[<matplotlib.lines.Line2D at 0x107e9ea10>]"
       ]
      },
      {
       "metadata": {},
       "output_type": "display_data",
       "png": "[encoded data removed]",
       "text": [
        "<matplotlib.figure.Figure at 0x103d3f4d0>"
       ]
      }
     ],
     "prompt_number": 54
    },
    {
     "cell_type": "markdown",
     "metadata": {},
     "source": [
      "## Bloch sphere illustrations"
     ]
    },
    {
     "cell_type": "code",
     "collapsed": false,
     "input": [
      "from qutip import *\n",
      "from scipy import *\n",
      "import numpy as  np "
     ],
     "language": "python",
     "metadata": {},
     "outputs": [],
     "prompt_number": 170
    },
    {
     "cell_type": "markdown",
     "metadata": {},
     "source": [
      "Electron starts in |0> carbon starts in mixed state. "
     ]
    },
    {
     "cell_type": "code",
     "collapsed": false,
     "input": [
      "up = basis(2,0)\n",
      "dn = basis(2,1)\n",
      "ketX = (up+dn)/np.sqrt(2)\n",
      "\n",
      "rho_up = up*up.dag()\n",
      "rho_dn = dn*dn.dag()\n",
      "\n",
      "rho_C = 0.5*qeye(2)\n",
      "rho_initial = tensor(rho_up,rho_C)"
     ],
     "language": "python",
     "metadata": {},
     "outputs": [],
     "prompt_number": 171
    },
    {
     "cell_type": "code",
     "collapsed": false,
     "input": [
      "ketX"
     ],
     "language": "python",
     "metadata": {},
     "outputs": [
      {
       "latex": [
        "Quantum object: dims = [[2], [1]], shape = [2, 1], type = ket\\begin{equation*}\\left(\\begin{array}{*{11}c}0.707\\\\0.707\\\\\\end{array}\\right)\\end{equation*}"
       ],
       "metadata": {},
       "output_type": "pyout",
       "prompt_number": 182,
       "text": [
        "Quantum object: dims = [[2], [1]], shape = [2, 1], type = ket\n",
        "Qobj data =\n",
        "[[ 0.70710678]\n",
        " [ 0.70710678]]"
       ]
      }
     ],
     "prompt_number": 182
    },
    {
     "cell_type": "markdown",
     "metadata": {},
     "source": [
      "Yielding the following density matrix "
     ]
    },
    {
     "cell_type": "code",
     "collapsed": false,
     "input": [
      "rho_initial\n"
     ],
     "language": "python",
     "metadata": {},
     "outputs": [
      {
       "latex": [
        "Quantum object: dims = [[2, 2], [2, 2]], shape = [4, 4], type = oper, isherm = True\\begin{equation*}\\left(\\begin{array}{*{11}c}0.500 & 0.0 & 0.0 & 0.0\\\\0.0 & 0.500 & 0.0 & 0.0\\\\0.0 & 0.0 & 0.0 & 0.0\\\\0.0 & 0.0 & 0.0 & 0.0\\\\\\end{array}\\right)\\end{equation*}"
       ],
       "metadata": {},
       "output_type": "pyout",
       "prompt_number": 143,
       "text": [
        "Quantum object: dims = [[2, 2], [2, 2]], shape = [4, 4], type = oper, isherm = True\n",
        "Qobj data =\n",
        "[[ 0.5  0.   0.   0. ]\n",
        " [ 0.   0.5  0.   0. ]\n",
        " [ 0.   0.   0.   0. ]\n",
        " [ 0.   0.   0.   0. ]]"
       ]
      }
     ],
     "prompt_number": 143
    },
    {
     "cell_type": "markdown",
     "metadata": {},
     "source": [
      "In order to initialize, the \n"
     ]
    },
    {
     "cell_type": "code",
     "collapsed": false,
     "input": [
      "Rxp = (-1j*sigmax()+qeye(2))/np.sqrt(2)\n",
      "Rxm = (1j*sigmax()+qeye(2))/np.sqrt(2)\n",
      "Ryp = (-1j*sigmay()+qeye(2))/np.sqrt(2)\n",
      "# C_pX = qutip.tensor((qutip.basis(2,1)*qutip.basis(2,1).dag())\n",
      "Rxp"
     ],
     "language": "python",
     "metadata": {},
     "outputs": [
      {
       "latex": [
        "Quantum object: dims = [[2], [2]], shape = [2, 2], type = oper, isherm = False\\begin{equation*}\\left(\\begin{array}{*{11}c}0.707 & -0.707j\\\\-0.707j & 0.707\\\\\\end{array}\\right)\\end{equation*}"
       ],
       "metadata": {},
       "output_type": "pyout",
       "prompt_number": 144,
       "text": [
        "Quantum object: dims = [[2], [2]], shape = [2, 2], type = oper, isherm = False\n",
        "Qobj data =\n",
        "[[ 0.70710678+0.j          0.00000000-0.70710678j]\n",
        " [ 0.00000000-0.70710678j  0.70710678+0.j        ]]"
       ]
      }
     ],
     "prompt_number": 144
    },
    {
     "cell_type": "code",
     "collapsed": false,
     "input": [
      "Ren = qutip.tensor(rho_up,Rxp)+qutip.tensor(rho_dn,Rxm)\n",
      "Rxp_el = qutip.tensor(Rxp,qutip.qeye(2))\n",
      "Ryp_el = qutip.tensor(Ryp,qutip.qeye(2))\n"
     ],
     "language": "python",
     "metadata": {},
     "outputs": [],
     "prompt_number": 145
    },
    {
     "cell_type": "code",
     "collapsed": false,
     "input": [
      "Ryp_el"
     ],
     "language": "python",
     "metadata": {},
     "outputs": [
      {
       "latex": [
        "Quantum object: dims = [[2, 2], [2, 2]], shape = [4, 4], type = oper, isherm = False\\begin{equation*}\\left(\\begin{array}{*{11}c}0.707 & 0.0 & -0.707 & 0.0\\\\0.0 & 0.707 & 0.0 & -0.707\\\\0.707 & 0.0 & 0.707 & 0.0\\\\0.0 & 0.707 & 0.0 & 0.707\\\\\\end{array}\\right)\\end{equation*}"
       ],
       "metadata": {},
       "output_type": "pyout",
       "prompt_number": 146,
       "text": [
        "Quantum object: dims = [[2, 2], [2, 2]], shape = [4, 4], type = oper, isherm = False\n",
        "Qobj data =\n",
        "[[ 0.70710678  0.         -0.70710678  0.        ]\n",
        " [ 0.          0.70710678  0.         -0.70710678]\n",
        " [ 0.70710678  0.          0.70710678  0.        ]\n",
        " [ 0.          0.70710678  0.          0.70710678]]"
       ]
      }
     ],
     "prompt_number": 146
    },
    {
     "cell_type": "code",
     "collapsed": false,
     "input": [
      "rho_initial = qutip.tensor(rho_up,ketX*ketX.dag())\n",
      "rho_initial = (1+1j)*rho_initial \n"
     ],
     "language": "python",
     "metadata": {},
     "outputs": [],
     "prompt_number": 162
    },
    {
     "cell_type": "code",
     "collapsed": false,
     "input": [
      "rho_initial"
     ],
     "language": "python",
     "metadata": {},
     "outputs": [
      {
       "latex": [
        "Quantum object: dims = [[2, 2], [2, 2]], shape = [4, 4], type = oper, isherm = False\\begin{equation*}\\left(\\begin{array}{*{11}c}(0.500+0.500j) & (0.500+0.500j) & 0.0 & 0.0\\\\(0.500+0.500j) & (0.500+0.500j) & 0.0 & 0.0\\\\0.0 & 0.0 & 0.0 & 0.0\\\\0.0 & 0.0 & 0.0 & 0.0\\\\\\end{array}\\right)\\end{equation*}"
       ],
       "metadata": {},
       "output_type": "pyout",
       "prompt_number": 163,
       "text": [
        "Quantum object: dims = [[2, 2], [2, 2]], shape = [4, 4], type = oper, isherm = False\n",
        "Qobj data =\n",
        "[[ 0.5+0.5j  0.5+0.5j  0.0+0.j   0.0+0.j ]\n",
        " [ 0.5+0.5j  0.5+0.5j  0.0+0.j   0.0+0.j ]\n",
        " [ 0.0+0.j   0.0+0.j   0.0+0.j   0.0+0.j ]\n",
        " [ 0.0+0.j   0.0+0.j   0.0+0.j   0.0+0.j ]]"
       ]
      }
     ],
     "prompt_number": 163
    },
    {
     "cell_type": "code",
     "collapsed": false,
     "input": [
      "seq = Rxp_el*Ren*Ryp_el\n"
     ],
     "language": "python",
     "metadata": {},
     "outputs": [],
     "prompt_number": 164
    },
    {
     "cell_type": "code",
     "collapsed": false,
     "input": [
      "rho_final = seq*rho_initial*seq.dag()"
     ],
     "language": "python",
     "metadata": {},
     "outputs": [],
     "prompt_number": 165
    },
    {
     "cell_type": "code",
     "collapsed": false,
     "input": [
      "rho_final"
     ],
     "language": "python",
     "metadata": {},
     "outputs": [
      {
       "latex": [
        "Quantum object: dims = [[2, 2], [2, 2]], shape = [4, 4], type = oper, isherm = False\\begin{equation*}\\left(\\begin{array}{*{11}c}(0.500+0.500j) & (0.500+0.500j) & 0.0 & 0.0\\\\(0.500+0.500j) & (0.500+0.500j) & 0.0 & 0.0\\\\0.0 & 0.0 & 0.0 & 0.0\\\\0.0 & 0.0 & 0.0 & 0.0\\\\\\end{array}\\right)\\end{equation*}"
       ],
       "metadata": {},
       "output_type": "pyout",
       "prompt_number": 166,
       "text": [
        "Quantum object: dims = [[2, 2], [2, 2]], shape = [4, 4], type = oper, isherm = False\n",
        "Qobj data =\n",
        "[[ 0.5+0.5j  0.5+0.5j  0.0+0.j   0.0+0.j ]\n",
        " [ 0.5+0.5j  0.5+0.5j  0.0+0.j   0.0+0.j ]\n",
        " [ 0.0+0.j   0.0+0.j   0.0+0.j   0.0+0.j ]\n",
        " [ 0.0+0.j   0.0+0.j   0.0+0.j   0.0+0.j ]]"
       ]
      }
     ],
     "prompt_number": 166
    },
    {
     "cell_type": "code",
     "collapsed": false,
     "input": [],
     "language": "python",
     "metadata": {},
     "outputs": [],
     "prompt_number": 166
    },
    {
     "cell_type": "code",
     "collapsed": false,
     "input": [
      "Ryp_el*rho_initial*Ryp_el.dag()"
     ],
     "language": "python",
     "metadata": {},
     "outputs": [
      {
       "latex": [
        "Quantum object: dims = [[2, 2], [2, 2]], shape = [4, 4], type = oper, isherm = False\\begin{equation*}\\left(\\begin{array}{*{11}c}(0.250+0.250j) & (0.250+0.250j) & (0.250+0.250j) & (0.250+0.250j)\\\\(0.250+0.250j) & (0.250+0.250j) & (0.250+0.250j) & (0.250+0.250j)\\\\(0.250+0.250j) & (0.250+0.250j) & (0.250+0.250j) & (0.250+0.250j)\\\\(0.250+0.250j) & (0.250+0.250j) & (0.250+0.250j) & (0.250+0.250j)\\\\\\end{array}\\right)\\end{equation*}"
       ],
       "metadata": {},
       "output_type": "pyout",
       "prompt_number": 167,
       "text": [
        "Quantum object: dims = [[2, 2], [2, 2]], shape = [4, 4], type = oper, isherm = False\n",
        "Qobj data =\n",
        "[[ 0.25+0.25j  0.25+0.25j  0.25+0.25j  0.25+0.25j]\n",
        " [ 0.25+0.25j  0.25+0.25j  0.25+0.25j  0.25+0.25j]\n",
        " [ 0.25+0.25j  0.25+0.25j  0.25+0.25j  0.25+0.25j]\n",
        " [ 0.25+0.25j  0.25+0.25j  0.25+0.25j  0.25+0.25j]]"
       ]
      }
     ],
     "prompt_number": 167
    },
    {
     "cell_type": "code",
     "collapsed": false,
     "input": [
      "Ren*Ryp_el*rho_initial*Ryp_el.dag()*Ren.dag()"
     ],
     "language": "python",
     "metadata": {},
     "outputs": [
      {
       "latex": [
        "Quantum object: dims = [[2, 2], [2, 2]], shape = [4, 4], type = oper, isherm = False\\begin{equation*}\\left(\\begin{array}{*{11}c}(0.250+0.250j) & (0.250+0.250j) & (0.250-0.250j) & (0.250-0.250j)\\\\(0.250+0.250j) & (0.250+0.250j) & (0.250-0.250j) & (0.250-0.250j)\\\\(-0.250+0.250j) & (-0.250+0.250j) & (0.250+0.250j) & (0.250+0.250j)\\\\(-0.250+0.250j) & (-0.250+0.250j) & (0.250+0.250j) & (0.250+0.250j)\\\\\\end{array}\\right)\\end{equation*}"
       ],
       "metadata": {},
       "output_type": "pyout",
       "prompt_number": 168,
       "text": [
        "Quantum object: dims = [[2, 2], [2, 2]], shape = [4, 4], type = oper, isherm = False\n",
        "Qobj data =\n",
        "[[ 0.25+0.25j  0.25+0.25j  0.25-0.25j  0.25-0.25j]\n",
        " [ 0.25+0.25j  0.25+0.25j  0.25-0.25j  0.25-0.25j]\n",
        " [-0.25+0.25j -0.25+0.25j  0.25+0.25j  0.25+0.25j]\n",
        " [-0.25+0.25j -0.25+0.25j  0.25+0.25j  0.25+0.25j]]"
       ]
      }
     ],
     "prompt_number": 168
    },
    {
     "cell_type": "code",
     "collapsed": false,
     "input": [
      "Rxp_el*Ryp_el*rho_initial*Ryp_el.dag()*Rxp_el.dag()"
     ],
     "language": "python",
     "metadata": {},
     "outputs": [
      {
       "latex": [
        "Quantum object: dims = [[2, 2], [2, 2]], shape = [4, 4], type = oper, isherm = False\\begin{equation*}\\left(\\begin{array}{*{11}c}(0.250+0.250j) & (0.250+0.250j) & (0.250+0.250j) & (0.250+0.250j)\\\\(0.250+0.250j) & (0.250+0.250j) & (0.250+0.250j) & (0.250+0.250j)\\\\(0.250+0.250j) & (0.250+0.250j) & (0.250+0.250j) & (0.250+0.250j)\\\\(0.250+0.250j) & (0.250+0.250j) & (0.250+0.250j) & (0.250+0.250j)\\\\\\end{array}\\right)\\end{equation*}"
       ],
       "metadata": {},
       "output_type": "pyout",
       "prompt_number": 169,
       "text": [
        "Quantum object: dims = [[2, 2], [2, 2]], shape = [4, 4], type = oper, isherm = False\n",
        "Qobj data =\n",
        "[[ 0.25+0.25j  0.25+0.25j  0.25+0.25j  0.25+0.25j]\n",
        " [ 0.25+0.25j  0.25+0.25j  0.25+0.25j  0.25+0.25j]\n",
        " [ 0.25+0.25j  0.25+0.25j  0.25+0.25j  0.25+0.25j]\n",
        " [ 0.25+0.25j  0.25+0.25j  0.25+0.25j  0.25+0.25j]]"
       ]
      }
     ],
     "prompt_number": 169
    },
    {
     "cell_type": "code",
     "collapsed": false,
     "input": [],
     "language": "python",
     "metadata": {},
     "outputs": []
    }
   ],
   "metadata": {}
  }
 ]
}