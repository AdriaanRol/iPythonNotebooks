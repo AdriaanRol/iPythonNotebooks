{
 "metadata": {
  "name": ""
 },
 "nbformat": 3,
 "nbformat_minor": 0,
 "worksheets": [
  {
   "cells": [
    {
     "cell_type": "code",
     "collapsed": false,
     "input": [
      "ls"
     ],
     "language": "python",
     "metadata": {},
     "outputs": [
      {
       "output_type": "stream",
       "stream": "stdout",
       "text": [
        "C13 control.ipynb\r\n",
        "Calculate_NV_levels_transitions.ipynb\r\n",
        "Calibrations - basic.ipynb\r\n",
        "Calibrations - pulses.ipynb\r\n",
        "Carbon Analysis.ipynb\r\n",
        "Carbon Initialization Experiments.ipynb\r\n",
        "Console.ipynb\r\n",
        "Dynamical Decoupling.ipynb\r\n",
        "Fingerprinting.ipynb\r\n",
        "MBI type data - general fits .ipynb\r\n",
        "MW.ipynb\r\n",
        "Magnet scans.ipynb\r\n",
        "Manual Magnet Calibration.ipynb\r\n",
        "Master Thesis Figures Adriaan.ipynb\r\n",
        "\u001b[34mNot_currently_used\u001b[m\u001b[m/\r\n",
        "Repetitive ramseys.ipynb\r\n",
        "Reproducing Simulation figures.ipynb\r\n",
        "T1_Measurements_old_sample.ipynb\r\n",
        "Theory - calculate rot matrices.ipynb\r\n",
        "Tomography.ipynb\r\n",
        "\u001b[34mUsers\u001b[m\u001b[m/\r\n"
       ]
      }
     ],
     "prompt_number": 1
    },
    {
     "cell_type": "code",
     "collapsed": false,
     "input": [
      "cd .. \n"
     ],
     "language": "python",
     "metadata": {},
     "outputs": [
      {
       "output_type": "stream",
       "stream": "stdout",
       "text": [
        "/Users/Adriaan/Documents/teamdiamond/iPythonNotebooks\n"
       ]
      }
     ],
     "prompt_number": 2
    },
    {
     "cell_type": "code",
     "collapsed": false,
     "input": [
      "cd .."
     ],
     "language": "python",
     "metadata": {},
     "outputs": [
      {
       "output_type": "stream",
       "stream": "stdout",
       "text": [
        "/Users/Adriaan/Documents/teamdiamond\n"
       ]
      }
     ],
     "prompt_number": 3
    },
    {
     "cell_type": "code",
     "collapsed": false,
     "input": [
      "cd analysis/scripts/QEC/MC_Simulations_Adriaan/"
     ],
     "language": "python",
     "metadata": {},
     "outputs": [
      {
       "output_type": "stream",
       "stream": "stdout",
       "text": [
        "/Users/Adriaan/Documents/teamdiamond/analysis/scripts/QEC/MC_Simulations_Adriaan\n"
       ]
      }
     ],
     "prompt_number": 4
    },
    {
     "cell_type": "code",
     "collapsed": false,
     "input": [
      "execfile('analyse_raw_data.py')"
     ],
     "language": "python",
     "metadata": {},
     "outputs": [
      {
       "output_type": "stream",
       "stream": "stdout",
       "text": [
        "data already loaded, reset environment when analyzing new data set\n",
        "701 of 1000NV centres rejected"
       ]
      },
      {
       "output_type": "stream",
       "stream": "stdout",
       "text": [
        "\n",
        " Figure saved in /Users/Adriaan/Documents"
       ]
      },
      {
       "output_type": "stream",
       "stream": "stdout",
       "text": [
        "\n"
       ]
      }
     ],
     "prompt_number": 6
    },
    {
     "cell_type": "code",
     "collapsed": false,
     "input": [
      "\n",
      "execfile('analyse_MultipleC_Bfield.py')"
     ],
     "language": "python",
     "metadata": {},
     "outputs": [
      {
       "output_type": "stream",
       "stream": "stdout",
       "text": [
        "loading data from file: simulation_data_3month_report/NV_C13_0.011_Raw_Data_20140130_1543plot_data\n",
        "loading data from file: simulation_data_3month_report/NV_C13_0.003_Raw_Data_20140130_2353plot_data\n",
        "loading data from file: simulation_data_3month_report/NV_C13_0.0011_Raw_Data_20140201_1409plot_data\n",
        " Figure saved in /Users/Adriaan/Documents"
       ]
      },
      {
       "output_type": "stream",
       "stream": "stdout",
       "text": [
        "\n"
       ]
      }
     ],
     "prompt_number": 34
    },
    {
     "cell_type": "code",
     "collapsed": false,
     "input": [
      "execfile('analyse_raw_data.py')"
     ],
     "language": "python",
     "metadata": {},
     "outputs": [
      {
       "output_type": "stream",
       "stream": "stdout",
       "text": [
        "data already loaded, reset environment when analyzing new data set\n",
        "701 of 1000NV centres rejected"
       ]
      },
      {
       "output_type": "stream",
       "stream": "stdout",
       "text": [
        "\n",
        " Figure saved in /Users/Adriaan/Documents"
       ]
      },
      {
       "output_type": "stream",
       "stream": "stdout",
       "text": [
        "\n"
       ]
      }
     ],
     "prompt_number": 16
    },
    {
     "cell_type": "code",
     "collapsed": false,
     "input": [
      "import numpy as np \n",
      "1/(np.sqrt(299))"
     ],
     "language": "python",
     "metadata": {},
     "outputs": [
      {
       "metadata": {},
       "output_type": "pyout",
       "prompt_number": 17,
       "text": [
        "0.05783149319662402"
       ]
      }
     ],
     "prompt_number": 17
    },
    {
     "cell_type": "code",
     "collapsed": false,
     "input": [],
     "language": "python",
     "metadata": {},
     "outputs": []
    }
   ],
   "metadata": {}
  }
 ]
}